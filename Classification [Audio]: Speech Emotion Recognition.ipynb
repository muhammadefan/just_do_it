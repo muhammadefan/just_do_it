{
  "nbformat": 4,
  "nbformat_minor": 0,
  "metadata": {
    "colab": {
      "name": "speech emotion recognition.ipynb",
      "provenance": [],
      "collapsed_sections": [
        "FkWOc49QJCI7",
        "5T0OIx9JQf0Y",
        "2gvCp_OwLC54",
        "DzKqsfXRLGfR",
        "8t26ccOyXb6X"
      ],
      "mount_file_id": "1ZwzVMMkLaU5hs3KhiiaHS4IAosJ898dj",
      "authorship_tag": "ABX9TyNSLMfXAgVXS/MufmndaoeF",
      "include_colab_link": true
    },
    "kernelspec": {
      "display_name": "Python 3",
      "name": "python3"
    },
    "language_info": {
      "name": "python"
    }
  },
  "cells": [
    {
      "cell_type": "markdown",
      "metadata": {
        "id": "view-in-github",
        "colab_type": "text"
      },
      "source": [
        "<a href=\"https://colab.research.google.com/github/muhammadefan/just_do_it/blob/main/speech_emotion_recognition.ipynb\" target=\"_parent\"><img src=\"https://colab.research.google.com/assets/colab-badge.svg\" alt=\"Open In Colab\"/></a>"
      ]
    },
    {
      "cell_type": "markdown",
      "metadata": {
        "id": "RPfNOxa0eCDE"
      },
      "source": [
        "by Muhammad Efan Abdulfattah\n",
        "\n",
        "here i am using: SETT dataset (https://www.kaggle.com/ejlok1/toronto-emotional-speech-set-tess)\n"
      ]
    },
    {
      "cell_type": "markdown",
      "metadata": {
        "id": "FkWOc49QJCI7"
      },
      "source": [
        "#### Data Preparation & Preprocessing"
      ]
    },
    {
      "cell_type": "code",
      "metadata": {
        "id": "NbNqkhJ6Caoi"
      },
      "source": [
        "# import some libraries\n",
        "import matplotlib.pyplot as plt # visualization\n",
        "import seaborn as sns # more visualization\n",
        "import pandas as pd # tabular data processing\n",
        "import numpy as np\n",
        "import librosa # audio processing\n",
        "import os\n",
        "import csv\n",
        "import warnings\n",
        "\n",
        "warnings.filterwarnings('ignore') #, category=DeprecationWarning"
      ],
      "execution_count": null,
      "outputs": []
    },
    {
      "cell_type": "markdown",
      "metadata": {
        "id": "V3jiH0mcLH-5"
      },
      "source": [
        "**Data Acquisition**"
      ]
    },
    {
      "cell_type": "code",
      "metadata": {
        "id": "5HUB38Il7n5k"
      },
      "source": [
        "# function for downloading dataset\n",
        "def downloadData():\n",
        "  # to check present working directory\n",
        "  # %pwd\n",
        "\n",
        "  # change directory to ...\n",
        "  %cd '/content/drive/MyDrive/learning py/dataset'\n",
        "\n",
        "  # to enable in accessing kaggle.json\n",
        "  os.environ['KAGGLE_CONFIG_DIR'] = '/content/drive/MyDrive/learning py/dataset'\n",
        "\n",
        "  # download dataset and stored it to current directory\n",
        "  !kaggle datasets download -d ejlok1/toronto-emotional-speech-set-tess\n",
        "\n",
        "  # un-zip the zip files, then remove it\n",
        "  !unzip \\*.zip && rm *.zip\n",
        "\n",
        "\n",
        "# execute the function\n",
        "# downloadData()"
      ],
      "execution_count": null,
      "outputs": []
    },
    {
      "cell_type": "markdown",
      "metadata": {
        "id": "L-G4ODEmMGst"
      },
      "source": [
        "**Path Defining**"
      ]
    },
    {
      "cell_type": "code",
      "metadata": {
        "id": "9fqXuUkQ7lu_",
        "colab": {
          "base_uri": "https://localhost:8080/"
        },
        "outputId": "e2b755e8-f526-41cd-a7db-6fa93d7bf053"
      },
      "source": [
        "# MAKE SURE YOU HAVE DEFINED THE RIGHT PATH TO WHERE YOUR DATA ARE STORED\n",
        "path='/content/drive/MyDrive/learning py/dataset/TESS dataset/'\n",
        "csv_path = '/content/drive/MyDrive/learning py/dataset/'\n",
        "# check what inside the directory\n",
        "os.listdir(path)"
      ],
      "execution_count": null,
      "outputs": [
        {
          "output_type": "execute_result",
          "data": {
            "text/plain": [
              "['OAF_Fear',\n",
              " 'OAF_Pleasant_surprise',\n",
              " 'OAF_Sad',\n",
              " 'OAF_angry',\n",
              " 'OAF_disgust',\n",
              " 'OAF_happy',\n",
              " 'OAF_neutral',\n",
              " 'YAF_angry',\n",
              " 'YAF_disgust',\n",
              " 'YAF_fear',\n",
              " 'YAF_happy',\n",
              " 'YAF_neutral',\n",
              " 'YAF_pleasant_surprised',\n",
              " 'YAF_sad']"
            ]
          },
          "metadata": {
            "tags": []
          },
          "execution_count": 10
        }
      ]
    },
    {
      "cell_type": "markdown",
      "metadata": {
        "id": "T0SWIbfPJaxk"
      },
      "source": [
        "#####**Feature Extraction**"
      ]
    },
    {
      "cell_type": "code",
      "metadata": {
        "id": "aQd3wKFFFZws"
      },
      "source": [
        "# create a function for exctracting some features from the dataset\n",
        "def feature_extraction(pathDirectory, csvFileName, savingLocation=csv_path):\n",
        "  features = 'folder_name filename chroma_stft rmse spectral_centroid spectral_bandwidth rolloff zero_crossing_rate'\n",
        "  \n",
        "  # adding mfcc's columns (mfcc1, mfcc2, mfcc3, etc.)\n",
        "  for i in range(1,21):\n",
        "    features += f' mfcc{i}'\n",
        "  # adding label's column\n",
        "  features += ' label'\n",
        "  # split the features name\n",
        "  features = features.split(sep=' ') # whitespace separator\n",
        "  \n",
        "  # create and open csv file\n",
        "  file = open(savingLocation+csvFileName, 'w', newline='')\n",
        "  write = csv.writer(file)\n",
        "  write.writerow(features)\n",
        "\n",
        "  # load multiple audio files\n",
        "  for folderName in os.listdir(pathDirectory):\n",
        "    for filename in os.listdir(pathDirectory+folderName):\n",
        "      audio_file = f'{pathDirectory}{folderName}/{filename}'\n",
        "      y, sr = librosa.load(audio_file, duration=30) # y = signal\n",
        "\n",
        "      # remove leading and trailing silence\n",
        "      y, idx = librosa.effects.trim(y)\n",
        "\n",
        "      # features extraction\n",
        "      chroma_stft = librosa.feature.chroma_stft(y=y, sr=sr)\n",
        "      rmse = librosa.feature.rms(y=y)\n",
        "      spec_ct = librosa.feature.spectral_centroid(y=y, sr=sr)\n",
        "      spec_bw = librosa.feature.spectral_bandwidth(y=y, sr=sr)\n",
        "      rolloff = librosa.feature.spectral_rolloff(y=y, sr=sr)\n",
        "      zcr = librosa.feature.zero_crossing_rate(y=y)\n",
        "      mfccs = librosa.feature.mfcc(y=y, sr=sr)\n",
        "      \n",
        "      # append those variables above into csv file\n",
        "      to_append = f'{folderName} {filename} {np.mean(chroma_stft)} {np.mean(rmse)} {np.mean(spec_ct)} {np.mean(spec_bw)} {np.mean(rolloff)} {np.mean(zcr)}'\n",
        "      ## mfcc features\n",
        "      for mfcc in mfccs:\n",
        "        to_append += f' {np.mean(mfcc)}'\n",
        "      \n",
        "      write.writerow(to_append.split())\n",
        "\n",
        "  # close csv file\n",
        "  file.close()\n",
        "  print(f'{csvFileName} File Succesfully Created!\\n')"
      ],
      "execution_count": null,
      "outputs": []
    },
    {
      "cell_type": "code",
      "metadata": {
        "id": "-lm3S1-aOkQA",
        "colab": {
          "base_uri": "https://localhost:8080/"
        },
        "outputId": "7fbe5ca4-0372-4df8-ea29-337cce95b2b5"
      },
      "source": [
        "# MAKE SURE TO SET IT PROPERLY, IF YOU DON'T HAVE THE CSV FILE, SET IT TO --> True\n",
        "# create csv file or not?\n",
        "CREATE_CSV_FILE = True # i already possessed the files, so it's False\n",
        "\n",
        "if CREATE_CSV_FILE == True:\n",
        "  feature_extraction(path, 'train.csv')\n",
        "else:\n",
        "  print('Skipped')"
      ],
      "execution_count": null,
      "outputs": [
        {
          "output_type": "stream",
          "text": [
            "train.csv File Succesfully Created!\n",
            "\n"
          ],
          "name": "stdout"
        }
      ]
    },
    {
      "cell_type": "code",
      "metadata": {
        "colab": {
          "base_uri": "https://localhost:8080/",
          "height": 224
        },
        "id": "KMmr1yCDWHzX",
        "outputId": "ed85f447-ebc6-4cc3-bcc9-f3ee14354195"
      },
      "source": [
        "# data preview\n",
        "df = pd.read_csv(csv_path+'train.csv')\n",
        "df.head()"
      ],
      "execution_count": null,
      "outputs": [
        {
          "output_type": "execute_result",
          "data": {
            "text/html": [
              "<div>\n",
              "<style scoped>\n",
              "    .dataframe tbody tr th:only-of-type {\n",
              "        vertical-align: middle;\n",
              "    }\n",
              "\n",
              "    .dataframe tbody tr th {\n",
              "        vertical-align: top;\n",
              "    }\n",
              "\n",
              "    .dataframe thead th {\n",
              "        text-align: right;\n",
              "    }\n",
              "</style>\n",
              "<table border=\"1\" class=\"dataframe\">\n",
              "  <thead>\n",
              "    <tr style=\"text-align: right;\">\n",
              "      <th></th>\n",
              "      <th>folder_name</th>\n",
              "      <th>filename</th>\n",
              "      <th>chroma_stft</th>\n",
              "      <th>rmse</th>\n",
              "      <th>spectral_centroid</th>\n",
              "      <th>spectral_bandwidth</th>\n",
              "      <th>rolloff</th>\n",
              "      <th>zero_crossing_rate</th>\n",
              "      <th>mfcc1</th>\n",
              "      <th>mfcc2</th>\n",
              "      <th>mfcc3</th>\n",
              "      <th>mfcc4</th>\n",
              "      <th>mfcc5</th>\n",
              "      <th>mfcc6</th>\n",
              "      <th>mfcc7</th>\n",
              "      <th>mfcc8</th>\n",
              "      <th>mfcc9</th>\n",
              "      <th>mfcc10</th>\n",
              "      <th>mfcc11</th>\n",
              "      <th>mfcc12</th>\n",
              "      <th>mfcc13</th>\n",
              "      <th>mfcc14</th>\n",
              "      <th>mfcc15</th>\n",
              "      <th>mfcc16</th>\n",
              "      <th>mfcc17</th>\n",
              "      <th>mfcc18</th>\n",
              "      <th>mfcc19</th>\n",
              "      <th>mfcc20</th>\n",
              "      <th>label</th>\n",
              "    </tr>\n",
              "  </thead>\n",
              "  <tbody>\n",
              "    <tr>\n",
              "      <th>0</th>\n",
              "      <td>OAF_Fear</td>\n",
              "      <td>OAF_bar_fear.wav</td>\n",
              "      <td>0.261588</td>\n",
              "      <td>0.027230</td>\n",
              "      <td>2070.955859</td>\n",
              "      <td>2235.694048</td>\n",
              "      <td>3401.508655</td>\n",
              "      <td>0.098198</td>\n",
              "      <td>-434.153473</td>\n",
              "      <td>70.799828</td>\n",
              "      <td>12.416528</td>\n",
              "      <td>-21.082228</td>\n",
              "      <td>-7.378584</td>\n",
              "      <td>5.511951</td>\n",
              "      <td>-12.439829</td>\n",
              "      <td>0.220041</td>\n",
              "      <td>-16.291090</td>\n",
              "      <td>1.564839</td>\n",
              "      <td>-21.285177</td>\n",
              "      <td>-3.604874</td>\n",
              "      <td>-6.357632</td>\n",
              "      <td>3.724327</td>\n",
              "      <td>-6.903087</td>\n",
              "      <td>1.090240</td>\n",
              "      <td>-3.079959</td>\n",
              "      <td>0.332067</td>\n",
              "      <td>-0.539703</td>\n",
              "      <td>-4.573868</td>\n",
              "      <td>NaN</td>\n",
              "    </tr>\n",
              "    <tr>\n",
              "      <th>1</th>\n",
              "      <td>OAF_Fear</td>\n",
              "      <td>OAF_back_fear.wav</td>\n",
              "      <td>0.317041</td>\n",
              "      <td>0.027715</td>\n",
              "      <td>2066.449350</td>\n",
              "      <td>2248.438388</td>\n",
              "      <td>3678.588867</td>\n",
              "      <td>0.095052</td>\n",
              "      <td>-434.784576</td>\n",
              "      <td>62.292271</td>\n",
              "      <td>1.310813</td>\n",
              "      <td>-7.593494</td>\n",
              "      <td>2.342312</td>\n",
              "      <td>3.892958</td>\n",
              "      <td>-14.193316</td>\n",
              "      <td>0.295769</td>\n",
              "      <td>-11.299685</td>\n",
              "      <td>4.518313</td>\n",
              "      <td>-13.447262</td>\n",
              "      <td>-6.320590</td>\n",
              "      <td>-4.544526</td>\n",
              "      <td>-0.445772</td>\n",
              "      <td>-1.291752</td>\n",
              "      <td>2.900441</td>\n",
              "      <td>-5.883135</td>\n",
              "      <td>5.002367</td>\n",
              "      <td>2.602203</td>\n",
              "      <td>-6.823027</td>\n",
              "      <td>NaN</td>\n",
              "    </tr>\n",
              "    <tr>\n",
              "      <th>2</th>\n",
              "      <td>OAF_Fear</td>\n",
              "      <td>OAF_boat_fear.wav</td>\n",
              "      <td>0.295189</td>\n",
              "      <td>0.019072</td>\n",
              "      <td>2225.648327</td>\n",
              "      <td>2353.857427</td>\n",
              "      <td>3932.745916</td>\n",
              "      <td>0.099846</td>\n",
              "      <td>-469.726654</td>\n",
              "      <td>62.456905</td>\n",
              "      <td>19.089554</td>\n",
              "      <td>-2.574088</td>\n",
              "      <td>-2.879203</td>\n",
              "      <td>0.846164</td>\n",
              "      <td>-9.898459</td>\n",
              "      <td>1.825333</td>\n",
              "      <td>-16.056005</td>\n",
              "      <td>-1.097142</td>\n",
              "      <td>-13.853663</td>\n",
              "      <td>-8.575394</td>\n",
              "      <td>-5.209511</td>\n",
              "      <td>4.930333</td>\n",
              "      <td>-1.107614</td>\n",
              "      <td>4.627129</td>\n",
              "      <td>-3.891634</td>\n",
              "      <td>5.947228</td>\n",
              "      <td>-0.632763</td>\n",
              "      <td>1.162557</td>\n",
              "      <td>NaN</td>\n",
              "    </tr>\n",
              "    <tr>\n",
              "      <th>3</th>\n",
              "      <td>OAF_Fear</td>\n",
              "      <td>OAF_bite_fear.wav</td>\n",
              "      <td>0.259389</td>\n",
              "      <td>0.021543</td>\n",
              "      <td>2249.891920</td>\n",
              "      <td>2415.103105</td>\n",
              "      <td>4148.352693</td>\n",
              "      <td>0.100903</td>\n",
              "      <td>-439.211700</td>\n",
              "      <td>60.263371</td>\n",
              "      <td>12.520771</td>\n",
              "      <td>-3.445198</td>\n",
              "      <td>2.283303</td>\n",
              "      <td>2.585925</td>\n",
              "      <td>-11.596494</td>\n",
              "      <td>3.064018</td>\n",
              "      <td>-17.604149</td>\n",
              "      <td>-2.168778</td>\n",
              "      <td>-17.880657</td>\n",
              "      <td>-8.131488</td>\n",
              "      <td>-7.294719</td>\n",
              "      <td>0.939924</td>\n",
              "      <td>-3.133308</td>\n",
              "      <td>2.060867</td>\n",
              "      <td>-2.928276</td>\n",
              "      <td>5.854718</td>\n",
              "      <td>-1.020589</td>\n",
              "      <td>-5.064354</td>\n",
              "      <td>NaN</td>\n",
              "    </tr>\n",
              "    <tr>\n",
              "      <th>4</th>\n",
              "      <td>OAF_Fear</td>\n",
              "      <td>OAF_bean_fear.wav</td>\n",
              "      <td>0.275780</td>\n",
              "      <td>0.018652</td>\n",
              "      <td>2048.621712</td>\n",
              "      <td>2405.538519</td>\n",
              "      <td>3977.644043</td>\n",
              "      <td>0.083733</td>\n",
              "      <td>-491.376404</td>\n",
              "      <td>54.348557</td>\n",
              "      <td>20.316404</td>\n",
              "      <td>9.100837</td>\n",
              "      <td>8.133509</td>\n",
              "      <td>1.166301</td>\n",
              "      <td>-7.156228</td>\n",
              "      <td>2.451611</td>\n",
              "      <td>-14.904309</td>\n",
              "      <td>-2.472068</td>\n",
              "      <td>-18.564545</td>\n",
              "      <td>-5.897095</td>\n",
              "      <td>-2.820896</td>\n",
              "      <td>-1.597409</td>\n",
              "      <td>-3.578752</td>\n",
              "      <td>1.837144</td>\n",
              "      <td>-3.905771</td>\n",
              "      <td>8.383280</td>\n",
              "      <td>4.731544</td>\n",
              "      <td>8.374842</td>\n",
              "      <td>NaN</td>\n",
              "    </tr>\n",
              "  </tbody>\n",
              "</table>\n",
              "</div>"
            ],
            "text/plain": [
              "  folder_name           filename  chroma_stft  ...    mfcc19    mfcc20  label\n",
              "0    OAF_Fear   OAF_bar_fear.wav     0.261588  ... -0.539703 -4.573868    NaN\n",
              "1    OAF_Fear  OAF_back_fear.wav     0.317041  ...  2.602203 -6.823027    NaN\n",
              "2    OAF_Fear  OAF_boat_fear.wav     0.295189  ... -0.632763  1.162557    NaN\n",
              "3    OAF_Fear  OAF_bite_fear.wav     0.259389  ... -1.020589 -5.064354    NaN\n",
              "4    OAF_Fear  OAF_bean_fear.wav     0.275780  ...  4.731544  8.374842    NaN\n",
              "\n",
              "[5 rows x 29 columns]"
            ]
          },
          "metadata": {
            "tags": []
          },
          "execution_count": 16
        }
      ]
    },
    {
      "cell_type": "code",
      "metadata": {
        "id": "oBl-j5lCS0EV",
        "colab": {
          "base_uri": "https://localhost:8080/"
        },
        "outputId": "5d507bd0-1ef2-45fe-e6a7-f5974aeedbea"
      },
      "source": [
        "df.folder_name.unique()"
      ],
      "execution_count": null,
      "outputs": [
        {
          "output_type": "execute_result",
          "data": {
            "text/plain": [
              "array(['OAF_Fear', 'OAF_Pleasant_surprise', 'OAF_Sad', 'OAF_angry',\n",
              "       'OAF_disgust', 'OAF_happy', 'OAF_neutral', 'YAF_angry',\n",
              "       'YAF_disgust', 'YAF_fear', 'YAF_happy', 'YAF_neutral',\n",
              "       'YAF_pleasant_surprised', 'YAF_sad'], dtype=object)"
            ]
          },
          "metadata": {
            "tags": []
          },
          "execution_count": 17
        }
      ]
    },
    {
      "cell_type": "code",
      "metadata": {
        "id": "QtfnlQ-dSnoo",
        "colab": {
          "base_uri": "https://localhost:8080/"
        },
        "outputId": "324c8fe5-b7b4-4143-e69e-3e4e8e946241"
      },
      "source": [
        "df.label.isna().sum()"
      ],
      "execution_count": null,
      "outputs": [
        {
          "output_type": "execute_result",
          "data": {
            "text/plain": [
              "2800"
            ]
          },
          "metadata": {
            "tags": []
          },
          "execution_count": 18
        }
      ]
    },
    {
      "cell_type": "markdown",
      "metadata": {
        "id": "FHMOk9FVJXqB"
      },
      "source": [
        "#####**Labelling**"
      ]
    },
    {
      "cell_type": "code",
      "metadata": {
        "id": "1-N6Ei7jKYwB"
      },
      "source": [
        "# create a function for labelling the train dataset\n",
        "def preprocess(csvFileName):\n",
        "  # create dataframe\n",
        "  df = pd.read_csv(csvFileName)\n",
        "\n",
        "  # finding label\n",
        "  label_container = []\n",
        "  for i in range(len(df['folder_name'])):\n",
        "    emotion = df['folder_name'][i][4:]\n",
        "    if emotion == 'Fear' or emotion == 'fear':\n",
        "      label = 0\n",
        "    elif emotion == 'Pleasant_surprise' or emotion == 'pleasant_surprised':\n",
        "      label = 1\n",
        "    elif emotion == 'Sad' or emotion == 'sad':\n",
        "      label = 2\n",
        "    elif emotion == 'angry':\n",
        "      label = 3\n",
        "    elif emotion == 'disgust':\n",
        "      label = 4\n",
        "    elif emotion == 'happy':\n",
        "      label = 5\n",
        "    elif emotion == 'neutral':\n",
        "      label = 6\n",
        "    else:\n",
        "      pass\n",
        "    label_container.append(label)\n",
        "\n",
        "  # data imputation\n",
        "  df['label'] = label_container\n",
        "  # drop unnecessary column\n",
        "  df.drop('filename', axis=1, inplace=True)\n",
        "\n",
        "  print('Successfully Preprocessed!')\n",
        "  return df"
      ],
      "execution_count": null,
      "outputs": []
    },
    {
      "cell_type": "code",
      "metadata": {
        "id": "CPJYF2kiLLAa",
        "colab": {
          "base_uri": "https://localhost:8080/"
        },
        "outputId": "fbb226d7-14c7-4f44-d491-f89be04ceb82"
      },
      "source": [
        "# run the preprocess function\n",
        "df_train = preprocess(csv_path+'train.csv')"
      ],
      "execution_count": null,
      "outputs": [
        {
          "output_type": "stream",
          "text": [
            "Successfully Preprocessed!\n"
          ],
          "name": "stdout"
        }
      ]
    },
    {
      "cell_type": "code",
      "metadata": {
        "id": "bTPIdWgALPp4",
        "colab": {
          "base_uri": "https://localhost:8080/"
        },
        "outputId": "3c8b891a-403b-4936-821a-9fdc3df28dde"
      },
      "source": [
        "## DATA CHECKING\n",
        "# uniqueness of the label\n",
        "print(f'Training Dataset Label : {df_train.label.unique()}\\n')\n",
        "\n",
        "# labelled data\n",
        "for i in range(7):\n",
        "  print(f'label {i} --> {df_train[df_train.label == i].folder_name.unique()}')\n",
        "\n",
        "\n",
        "# since it has known that labelling process's succed, do this\n",
        "# drop 'folder_name'\n",
        "df_train.drop('folder_name', axis=1, inplace=True)"
      ],
      "execution_count": null,
      "outputs": [
        {
          "output_type": "stream",
          "text": [
            "Training Dataset Label : [0 1 2 3 4 5 6]\n",
            "\n",
            "label 0 --> ['OAF_Fear' 'YAF_fear']\n",
            "label 1 --> ['OAF_Pleasant_surprise' 'YAF_pleasant_surprised']\n",
            "label 2 --> ['OAF_Sad' 'YAF_sad']\n",
            "label 3 --> ['OAF_angry' 'YAF_angry']\n",
            "label 4 --> ['OAF_disgust' 'YAF_disgust']\n",
            "label 5 --> ['OAF_happy' 'YAF_happy']\n",
            "label 6 --> ['OAF_neutral' 'YAF_neutral']\n"
          ],
          "name": "stdout"
        }
      ]
    },
    {
      "cell_type": "code",
      "metadata": {
        "id": "gXNOfOE_ebgn",
        "colab": {
          "base_uri": "https://localhost:8080/",
          "height": 224
        },
        "outputId": "75cce9ce-8bfa-40a7-cfc1-80d13f03352d"
      },
      "source": [
        "# data preview\n",
        "df_train.head()"
      ],
      "execution_count": null,
      "outputs": [
        {
          "output_type": "execute_result",
          "data": {
            "text/html": [
              "<div>\n",
              "<style scoped>\n",
              "    .dataframe tbody tr th:only-of-type {\n",
              "        vertical-align: middle;\n",
              "    }\n",
              "\n",
              "    .dataframe tbody tr th {\n",
              "        vertical-align: top;\n",
              "    }\n",
              "\n",
              "    .dataframe thead th {\n",
              "        text-align: right;\n",
              "    }\n",
              "</style>\n",
              "<table border=\"1\" class=\"dataframe\">\n",
              "  <thead>\n",
              "    <tr style=\"text-align: right;\">\n",
              "      <th></th>\n",
              "      <th>chroma_stft</th>\n",
              "      <th>rmse</th>\n",
              "      <th>spectral_centroid</th>\n",
              "      <th>spectral_bandwidth</th>\n",
              "      <th>rolloff</th>\n",
              "      <th>zero_crossing_rate</th>\n",
              "      <th>mfcc1</th>\n",
              "      <th>mfcc2</th>\n",
              "      <th>mfcc3</th>\n",
              "      <th>mfcc4</th>\n",
              "      <th>mfcc5</th>\n",
              "      <th>mfcc6</th>\n",
              "      <th>mfcc7</th>\n",
              "      <th>mfcc8</th>\n",
              "      <th>mfcc9</th>\n",
              "      <th>mfcc10</th>\n",
              "      <th>mfcc11</th>\n",
              "      <th>mfcc12</th>\n",
              "      <th>mfcc13</th>\n",
              "      <th>mfcc14</th>\n",
              "      <th>mfcc15</th>\n",
              "      <th>mfcc16</th>\n",
              "      <th>mfcc17</th>\n",
              "      <th>mfcc18</th>\n",
              "      <th>mfcc19</th>\n",
              "      <th>mfcc20</th>\n",
              "      <th>label</th>\n",
              "    </tr>\n",
              "  </thead>\n",
              "  <tbody>\n",
              "    <tr>\n",
              "      <th>0</th>\n",
              "      <td>0.261588</td>\n",
              "      <td>0.027230</td>\n",
              "      <td>2070.955859</td>\n",
              "      <td>2235.694048</td>\n",
              "      <td>3401.508655</td>\n",
              "      <td>0.098198</td>\n",
              "      <td>-434.153473</td>\n",
              "      <td>70.799828</td>\n",
              "      <td>12.416528</td>\n",
              "      <td>-21.082228</td>\n",
              "      <td>-7.378584</td>\n",
              "      <td>5.511951</td>\n",
              "      <td>-12.439829</td>\n",
              "      <td>0.220041</td>\n",
              "      <td>-16.291090</td>\n",
              "      <td>1.564839</td>\n",
              "      <td>-21.285177</td>\n",
              "      <td>-3.604874</td>\n",
              "      <td>-6.357632</td>\n",
              "      <td>3.724327</td>\n",
              "      <td>-6.903087</td>\n",
              "      <td>1.090240</td>\n",
              "      <td>-3.079959</td>\n",
              "      <td>0.332067</td>\n",
              "      <td>-0.539703</td>\n",
              "      <td>-4.573868</td>\n",
              "      <td>0</td>\n",
              "    </tr>\n",
              "    <tr>\n",
              "      <th>1</th>\n",
              "      <td>0.317041</td>\n",
              "      <td>0.027715</td>\n",
              "      <td>2066.449350</td>\n",
              "      <td>2248.438388</td>\n",
              "      <td>3678.588867</td>\n",
              "      <td>0.095052</td>\n",
              "      <td>-434.784576</td>\n",
              "      <td>62.292271</td>\n",
              "      <td>1.310813</td>\n",
              "      <td>-7.593494</td>\n",
              "      <td>2.342312</td>\n",
              "      <td>3.892958</td>\n",
              "      <td>-14.193316</td>\n",
              "      <td>0.295769</td>\n",
              "      <td>-11.299685</td>\n",
              "      <td>4.518313</td>\n",
              "      <td>-13.447262</td>\n",
              "      <td>-6.320590</td>\n",
              "      <td>-4.544526</td>\n",
              "      <td>-0.445772</td>\n",
              "      <td>-1.291752</td>\n",
              "      <td>2.900441</td>\n",
              "      <td>-5.883135</td>\n",
              "      <td>5.002367</td>\n",
              "      <td>2.602203</td>\n",
              "      <td>-6.823027</td>\n",
              "      <td>0</td>\n",
              "    </tr>\n",
              "    <tr>\n",
              "      <th>2</th>\n",
              "      <td>0.295189</td>\n",
              "      <td>0.019072</td>\n",
              "      <td>2225.648327</td>\n",
              "      <td>2353.857427</td>\n",
              "      <td>3932.745916</td>\n",
              "      <td>0.099846</td>\n",
              "      <td>-469.726654</td>\n",
              "      <td>62.456905</td>\n",
              "      <td>19.089554</td>\n",
              "      <td>-2.574088</td>\n",
              "      <td>-2.879203</td>\n",
              "      <td>0.846164</td>\n",
              "      <td>-9.898459</td>\n",
              "      <td>1.825333</td>\n",
              "      <td>-16.056005</td>\n",
              "      <td>-1.097142</td>\n",
              "      <td>-13.853663</td>\n",
              "      <td>-8.575394</td>\n",
              "      <td>-5.209511</td>\n",
              "      <td>4.930333</td>\n",
              "      <td>-1.107614</td>\n",
              "      <td>4.627129</td>\n",
              "      <td>-3.891634</td>\n",
              "      <td>5.947228</td>\n",
              "      <td>-0.632763</td>\n",
              "      <td>1.162557</td>\n",
              "      <td>0</td>\n",
              "    </tr>\n",
              "    <tr>\n",
              "      <th>3</th>\n",
              "      <td>0.259389</td>\n",
              "      <td>0.021543</td>\n",
              "      <td>2249.891920</td>\n",
              "      <td>2415.103105</td>\n",
              "      <td>4148.352693</td>\n",
              "      <td>0.100903</td>\n",
              "      <td>-439.211700</td>\n",
              "      <td>60.263371</td>\n",
              "      <td>12.520771</td>\n",
              "      <td>-3.445198</td>\n",
              "      <td>2.283303</td>\n",
              "      <td>2.585925</td>\n",
              "      <td>-11.596494</td>\n",
              "      <td>3.064018</td>\n",
              "      <td>-17.604149</td>\n",
              "      <td>-2.168778</td>\n",
              "      <td>-17.880657</td>\n",
              "      <td>-8.131488</td>\n",
              "      <td>-7.294719</td>\n",
              "      <td>0.939924</td>\n",
              "      <td>-3.133308</td>\n",
              "      <td>2.060867</td>\n",
              "      <td>-2.928276</td>\n",
              "      <td>5.854718</td>\n",
              "      <td>-1.020589</td>\n",
              "      <td>-5.064354</td>\n",
              "      <td>0</td>\n",
              "    </tr>\n",
              "    <tr>\n",
              "      <th>4</th>\n",
              "      <td>0.275780</td>\n",
              "      <td>0.018652</td>\n",
              "      <td>2048.621712</td>\n",
              "      <td>2405.538519</td>\n",
              "      <td>3977.644043</td>\n",
              "      <td>0.083733</td>\n",
              "      <td>-491.376404</td>\n",
              "      <td>54.348557</td>\n",
              "      <td>20.316404</td>\n",
              "      <td>9.100837</td>\n",
              "      <td>8.133509</td>\n",
              "      <td>1.166301</td>\n",
              "      <td>-7.156228</td>\n",
              "      <td>2.451611</td>\n",
              "      <td>-14.904309</td>\n",
              "      <td>-2.472068</td>\n",
              "      <td>-18.564545</td>\n",
              "      <td>-5.897095</td>\n",
              "      <td>-2.820896</td>\n",
              "      <td>-1.597409</td>\n",
              "      <td>-3.578752</td>\n",
              "      <td>1.837144</td>\n",
              "      <td>-3.905771</td>\n",
              "      <td>8.383280</td>\n",
              "      <td>4.731544</td>\n",
              "      <td>8.374842</td>\n",
              "      <td>0</td>\n",
              "    </tr>\n",
              "  </tbody>\n",
              "</table>\n",
              "</div>"
            ],
            "text/plain": [
              "   chroma_stft      rmse  spectral_centroid  ...    mfcc19    mfcc20  label\n",
              "0     0.261588  0.027230        2070.955859  ... -0.539703 -4.573868      0\n",
              "1     0.317041  0.027715        2066.449350  ...  2.602203 -6.823027      0\n",
              "2     0.295189  0.019072        2225.648327  ... -0.632763  1.162557      0\n",
              "3     0.259389  0.021543        2249.891920  ... -1.020589 -5.064354      0\n",
              "4     0.275780  0.018652        2048.621712  ...  4.731544  8.374842      0\n",
              "\n",
              "[5 rows x 27 columns]"
            ]
          },
          "metadata": {
            "tags": []
          },
          "execution_count": 22
        }
      ]
    },
    {
      "cell_type": "markdown",
      "metadata": {
        "id": "ChwsV2azePSp"
      },
      "source": [
        "#####**Data Augmentation**"
      ]
    },
    {
      "cell_type": "code",
      "metadata": {
        "id": "Z-a-ZQl4eRgl"
      },
      "source": [
        "# if you want to get better result, you can try to use some of this kind of data augmentation\n",
        "# but, in this case, i don't use it\n",
        "def noise(data):\n",
        "    noise_amp = 0.05*np.random.uniform()*np.amax(data)\n",
        "    data = data + noise_amp*np.random.normal(size=data.shape[0])\n",
        "    return data\n",
        "\n",
        "def stretch(data, rate=0.6):\n",
        "    return librosa.effects.time_stretch(data, rate)\n",
        "\n",
        "def shift(data):\n",
        "    shift_range = int(np.random.uniform(low = -5, high = 5)*1000)\n",
        "    return np.roll(data, shift_range)\n",
        "\n",
        "def pitch(data, sampling_rate, pitch_factor=0.7):\n",
        "    return librosa.effects.pitch_shift(data, sampling_rate, pitch_factor)"
      ],
      "execution_count": null,
      "outputs": []
    },
    {
      "cell_type": "markdown",
      "metadata": {
        "id": "5T0OIx9JQf0Y"
      },
      "source": [
        "#### Data Modelling"
      ]
    },
    {
      "cell_type": "code",
      "metadata": {
        "id": "APXrjLrLQPMm"
      },
      "source": [
        "# import some libraries\n",
        "from sklearn.model_selection import train_test_split\n",
        "from sklearn.preprocessing import StandardScaler\n",
        "from sklearn.metrics import classification_report,confusion_matrix\n",
        "\n",
        "from keras.models import Sequential\n",
        "from keras.layers import Dense,Dropout\n",
        "from keras.callbacks import EarlyStopping\n",
        "from keras.backend import clear_session"
      ],
      "execution_count": null,
      "outputs": []
    },
    {
      "cell_type": "code",
      "metadata": {
        "id": "xG8SSi9pQezb"
      },
      "source": [
        "# split training data for independent (X), dependent (y) features\n",
        "# training & validating data = 2800 audio files\n",
        "X = df_train.drop('label', axis=1)\n",
        "y = df_train.label\n",
        "\n",
        "\n",
        "# standardize the dataset (training & testing)\n",
        "scaler = StandardScaler()\n",
        "\n",
        "X[:] = scaler.fit_transform(X)\n",
        "\n",
        "\n",
        "# split data for training & validation phase\n",
        "X_train, X_val, y_train, y_val = train_test_split(X, y, test_size=0.3, random_state=1)"
      ],
      "execution_count": null,
      "outputs": []
    },
    {
      "cell_type": "code",
      "metadata": {
        "id": "DdF0iRKLl-fc"
      },
      "source": [
        "# MAKE SURE TO SET THIS CONDITION PROPERLY\n",
        "# if you want to train the model from the beginnig or want to tune the model, set it to TRUE\n",
        "# if you have possesed the 'model-ser.h5' file, you can set it to FALSE\n",
        "SAVE_OR_NOT = False"
      ],
      "execution_count": null,
      "outputs": []
    },
    {
      "cell_type": "markdown",
      "metadata": {
        "id": "rw2585KyWwa-"
      },
      "source": [
        "```\n",
        "If you have gotten model-ser.h5 file, you can go to TESTING PHASE directly!\n",
        "```"
      ]
    },
    {
      "cell_type": "markdown",
      "metadata": {
        "id": "2gvCp_OwLC54"
      },
      "source": [
        "#####**Training Phase**"
      ]
    },
    {
      "cell_type": "code",
      "metadata": {
        "colab": {
          "base_uri": "https://localhost:8080/"
        },
        "id": "0kpiTE8YRVeA",
        "outputId": "3c3d72ac-12d8-4627-87eb-58f4aba31c49"
      },
      "source": [
        "## to clear previous training session\n",
        "clear_session()\n",
        "\n",
        "## create a model\n",
        "model = Sequential([Dense(256, activation='relu', input_shape=(X_train.shape[1],)), # X_train's number of columns\n",
        "                    Dropout(0.5),\n",
        "\n",
        "                    Dense(128, activation='relu'),\n",
        "                    Dropout(0.5),\n",
        "\n",
        "                    Dense(64, activation='relu'),\n",
        "                    Dropout(0.5),\n",
        "                    \n",
        "                    Dense(7, activation='softmax')                    \n",
        "])\n",
        "\n",
        "## print model architecture\n",
        "model.summary()"
      ],
      "execution_count": null,
      "outputs": [
        {
          "output_type": "stream",
          "text": [
            "Model: \"sequential\"\n",
            "_________________________________________________________________\n",
            "Layer (type)                 Output Shape              Param #   \n",
            "=================================================================\n",
            "dense (Dense)                (None, 256)               6912      \n",
            "_________________________________________________________________\n",
            "dropout (Dropout)            (None, 256)               0         \n",
            "_________________________________________________________________\n",
            "dense_1 (Dense)              (None, 128)               32896     \n",
            "_________________________________________________________________\n",
            "dropout_1 (Dropout)          (None, 128)               0         \n",
            "_________________________________________________________________\n",
            "dense_2 (Dense)              (None, 64)                8256      \n",
            "_________________________________________________________________\n",
            "dropout_2 (Dropout)          (None, 64)                0         \n",
            "_________________________________________________________________\n",
            "dense_3 (Dense)              (None, 7)                 455       \n",
            "=================================================================\n",
            "Total params: 48,519\n",
            "Trainable params: 48,519\n",
            "Non-trainable params: 0\n",
            "_________________________________________________________________\n"
          ],
          "name": "stdout"
        }
      ]
    },
    {
      "cell_type": "code",
      "metadata": {
        "colab": {
          "base_uri": "https://localhost:8080/"
        },
        "id": "O0SkxCzbTgGH",
        "outputId": "e20ac860-4cd4-4616-8028-7206e20c93d3"
      },
      "source": [
        "## compiler\n",
        "model.compile(optimizer='adam', loss='sparse_categorical_crossentropy', metrics=['accuracy'])\n",
        "\n",
        "## initiate early stopping for avoiding overfitting\n",
        "es = EarlyStopping(monitor='val_loss', mode='min', verbose=1)\n",
        "\n",
        "## train the model\n",
        "history = model.fit(X_train, y_train, validation_data=(X_val, y_val), epochs=50, batch_size=64, callbacks=[es])"
      ],
      "execution_count": null,
      "outputs": [
        {
          "output_type": "stream",
          "text": [
            "Epoch 1/50\n",
            "31/31 [==============================] - 1s 19ms/step - loss: 1.9722 - accuracy: 0.2059 - val_loss: 1.3926 - val_accuracy: 0.7750\n",
            "Epoch 2/50\n",
            "31/31 [==============================] - 0s 6ms/step - loss: 1.4984 - accuracy: 0.4293 - val_loss: 0.7979 - val_accuracy: 0.9036\n",
            "Epoch 3/50\n",
            "31/31 [==============================] - 0s 6ms/step - loss: 1.0957 - accuracy: 0.5893 - val_loss: 0.3977 - val_accuracy: 0.9464\n",
            "Epoch 4/50\n",
            "31/31 [==============================] - 0s 5ms/step - loss: 0.7645 - accuracy: 0.7395 - val_loss: 0.2202 - val_accuracy: 0.9607\n",
            "Epoch 5/50\n",
            "31/31 [==============================] - 0s 6ms/step - loss: 0.5961 - accuracy: 0.8009 - val_loss: 0.1436 - val_accuracy: 0.9714\n",
            "Epoch 6/50\n",
            "31/31 [==============================] - 0s 5ms/step - loss: 0.4208 - accuracy: 0.8639 - val_loss: 0.0980 - val_accuracy: 0.9762\n",
            "Epoch 7/50\n",
            "31/31 [==============================] - 0s 5ms/step - loss: 0.3747 - accuracy: 0.8835 - val_loss: 0.0845 - val_accuracy: 0.9786\n",
            "Epoch 8/50\n",
            "31/31 [==============================] - 0s 5ms/step - loss: 0.2945 - accuracy: 0.9121 - val_loss: 0.0647 - val_accuracy: 0.9845\n",
            "Epoch 9/50\n",
            "31/31 [==============================] - 0s 5ms/step - loss: 0.3002 - accuracy: 0.9047 - val_loss: 0.0557 - val_accuracy: 0.9798\n",
            "Epoch 10/50\n",
            "31/31 [==============================] - 0s 5ms/step - loss: 0.2595 - accuracy: 0.9185 - val_loss: 0.0510 - val_accuracy: 0.9869\n",
            "Epoch 11/50\n",
            "31/31 [==============================] - 0s 5ms/step - loss: 0.2369 - accuracy: 0.9231 - val_loss: 0.0427 - val_accuracy: 0.9881\n",
            "Epoch 12/50\n",
            "31/31 [==============================] - 0s 5ms/step - loss: 0.2209 - accuracy: 0.9300 - val_loss: 0.0414 - val_accuracy: 0.9893\n",
            "Epoch 13/50\n",
            "31/31 [==============================] - 0s 5ms/step - loss: 0.2111 - accuracy: 0.9354 - val_loss: 0.0349 - val_accuracy: 0.9881\n",
            "Epoch 14/50\n",
            "31/31 [==============================] - 0s 6ms/step - loss: 0.1653 - accuracy: 0.9497 - val_loss: 0.0309 - val_accuracy: 0.9917\n",
            "Epoch 15/50\n",
            "31/31 [==============================] - 0s 5ms/step - loss: 0.1340 - accuracy: 0.9591 - val_loss: 0.0296 - val_accuracy: 0.9917\n",
            "Epoch 16/50\n",
            "31/31 [==============================] - 0s 5ms/step - loss: 0.1479 - accuracy: 0.9455 - val_loss: 0.0270 - val_accuracy: 0.9917\n",
            "Epoch 17/50\n",
            "31/31 [==============================] - 0s 5ms/step - loss: 0.1407 - accuracy: 0.9550 - val_loss: 0.0252 - val_accuracy: 0.9940\n",
            "Epoch 18/50\n",
            "31/31 [==============================] - 0s 5ms/step - loss: 0.1194 - accuracy: 0.9605 - val_loss: 0.0224 - val_accuracy: 0.9940\n",
            "Epoch 19/50\n",
            "31/31 [==============================] - 0s 5ms/step - loss: 0.1239 - accuracy: 0.9646 - val_loss: 0.0219 - val_accuracy: 0.9940\n",
            "Epoch 20/50\n",
            "31/31 [==============================] - 0s 6ms/step - loss: 0.1172 - accuracy: 0.9518 - val_loss: 0.0220 - val_accuracy: 0.9940\n",
            "Epoch 00020: early stopping\n"
          ],
          "name": "stdout"
        }
      ]
    },
    {
      "cell_type": "code",
      "metadata": {
        "colab": {
          "base_uri": "https://localhost:8080/"
        },
        "id": "pW73voEXVLoj",
        "outputId": "26947097-6a46-434c-bb6f-b5672b2fa663"
      },
      "source": [
        "# this condition is derived from SAVE_OR_NOT condition\n",
        "# save the model, or not?\n",
        "if SAVE_OR_NOT == True:\n",
        "  model.save(csv_path+'model-ser.h5')\n",
        "  print('model saved!')\n",
        "elif SAVE_OR_NOT == False:\n",
        "  pass"
      ],
      "execution_count": null,
      "outputs": [
        {
          "output_type": "stream",
          "text": [
            "model saved!\n"
          ],
          "name": "stdout"
        }
      ]
    },
    {
      "cell_type": "markdown",
      "metadata": {
        "id": "DzKqsfXRLGfR"
      },
      "source": [
        "#####**Evaluating Phase**"
      ]
    },
    {
      "cell_type": "code",
      "metadata": {
        "colab": {
          "base_uri": "https://localhost:8080/",
          "height": 279
        },
        "id": "gBj9B0zKXqDq",
        "outputId": "21986339-d407-4b8c-b4ca-6ae8b0c0af25"
      },
      "source": [
        "# training result viz\n",
        "fig, axes = plt.subplots(figsize=(10,4), nrows=1, ncols=2)\n",
        "\n",
        "axes[0].plot(history.history['accuracy'], label='train')\n",
        "axes[0].plot(history.history['val_accuracy'], label='test')\n",
        "axes[0].set_xlabel('epoch')\n",
        "axes[0].set_ylabel('accuracy')\n",
        "axes[0].legend()\n",
        "\n",
        "axes[1].plot(history.history['loss'], label='train')\n",
        "axes[1].plot(history.history['val_loss'], label='test')\n",
        "axes[1].set_xlabel('epoch')\n",
        "axes[1].set_ylabel('loss')\n",
        "axes[1].legend()\n",
        "\n",
        "plt.show()"
      ],
      "execution_count": null,
      "outputs": [
        {
          "output_type": "display_data",
          "data": {
            "image/png": "[encoded data removed]",
            "text/plain": [
              "<Figure size 720x288 with 2 Axes>"
            ]
          },
          "metadata": {
            "tags": [],
            "needs_background": "light"
          }
        }
      ]
    },
    {
      "cell_type": "code",
      "metadata": {
        "colab": {
          "base_uri": "https://localhost:8080/",
          "height": 333
        },
        "id": "zAMEzZiJdVA_",
        "outputId": "fbec2e89-a5e6-4b35-8981-dea11a8c651a"
      },
      "source": [
        "# predicting on validation data\n",
        "y_pred = model.predict_classes(X_val)\n",
        "\n",
        "# evaluate the model\n",
        "cmx = confusion_matrix(y_pred, y_val)\n",
        "\n",
        "color = sns.color_palette('Greens')\n",
        "sns.heatmap(cmx, annot=True, cmap=color, fmt='d')\n",
        "\n",
        "plt.xlabel('predicted')\n",
        "plt.ylabel('actual')\n",
        "\n",
        "plt.show()"
      ],
      "execution_count": null,
      "outputs": [
        {
          "output_type": "stream",
          "text": [
            "/usr/local/lib/python3.7/dist-packages/tensorflow/python/keras/engine/sequential.py:450: UserWarning: `model.predict_classes()` is deprecated and will be removed after 2021-01-01. Please use instead:* `np.argmax(model.predict(x), axis=-1)`,   if your model does multi-class classification   (e.g. if it uses a `softmax` last-layer activation).* `(model.predict(x) > 0.5).astype(\"int32\")`,   if your model does binary classification   (e.g. if it uses a `sigmoid` last-layer activation).\n",
            "  warnings.warn('`model.predict_classes()` is deprecated and '\n"
          ],
          "name": "stderr"
        },
        {
          "output_type": "display_data",
          "data": {
            "image/png": "[encoded data removed]",
            "text/plain": [
              "<Figure size 432x288 with 2 Axes>"
            ]
          },
          "metadata": {
            "tags": [],
            "needs_background": "light"
          }
        }
      ]
    },
    {
      "cell_type": "code",
      "metadata": {
        "colab": {
          "base_uri": "https://localhost:8080/"
        },
        "id": "LHfQ6rkwcknb",
        "outputId": "ba98ebd1-d16b-49c0-faba-16183151d01f"
      },
      "source": [
        "# evaluate the model\n",
        "print(classification_report(y_pred, y_val))"
      ],
      "execution_count": null,
      "outputs": [
        {
          "output_type": "stream",
          "text": [
            "              precision    recall  f1-score   support\n",
            "\n",
            "           0       1.00      0.99      1.00       118\n",
            "           1       0.99      0.98      0.99       121\n",
            "           2       0.99      0.99      0.99       119\n",
            "           3       1.00      1.00      1.00       136\n",
            "           4       1.00      1.00      1.00       107\n",
            "           5       0.98      1.00      0.99       119\n",
            "           6       0.99      0.99      0.99       120\n",
            "\n",
            "    accuracy                           0.99       840\n",
            "   macro avg       0.99      0.99      0.99       840\n",
            "weighted avg       0.99      0.99      0.99       840\n",
            "\n"
          ],
          "name": "stdout"
        }
      ]
    },
    {
      "cell_type": "markdown",
      "metadata": {
        "id": "Kd3olqf9LIe0"
      },
      "source": [
        "#####**Testing Phase**"
      ]
    },
    {
      "cell_type": "code",
      "metadata": {
        "id": "UbKV0cnkV0Jy"
      },
      "source": [
        "from keras.models import load_model"
      ],
      "execution_count": null,
      "outputs": []
    },
    {
      "cell_type": "code",
      "metadata": {
        "colab": {
          "base_uri": "https://localhost:8080/"
        },
        "id": "yzN2kfxoV0E5",
        "outputId": "32d29527-85ac-4ffe-e2a8-bdf6a5b022d5"
      },
      "source": [
        "# this condition is derived from SAVE_OR_NOT condition\n",
        "# load the model, or not?\n",
        "if SAVE_OR_NOT == False:\n",
        "  model = load_model(csv_path+'model-ser.h5')\n",
        "  print('model loaded!')\n",
        "elif SAVE_OR_NOT == True:\n",
        "  print('Skipped')"
      ],
      "execution_count": null,
      "outputs": [
        {
          "output_type": "stream",
          "text": [
            "model loaded!\n"
          ],
          "name": "stdout"
        }
      ]
    },
    {
      "cell_type": "markdown",
      "metadata": {
        "id": "8t26ccOyXb6X"
      },
      "source": [
        "######**Testing on a Random File**"
      ]
    },
    {
      "cell_type": "code",
      "metadata": {
        "id": "kpG1SOq1LqZt"
      },
      "source": [
        "import random\n",
        "import IPython.display as ipd"
      ],
      "execution_count": null,
      "outputs": []
    },
    {
      "cell_type": "code",
      "metadata": {
        "id": "eoho6FlTWoVP"
      },
      "source": [
        "# extract the feature\n",
        "def feature_extraction_test(audioFile, csvFileName):\n",
        "  print(f'Saving {audioFile} features into {csvFileName}')\n",
        "  features = 'chroma_stft rmse spectral_centroid spectral_bandwidth rolloff zero_crossing_rate'\n",
        "  for i in range(1,21):\n",
        "    features += f' mfcc{i}'\n",
        "  features = features.split()\n",
        "  print('Extracted Features:',features) # csv file's columns\n",
        "  \n",
        "  # create and open csv file\n",
        "  file = open(csvFileName, 'w', newline='')\n",
        "  write = csv.writer(file)  \n",
        "  write.writerow(features)\n",
        "\n",
        "  # load the audio file\n",
        "  y, sr = librosa.load(audioFile, duration=30) # y = signal\n",
        "\n",
        "  # remove leading and trailing silence\n",
        "  y, idx = librosa.effects.trim(y)\n",
        "\n",
        "  # features extraction\n",
        "  chroma_stft = librosa.feature.chroma_stft(y=y, sr=sr)\n",
        "  rmse = librosa.feature.rms(y=y)\n",
        "  spec_cent = librosa.feature.spectral_centroid(y=y, sr=sr)\n",
        "  spec_bw = librosa.feature.spectral_bandwidth(y=y, sr=sr)\n",
        "  rolloff = librosa.feature.spectral_rolloff(y=y, sr=sr)\n",
        "  zcr = librosa.feature.zero_crossing_rate(y=y)\n",
        "  mfcc = librosa.feature.mfcc(y=y, sr=sr)\n",
        "  \n",
        "  # append those features into csv file\n",
        "  to_append = f'{np.mean(chroma_stft)} {np.mean(rmse)} {np.mean(spec_cent)} {np.mean(spec_bw)} {np.mean(rolloff)} {np.mean(zcr)}'\n",
        "  for e in mfcc:\n",
        "    to_append += f' {np.mean(e)}'\n",
        "  \n",
        "  write.writerow(to_append.split())\n",
        "\n",
        "  # close csv file\n",
        "  file.close()\n",
        "  print('-'*34,f'\\n{csvFileName} File Succesfully Created!\\n'+'-'*34)"
      ],
      "execution_count": null,
      "outputs": []
    },
    {
      "cell_type": "code",
      "metadata": {
        "id": "s-G0hW-M1Qpm"
      },
      "source": [
        "# naming function\n",
        "def naming(result):\n",
        "  if result == 0:\n",
        "    emotion = 'Fear'\n",
        "  elif result == 1:\n",
        "    emotion = 'Pleasant Surprise'\n",
        "  elif result == 2:\n",
        "    emotion = 'Sad'\n",
        "  elif result == 3:\n",
        "    emotion = 'Angry'\n",
        "  elif result == 4:\n",
        "    emotion = 'Disgust'\n",
        "  elif result == 5:\n",
        "    emotion = 'Happy'\n",
        "  elif result == 6:\n",
        "    emotion = 'Neutral'\n",
        "  else:\n",
        "    emotion = 'Not Identified!'\n",
        "  return 'it is a '+emotion+' Feeling'"
      ],
      "execution_count": null,
      "outputs": []
    },
    {
      "cell_type": "code",
      "metadata": {
        "colab": {
          "base_uri": "https://localhost:8080/",
          "height": 109
        },
        "id": "du4IBAU0LR-6",
        "outputId": "30b6681e-d036-4959-d284-44589ecf794d"
      },
      "source": [
        "# test the model using random .wav file\n",
        "folder = os.listdir(path)\n",
        "folder = folder[random.randint(0, len(folder)-1)]\n",
        "\n",
        "files = os.listdir(path+folder)\n",
        "files = files[random.randint(0,len(files)-1)]\n",
        "\n",
        "# define the path to audiofile\n",
        "audiofile = f'{path}{folder}/{files}'\n",
        "\n",
        "# audiofile preview\n",
        "print(audiofile,end='\\n\\n')\n",
        "# displaying audiofile\n",
        "ipd.Audio(audiofile)"
      ],
      "execution_count": null,
      "outputs": [
        {
          "output_type": "stream",
          "text": [
            "/content/drive/MyDrive/learning py/dataset/TESS dataset/OAF_neutral/OAF_take_neutral.wav\n",
            "\n"
          ],
          "name": "stdout"
        },
        {
          "output_type": "execute_result",
          "data": {
            "text/html": [
              "\n",
              "                <audio controls=\"controls\" >\n",
              "                    <source src=\"data:audio/x-wav;base64,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\" type=\"audio/x-wav\" />\n",
              "                    Your browser does not support the audio element.\n",
              "                </audio>\n",
              "              "
            ],
            "text/plain": [
              "<IPython.lib.display.Audio object>"
            ]
          },
          "metadata": {
            "tags": []
          },
          "execution_count": 62
        }
      ]
    },
    {
      "cell_type": "code",
      "metadata": {
        "colab": {
          "base_uri": "https://localhost:8080/",
          "height": 140
        },
        "id": "KT1lzTq1PCgH",
        "outputId": "d6645168-b756-49c7-9afd-48d6e9e48482"
      },
      "source": [
        "# extract the audio\n",
        "feature_extraction_test(audiofile,f'number-{files[0]}-test.csv')\n",
        "\n",
        "# read the data\n",
        "df_single_test = pd.read_csv(f'number-{files[0]}-test.csv')\n",
        "\n",
        "# standardize the data\n",
        "df_single_test[:] = scaler.transform(df_single_test)\n",
        "\n",
        "# predict the data\n",
        "result = model.predict_classes(df_single_test)\n",
        "\n",
        "# result showing\n",
        "naming(result[0])"
      ],
      "execution_count": null,
      "outputs": [
        {
          "output_type": "stream",
          "text": [
            "Saving /content/drive/MyDrive/learning py/dataset/TESS dataset/OAF_neutral/OAF_take_neutral.wav features into number-O-test.csv\n",
            "Extracted Features: ['chroma_stft', 'rmse', 'spectral_centroid', 'spectral_bandwidth', 'rolloff', 'zero_crossing_rate', 'mfcc1', 'mfcc2', 'mfcc3', 'mfcc4', 'mfcc5', 'mfcc6', 'mfcc7', 'mfcc8', 'mfcc9', 'mfcc10', 'mfcc11', 'mfcc12', 'mfcc13', 'mfcc14', 'mfcc15', 'mfcc16', 'mfcc17', 'mfcc18', 'mfcc19', 'mfcc20']\n",
            "---------------------------------- \n",
            "number-O-test.csv File Succesfully Created!\n",
            "----------------------------------\n"
          ],
          "name": "stdout"
        },
        {
          "output_type": "execute_result",
          "data": {
            "application/vnd.google.colaboratory.intrinsic+json": {
              "type": "string"
            },
            "text/plain": [
              "'it is a Neutral Feeling'"
            ]
          },
          "metadata": {
            "tags": []
          },
          "execution_count": 63
        }
      ]
    },
    {
      "cell_type": "markdown",
      "metadata": {
        "id": "sgYyMqvrAfQG"
      },
      "source": [
        "######**Testing on a New Audio File**"
      ]
    },
    {
      "cell_type": "code",
      "metadata": {
        "id": "iN8wWEfPpdih"
      },
      "source": [
        "# all imports\n",
        "from IPython.display import Javascript\n",
        "from google.colab import output\n",
        "from base64 import b64decode\n",
        "from io import BytesIO"
      ],
      "execution_count": null,
      "outputs": []
    },
    {
      "cell_type": "code",
      "metadata": {
        "id": "m-uKjxMa7jvu"
      },
      "source": [
        "# shout out to: https://gist.github.com/korakot/c21c3476c024ad6d56d5f48b0bca92be\n",
        "# for working on this\n",
        "\n",
        "RECORD = \"\"\"\n",
        "const sleep  = time => new Promise(resolve => setTimeout(resolve, time))\n",
        "const b2text = blob => new Promise(resolve => {\n",
        "  const reader = new FileReader()\n",
        "  reader.onloadend = e => resolve(e.srcElement.result)\n",
        "  reader.readAsDataURL(blob)\n",
        "})\n",
        "\n",
        "var record = time => new Promise(async resolve => {\n",
        "  stream = await navigator.mediaDevices.getUserMedia({ audio: true })\n",
        "  recorder = new MediaRecorder(stream)\n",
        "  chunks = []\n",
        "  recorder.ondataavailable = e => chunks.push(e.data)\n",
        "  recorder.start()\n",
        "  await sleep(time)\n",
        "  recorder.onstop = async ()=>{\n",
        "    blob = new Blob(chunks)\n",
        "    text = await b2text(blob)\n",
        "    resolve(text)\n",
        "  }\n",
        "  recorder.stop()\n",
        "})\n",
        "\"\"\""
      ],
      "execution_count": null,
      "outputs": []
    },
    {
      "cell_type": "code",
      "metadata": {
        "id": "ngubiZ0J7rQK",
        "colab": {
          "base_uri": "https://localhost:8080/",
          "height": 52
        },
        "outputId": "c9cc29dd-d647-40c1-b23b-893df35c1041"
      },
      "source": [
        "# create a function for recording & saving an audio data\n",
        "def record(sec=4): # sec -> recording duration\n",
        "  print('say something...')\n",
        "\n",
        "  display(Javascript(RECORD))\n",
        "  s = output.eval_js('record(%d)' % (sec*1000))\n",
        "  b = b64decode(s.split(',')[1])\n",
        "\n",
        "  with open('audio.wav','wb') as f:\n",
        "    f.write(b)\n",
        "  return 'audio.wav'\n",
        "  \n",
        "\n",
        "# run the function\n",
        "record()"
      ],
      "execution_count": null,
      "outputs": [
        {
          "output_type": "stream",
          "text": [
            "say something...\n"
          ],
          "name": "stdout"
        },
        {
          "output_type": "display_data",
          "data": {
            "application/javascript": [
              "\n",
              "const sleep  = time => new Promise(resolve => setTimeout(resolve, time))\n",
              "const b2text = blob => new Promise(resolve => {\n",
              "  const reader = new FileReader()\n",
              "  reader.onloadend = e => resolve(e.srcElement.result)\n",
              "  reader.readAsDataURL(blob)\n",
              "})\n",
              "\n",
              "var record = time => new Promise(async resolve => {\n",
              "  stream = await navigator.mediaDevices.getUserMedia({ audio: true })\n",
              "  recorder = new MediaRecorder(stream)\n",
              "  chunks = []\n",
              "  recorder.ondataavailable = e => chunks.push(e.data)\n",
              "  recorder.start()\n",
              "  await sleep(time)\n",
              "  recorder.onstop = async ()=>{\n",
              "    blob = new Blob(chunks)\n",
              "    text = await b2text(blob)\n",
              "    resolve(text)\n",
              "  }\n",
              "  recorder.stop()\n",
              "})\n"
            ],
            "text/plain": [
              "<IPython.core.display.Javascript object>"
            ]
          },
          "metadata": {
            "tags": []
          }
        },
        {
          "output_type": "execute_result",
          "data": {
            "application/vnd.google.colaboratory.intrinsic+json": {
              "type": "string"
            },
            "text/plain": [
              "'audio.wav'"
            ]
          },
          "metadata": {
            "tags": []
          },
          "execution_count": 53
        }
      ]
    },
    {
      "cell_type": "code",
      "metadata": {
        "colab": {
          "base_uri": "https://localhost:8080/",
          "height": 75
        },
        "id": "KJz8mXCN73tk",
        "outputId": "ef83a6ed-bfb8-4993-9e81-6f3f9b4b62da"
      },
      "source": [
        "# data preview\n",
        "ipd.Audio('audio.wav')"
      ],
      "execution_count": null,
      "outputs": [
        {
          "output_type": "execute_result",
          "data": {
            "text/html": [
              "\n",
              "                <audio controls=\"controls\" >\n",
              "                    <source src=\"data:audio/x-wav;base64,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\" type=\"audio/x-wav\" />\n",
              "                    Your browser does not support the audio element.\n",
              "                </audio>\n",
              "              "
            ],
            "text/plain": [
              "<IPython.lib.display.Audio object>"
            ]
          },
          "metadata": {
            "tags": []
          },
          "execution_count": 54
        }
      ]
    },
    {
      "cell_type": "code",
      "metadata": {
        "id": "xxkLyKG58NSq",
        "colab": {
          "base_uri": "https://localhost:8080/",
          "height": 140
        },
        "outputId": "026ce1a3-3f05-481d-ad09-08fa599bd30e"
      },
      "source": [
        "# extract the audio\n",
        "feature_extraction_test(audiofile,'audio.csv')\n",
        "\n",
        "# read the data\n",
        "df_single_test = pd.read_csv('audio.csv')\n",
        "\n",
        "# standardize the data\n",
        "df_single_test[:] = scaler.transform(df_single_test)\n",
        "\n",
        "# predict the data\n",
        "result = model.predict_classes(df_single_test)\n",
        "\n",
        "# result showing\n",
        "naming(result[0])"
      ],
      "execution_count": null,
      "outputs": [
        {
          "output_type": "stream",
          "text": [
            "Saving /content/drive/MyDrive/learning py/dataset/TESS dataset/OAF_Pleasant_surprise/OAF_life_ps.wav features into audio.csv\n",
            "Extracted Features: ['chroma_stft', 'rmse', 'spectral_centroid', 'spectral_bandwidth', 'rolloff', 'zero_crossing_rate', 'mfcc1', 'mfcc2', 'mfcc3', 'mfcc4', 'mfcc5', 'mfcc6', 'mfcc7', 'mfcc8', 'mfcc9', 'mfcc10', 'mfcc11', 'mfcc12', 'mfcc13', 'mfcc14', 'mfcc15', 'mfcc16', 'mfcc17', 'mfcc18', 'mfcc19', 'mfcc20']\n",
            "---------------------------------- \n",
            "audio.csv File Succesfully Created!\n",
            "----------------------------------\n"
          ],
          "name": "stdout"
        },
        {
          "output_type": "execute_result",
          "data": {
            "application/vnd.google.colaboratory.intrinsic+json": {
              "type": "string"
            },
            "text/plain": [
              "'it is a Pleasant Surprise Feeling'"
            ]
          },
          "metadata": {
            "tags": []
          },
          "execution_count": 55
        }
      ]
    },
    {
      "cell_type": "code",
      "metadata": {
        "id": "RGaCq6UUcdId"
      },
      "source": [
        ""
      ],
      "execution_count": null,
      "outputs": []
    }
  ]
}
