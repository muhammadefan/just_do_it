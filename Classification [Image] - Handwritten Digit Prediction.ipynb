{
  "nbformat": 4,
  "nbformat_minor": 0,
  "metadata": {
    "colab": {
      "name": "handwritten digit classification.ipynb",
      "provenance": [],
      "collapsed_sections": [
        "usmCPt29ippD",
        "SC-3uPtWiw0c",
        "I1mdMI68jLZA",
        "emVdS4OwjOq1",
        "m2NCQviN_Cze",
        "-St88EMM_I9O",
        "ykD9Gc6H_YUC"
      ],
      "mount_file_id": "1YUqEsPtyaaYfKFTorX9AwROLFkqSPziH",
      "authorship_tag": "ABX9TyOKet532uzQTUMSTQ4fEMbD",
      "include_colab_link": true
    },
    "kernelspec": {
      "name": "python3",
      "display_name": "Python 3"
    },
    "language_info": {
      "name": "python"
    }
  },
  "cells": [
    {
      "cell_type": "markdown",
      "metadata": {
        "id": "view-in-github",
        "colab_type": "text"
      },
      "source": [
        "<a href=\"https://colab.research.google.com/github/muhammadefan/just_do_it/blob/main/Classification%20%5BImage%5D%20-%20Handwritten%20Digit%20Prediction.ipynb\" target=\"_parent\"><img src=\"https://colab.research.google.com/assets/colab-badge.svg\" alt=\"Open In Colab\"/></a>"
      ]
    },
    {
      "cell_type": "markdown",
      "metadata": {
        "id": "H05iqbZ5o5f3"
      },
      "source": [
        "by Muhammad Efan Abdulfattah\n",
        "\n",
        "here i'm using MNIST Digit dataset from Keras\n",
        "\n",
        "```\n",
        "this model can be improved again by adding more layers or adding regularization (dropout, lasso or ridge, etc.) or tuning the hyperparams\n",
        "```"
      ]
    },
    {
      "cell_type": "markdown",
      "metadata": {
        "id": "usmCPt29ippD"
      },
      "source": [
        "### Data Preparation"
      ]
    },
    {
      "cell_type": "code",
      "metadata": {
        "id": "2wJw3f8PAUoH"
      },
      "source": [
        "# import library\n",
        "import matplotlib.pyplot as plt\n",
        "import numpy as np\n",
        "import seaborn as sns\n",
        "\n",
        "from keras.datasets import mnist\n",
        "from google.colab.patches import cv2_imshow\n",
        "\n",
        "%matplotlib inline"
      ],
      "execution_count": null,
      "outputs": []
    },
    {
      "cell_type": "code",
      "metadata": {
        "colab": {
          "base_uri": "https://localhost:8080/"
        },
        "id": "3RCtMv5VECbe",
        "outputId": "0143f736-2016-4fad-c403-690725a4fb3d"
      },
      "source": [
        "# load data for training & validation\n",
        "(X_train, y_train), (X_val, y_val) = mnist.load_data()\n",
        "\n",
        "# data shape preview\n",
        "print(f'\\nX_train: {X_train.shape}\\ny_train: {y_train.shape}\\n\\nX_val  : {X_val.shape}\\ny_val  : {y_val.shape}')"
      ],
      "execution_count": null,
      "outputs": [
        {
          "output_type": "stream",
          "text": [
            "Downloading data from https://storage.googleapis.com/tensorflow/tf-keras-datasets/mnist.npz\n",
            "11493376/11490434 [==============================] - 0s 0us/step\n",
            "11501568/11490434 [==============================] - 0s 0us/step\n",
            "\n",
            "X_train: (60000, 28, 28)\n",
            "y_train: (60000,)\n",
            "\n",
            "X_val  : (10000, 28, 28)\n",
            "y_val  : (10000,)\n"
          ],
          "name": "stdout"
        }
      ]
    },
    {
      "cell_type": "code",
      "metadata": {
        "colab": {
          "base_uri": "https://localhost:8080/"
        },
        "id": "y38_MhemwkWn",
        "outputId": "6f1a8ecc-8c75-4e59-b9d0-86499ddb353e"
      },
      "source": [
        "# split training data for training & testing\n",
        "X_train = X_train[:-500] # excluding last 500 data\n",
        "y_train = y_train[:-500]\n",
        "\n",
        "X_test = X_train[-500:] # including last 500 data\n",
        "y_test = y_train[-500:]\n",
        "\n",
        "\n",
        "# final data distribution\n",
        "print(f'X_train: {X_train.shape}\\ny_train: {y_train.shape}\\n\\nX_val  : \\\n",
        "{X_val.shape}\\ny_val  : {y_val.shape}\\n\\nX_test : {X_test.shape}\\ny_test : {y_test.shape}')"
      ],
      "execution_count": null,
      "outputs": [
        {
          "output_type": "stream",
          "text": [
            "X_train: (59500, 28, 28)\n",
            "y_train: (59500,)\n",
            "\n",
            "X_val  : (10000, 28, 28)\n",
            "y_val  : (10000,)\n",
            "\n",
            "X_test : (500, 28, 28)\n",
            "y_test : (500,)\n"
          ],
          "name": "stdout"
        }
      ]
    },
    {
      "cell_type": "code",
      "metadata": {
        "colab": {
          "base_uri": "https://localhost:8080/"
        },
        "id": "ONFB0jUJEJpa",
        "outputId": "082eb504-8186-4e04-b1c2-a63b95727621"
      },
      "source": [
        "# traning data preview\n",
        "n_rows = 2\n",
        "n_cols = 10\n",
        "\n",
        "fig,ax = plt.subplots(figsize=(20,4),nrows=n_rows,ncols=n_cols)\n",
        "\n",
        "for row in range(n_rows):\n",
        "  for col in range(n_cols):\n",
        "    ax[row,col].imshow(X_train[row+col])\n",
        "    ax[row,col].set_title(y_train[row+col])\n",
        "    ax[row,col].axis('off')\n",
        "\n",
        "plt.tight_layout()\n",
        "plt.show()"
      ],
      "execution_count": null,
      "outputs": [
        {
          "output_type": "display_data",
          "data": {
            "image/png": "[encoded data removed]",
            "text/plain": [
              "<Figure size 1440x288 with 20 Axes>"
            ]
          },
          "metadata": {
            "tags": [],
            "needs_background": "light"
          }
        }
      ]
    },
    {
      "cell_type": "code",
      "metadata": {
        "colab": {
          "base_uri": "https://localhost:8080/"
        },
        "id": "WTjEd7vJQQK3",
        "outputId": "f6969f3b-c270-4e6f-a921-139e8c164700"
      },
      "source": [
        "# reshape data\n",
        "X_train = X_train.reshape(X_train.shape[0], X_train.shape[1], X_train.shape[2], 1)\n",
        "X_val = X_val.reshape(X_val.shape[0], X_val.shape[1], X_val.shape[2], 1)\n",
        "X_test = X_test.reshape(X_test.shape[0], X_test.shape[1], X_test.shape[2], 1)\n",
        "\n",
        "# data shape preview\n",
        "print(f'X_train: {X_train.shape}\\nX_val  : {X_val.shape}\\nX_test : {X_test.shape}')"
      ],
      "execution_count": null,
      "outputs": [
        {
          "output_type": "stream",
          "text": [
            "X_train: (59500, 28, 28, 1)\n",
            "X_val  : (10000, 28, 28, 1)\n",
            "X_test : (500, 28, 28, 1)\n"
          ],
          "name": "stdout"
        }
      ]
    },
    {
      "cell_type": "markdown",
      "metadata": {
        "id": "SC-3uPtWiw0c"
      },
      "source": [
        "### Data Modelling"
      ]
    },
    {
      "cell_type": "markdown",
      "metadata": {
        "id": "I1mdMI68jLZA"
      },
      "source": [
        "#### **training phase**"
      ]
    },
    {
      "cell_type": "code",
      "metadata": {
        "id": "z6bO67d-TKsd"
      },
      "source": [
        "from tensorflow.keras.models import Sequential\n",
        "from tensorflow.keras.layers import Conv2D, MaxPooling2D, Flatten, Dense"
      ],
      "execution_count": null,
      "outputs": []
    },
    {
      "cell_type": "code",
      "metadata": {
        "colab": {
          "base_uri": "https://localhost:8080/"
        },
        "id": "5gzbB1UkUxNn",
        "outputId": "c9377bc0-380e-4bce-f7d9-26e2d1d3ec3f"
      },
      "source": [
        "# build model\n",
        "model = Sequential([Conv2D(64, kernel_size=(3,3), input_shape=(28,28,1), activation='relu'),\n",
        "                    MaxPooling2D(),\n",
        "\n",
        "                    Conv2D(64, kernel_size=(3,3), activation='relu'),\n",
        "                    MaxPooling2D(),\n",
        "\n",
        "                    Flatten(),\n",
        "                    Dense(128, activation='relu'),\n",
        "                    Dense(10, activation='softmax')\n",
        "])\n",
        "\n",
        "# model preview\n",
        "model.summary()"
      ],
      "execution_count": null,
      "outputs": [
        {
          "output_type": "stream",
          "text": [
            "Model: \"sequential\"\n",
            "_________________________________________________________________\n",
            "Layer (type)                 Output Shape              Param #   \n",
            "=================================================================\n",
            "conv2d (Conv2D)              (None, 26, 26, 64)        640       \n",
            "_________________________________________________________________\n",
            "max_pooling2d (MaxPooling2D) (None, 13, 13, 64)        0         \n",
            "_________________________________________________________________\n",
            "conv2d_1 (Conv2D)            (None, 11, 11, 64)        36928     \n",
            "_________________________________________________________________\n",
            "max_pooling2d_1 (MaxPooling2 (None, 5, 5, 64)          0         \n",
            "_________________________________________________________________\n",
            "flatten (Flatten)            (None, 1600)              0         \n",
            "_________________________________________________________________\n",
            "dense (Dense)                (None, 128)               204928    \n",
            "_________________________________________________________________\n",
            "dense_1 (Dense)              (None, 10)                1290      \n",
            "=================================================================\n",
            "Total params: 243,786\n",
            "Trainable params: 243,786\n",
            "Non-trainable params: 0\n",
            "_________________________________________________________________\n"
          ],
          "name": "stdout"
        }
      ]
    },
    {
      "cell_type": "code",
      "metadata": {
        "id": "4u3gZ9cpK6h_"
      },
      "source": [
        "# compiling parameters\n",
        "model.compile(optimizer='adam', loss='sparse_categorical_crossentropy', metrics=['accuracy'])"
      ],
      "execution_count": null,
      "outputs": []
    },
    {
      "cell_type": "code",
      "metadata": {
        "colab": {
          "base_uri": "https://localhost:8080/"
        },
        "id": "yjMJ7rIuVr6W",
        "outputId": "26e5542b-02eb-457b-98f6-efde5738b40c"
      },
      "source": [
        "# define path to directory\n",
        "path='/content/drive/MyDrive/superprof/2/'\n",
        "\n",
        "TRAIN_OR_NOT = True\n",
        "if TRAIN_OR_NOT == True:\n",
        "  # training phase\n",
        "  history = model.fit(X_train, y_train,\n",
        "                      validation_data=(X_val, y_val),\n",
        "                      batch_size=32,\n",
        "                      epochs=10,\n",
        "                      verbose=1\n",
        "                      )\n",
        "elif TRAIN_OR_NOT == False:\n",
        "  # load weight\n",
        "  model.load_weights(path+'mnist-weight.h5')\n",
        "  print('weight loaded')"
      ],
      "execution_count": null,
      "outputs": [
        {
          "output_type": "stream",
          "text": [
            "Epoch 1/10\n",
            "1860/1860 [==============================] - 37s 3ms/step - loss: 0.2490 - accuracy: 0.9546 - val_loss: 0.0592 - val_accuracy: 0.9811\n",
            "Epoch 2/10\n",
            "1860/1860 [==============================] - 6s 3ms/step - loss: 0.0611 - accuracy: 0.9815 - val_loss: 0.0506 - val_accuracy: 0.9837\n",
            "Epoch 3/10\n",
            "1860/1860 [==============================] - 6s 3ms/step - loss: 0.0507 - accuracy: 0.9843 - val_loss: 0.0466 - val_accuracy: 0.9849\n",
            "Epoch 4/10\n",
            "1860/1860 [==============================] - 6s 3ms/step - loss: 0.0408 - accuracy: 0.9873 - val_loss: 0.0526 - val_accuracy: 0.9835\n",
            "Epoch 5/10\n",
            "1860/1860 [==============================] - 6s 3ms/step - loss: 0.0324 - accuracy: 0.9896 - val_loss: 0.0456 - val_accuracy: 0.9883\n",
            "Epoch 6/10\n",
            "1860/1860 [==============================] - 6s 3ms/step - loss: 0.0288 - accuracy: 0.9914 - val_loss: 0.0469 - val_accuracy: 0.9870\n",
            "Epoch 7/10\n",
            "1860/1860 [==============================] - 6s 3ms/step - loss: 0.0276 - accuracy: 0.9917 - val_loss: 0.0552 - val_accuracy: 0.9872\n",
            "Epoch 8/10\n",
            "1860/1860 [==============================] - 6s 3ms/step - loss: 0.0208 - accuracy: 0.9934 - val_loss: 0.0511 - val_accuracy: 0.9876\n",
            "Epoch 9/10\n",
            "1860/1860 [==============================] - 6s 3ms/step - loss: 0.0217 - accuracy: 0.9936 - val_loss: 0.0980 - val_accuracy: 0.9819\n",
            "Epoch 10/10\n",
            "1860/1860 [==============================] - 6s 3ms/step - loss: 0.0210 - accuracy: 0.9943 - val_loss: 0.0674 - val_accuracy: 0.9866\n"
          ],
          "name": "stdout"
        }
      ]
    },
    {
      "cell_type": "markdown",
      "metadata": {
        "id": "emVdS4OwjOq1"
      },
      "source": [
        "#### **evaluating phase**"
      ]
    },
    {
      "cell_type": "code",
      "metadata": {
        "id": "9EMelkrp7rgM"
      },
      "source": [
        "from sklearn.metrics import classification_report, confusion_matrix"
      ],
      "execution_count": null,
      "outputs": []
    },
    {
      "cell_type": "code",
      "metadata": {
        "colab": {
          "base_uri": "https://localhost:8080/",
          "height": 297
        },
        "id": "0ZRNoCUZWIoP",
        "outputId": "d399c9ef-023d-401f-9ce0-7ce3f9b4061d"
      },
      "source": [
        "# accuracy and loss trend over epoch\n",
        "try:\n",
        "  fig,ax = plt.subplots(figsize=(10,4), nrows=1, ncols=2)\n",
        "\n",
        "  ax[0].plot(history.history['accuracy'])\n",
        "  ax[0].plot(history.history['val_accuracy'])\n",
        "  ax[0].legend(['train accuracy','val accuracy'])\n",
        "  ax[0].set_xlabel('epochs')\n",
        "  ax[0].set_ylabel('accuracy')\n",
        "\n",
        "  ax[1].plot(history.history['loss'])\n",
        "  ax[1].plot(history.history['val_loss'])\n",
        "  ax[1].legend(['train loss','val loss'])\n",
        "  ax[1].set_xlabel('epochs')\n",
        "  ax[1].set_ylabel('loss')\n",
        "\n",
        "  plt.tight_layout()\n",
        "  plt.show()\n",
        "  \n",
        "except:\n",
        "  print('no data recorded')"
      ],
      "execution_count": null,
      "outputs": [
        {
          "output_type": "display_data",
          "data": {
            "image/png": "[encoded data removed]",
            "text/plain": [
              "<Figure size 720x288 with 2 Axes>"
            ]
          },
          "metadata": {
            "tags": [],
            "needs_background": "light"
          }
        }
      ]
    },
    {
      "cell_type": "code",
      "metadata": {
        "id": "mgIsW0oUlDUm"
      },
      "source": [
        "# do prediction\n",
        "y_pred = model.predict(X_test)\n",
        "\n",
        "# find highest prediction probability for each X_test\n",
        "prediction=[]\n",
        "for pred in y_pred:\n",
        "  prediction.append(np.argmax(pred))\n",
        "\n",
        "# convert it into array\n",
        "prediction = np.array(prediction)"
      ],
      "execution_count": null,
      "outputs": []
    },
    {
      "cell_type": "code",
      "metadata": {
        "colab": {
          "base_uri": "https://localhost:8080/",
          "height": 297
        },
        "id": "wz8C4MYY8BBL",
        "outputId": "6531aca6-3a6f-47fc-bdca-7571e081632b"
      },
      "source": [
        "# show confusion matrix\n",
        "plt.figure(figsize=(8,4))\n",
        "\n",
        "cm = confusion_matrix(prediction,y_test)\n",
        "sns.heatmap(cm,annot=True)\n",
        "\n",
        "plt.tight_layout()\n",
        "plt.show()"
      ],
      "execution_count": null,
      "outputs": [
        {
          "output_type": "display_data",
          "data": {
            "image/png": "[encoded data removed]",
            "text/plain": [
              "<Figure size 576x288 with 2 Axes>"
            ]
          },
          "metadata": {
            "tags": [],
            "needs_background": "light"
          }
        }
      ]
    },
    {
      "cell_type": "code",
      "metadata": {
        "colab": {
          "base_uri": "https://localhost:8080/"
        },
        "id": "y_xI9HRR3S0b",
        "outputId": "7d527617-5b94-4c1b-9fb8-f2d1728bd57d"
      },
      "source": [
        "# more detailed prediction score\n",
        "print(classification_report(prediction,y_test))"
      ],
      "execution_count": null,
      "outputs": [
        {
          "output_type": "stream",
          "text": [
            "              precision    recall  f1-score   support\n",
            "\n",
            "           0       1.00      1.00      1.00        52\n",
            "           1       1.00      1.00      1.00        48\n",
            "           2       1.00      1.00      1.00        53\n",
            "           3       1.00      1.00      1.00        55\n",
            "           4       1.00      1.00      1.00        45\n",
            "           5       1.00      1.00      1.00        46\n",
            "           6       1.00      1.00      1.00        52\n",
            "           7       1.00      1.00      1.00        52\n",
            "           8       1.00      1.00      1.00        48\n",
            "           9       1.00      1.00      1.00        49\n",
            "\n",
            "    accuracy                           1.00       500\n",
            "   macro avg       1.00      1.00      1.00       500\n",
            "weighted avg       1.00      1.00      1.00       500\n",
            "\n"
          ],
          "name": "stdout"
        }
      ]
    },
    {
      "cell_type": "code",
      "metadata": {
        "id": "vBZLaknGA7xt"
      },
      "source": [
        "if TRAIN_OR_NOT == True:\n",
        "  # save model\n",
        "  model.save(path+'mnist-model.h5')\n",
        "  # save weight\n",
        "  model.save_weights(path+'mnist-weight.h5')\n",
        "elif TRAIN_OR_NOT == False:\n",
        "  print('skipped')"
      ],
      "execution_count": null,
      "outputs": []
    },
    {
      "cell_type": "markdown",
      "metadata": {
        "id": "m2NCQviN_Cze"
      },
      "source": [
        "#### **testing phase**"
      ]
    },
    {
      "cell_type": "markdown",
      "metadata": {
        "id": "-St88EMM_I9O"
      },
      "source": [
        "##### **testing on y_test**"
      ]
    },
    {
      "cell_type": "code",
      "metadata": {
        "colab": {
          "base_uri": "https://localhost:8080/",
          "height": 265
        },
        "id": "vpGD2TIQ3Sxg",
        "outputId": "c2b82565-fd44-454d-a8be-4734a0c4a2cc"
      },
      "source": [
        "# predicted data preview\n",
        "n_rows = 2\n",
        "n_cols = 10\n",
        "\n",
        "fig,ax = plt.subplots(figsize=(20,4),nrows=n_rows,ncols=n_cols)\n",
        "\n",
        "for row in range(n_rows):\n",
        "  for col in range(n_cols):\n",
        "    ax[row,col].imshow(X_test[row+col].reshape(28,28))\n",
        "    ax[row,col].set_title(np.argmax(y_pred[row+col]))\n",
        "    ax[row,col].axis('off')\n",
        "\n",
        "plt.tight_layout()\n",
        "plt.show()"
      ],
      "execution_count": null,
      "outputs": [
        {
          "output_type": "display_data",
          "data": {
            "image/png": "[encoded data removed]",
            "text/plain": [
              "<Figure size 1440x288 with 20 Axes>"
            ]
          },
          "metadata": {
            "tags": [],
            "needs_background": "light"
          }
        }
      ]
    },
    {
      "cell_type": "markdown",
      "metadata": {
        "id": "ykD9Gc6H_YUC"
      },
      "source": [
        "##### **testing by drawing number on canvas**"
      ]
    },
    {
      "cell_type": "code",
      "metadata": {
        "id": "Den3e3_t2V7v"
      },
      "source": [
        "import cv2\n",
        "from IPython.display import HTML, Image\n",
        "from google.colab.output import eval_js\n",
        "from base64 import b64decode\n",
        "from PIL import Image"
      ],
      "execution_count": null,
      "outputs": []
    },
    {
      "cell_type": "code",
      "metadata": {
        "colab": {
          "base_uri": "https://localhost:8080/",
          "height": 325
        },
        "id": "VdyNzNZcnBeK",
        "outputId": "3b95f756-01bb-4081-a9e7-1de8b505bfff"
      },
      "source": [
        "canvas_html = \"\"\"\n",
        "<canvas width=%d height=%d style=\"border:1px solid #000000;\"></canvas>\n",
        "<button>Finish</button>\n",
        "<script>\n",
        "var canvas = document.querySelector('canvas')\n",
        "var ctx = canvas.getContext('2d')\n",
        "ctx.lineWidth = %d\n",
        "var button = document.querySelector('button')\n",
        "var mouse = {x: 0, y: 0}\n",
        "canvas.addEventListener('mousemove', function(e) {\n",
        "  mouse.x = e.pageX - this.offsetLeft\n",
        "  mouse.y = e.pageY - this.offsetTop\n",
        "})\n",
        "canvas.onmousedown = ()=>{\n",
        "  ctx.beginPath()\n",
        "  ctx.moveTo(mouse.x, mouse.y)\n",
        "  canvas.addEventListener('mousemove', onPaint)\n",
        "}\n",
        "canvas.onmouseup = ()=>{\n",
        "  canvas.removeEventListener('mousemove', onPaint)\n",
        "}\n",
        "var onPaint = ()=>{\n",
        "  ctx.lineTo(mouse.x, mouse.y)\n",
        "  ctx.stroke()\n",
        "}\n",
        "var data = new Promise(resolve=>{\n",
        "  button.onclick = ()=>{\n",
        "    resolve(canvas.toDataURL('image/png'))\n",
        "  }\n",
        "})\n",
        "</script>\n",
        "\"\"\"\n",
        "\n",
        "def draw(filename='drawing.jpg', w=300, h=300, line_width=20):\n",
        "  display(HTML(canvas_html % (w, h, line_width)))\n",
        "  data = eval_js(\"data\")\n",
        "  binary = b64decode(data.split(',')[1])\n",
        "  with open(filename, 'wb') as f:\n",
        "    f.write(binary)\n",
        "\n",
        "# execute function\n",
        "draw()"
      ],
      "execution_count": null,
      "outputs": [
        {
          "output_type": "display_data",
          "data": {
            "text/html": [
              "\n",
              "<canvas width=300 height=300 style=\"border:1px solid #000000;\"></canvas>\n",
              "<button>Finish</button>\n",
              "<script>\n",
              "var canvas = document.querySelector('canvas')\n",
              "var ctx = canvas.getContext('2d')\n",
              "ctx.lineWidth = 20\n",
              "var button = document.querySelector('button')\n",
              "var mouse = {x: 0, y: 0}\n",
              "canvas.addEventListener('mousemove', function(e) {\n",
              "  mouse.x = e.pageX - this.offsetLeft\n",
              "  mouse.y = e.pageY - this.offsetTop\n",
              "})\n",
              "canvas.onmousedown = ()=>{\n",
              "  ctx.beginPath()\n",
              "  ctx.moveTo(mouse.x, mouse.y)\n",
              "  canvas.addEventListener('mousemove', onPaint)\n",
              "}\n",
              "canvas.onmouseup = ()=>{\n",
              "  canvas.removeEventListener('mousemove', onPaint)\n",
              "}\n",
              "var onPaint = ()=>{\n",
              "  ctx.lineTo(mouse.x, mouse.y)\n",
              "  ctx.stroke()\n",
              "}\n",
              "var data = new Promise(resolve=>{\n",
              "  button.onclick = ()=>{\n",
              "    resolve(canvas.toDataURL('image/png'))\n",
              "  }\n",
              "})\n",
              "</script>\n"
            ],
            "text/plain": [
              "<IPython.core.display.HTML object>"
            ]
          },
          "metadata": {
            "tags": []
          }
        }
      ]
    },
    {
      "cell_type": "code",
      "metadata": {
        "colab": {
          "base_uri": "https://localhost:8080/",
          "height": 331
        },
        "id": "p1BBhunanJky",
        "outputId": "9f1fcf4c-34f5-4643-fcbc-f1a893cd8cec"
      },
      "source": [
        "# load image\n",
        "img = Image.open('drawing.jpg')\n",
        "img = np.array(img)[:,:,3]\n",
        "# resize image\n",
        "img_resize = cv2.resize(img, (28, 28),interpolation = cv2.INTER_AREA) \n",
        "# show image\n",
        "plt.imshow(img_resize, cmap='gray')\n",
        "plt.show()\n",
        "\n",
        "\n",
        "# do prediction\n",
        "y_pred = model.predict(img_resize.reshape((1,28,28,1)))\n",
        "print(f'\\nthe number is: {str(np.argmax(y_pred[0]))}')"
      ],
      "execution_count": null,
      "outputs": [
        {
          "output_type": "display_data",
          "data": {
            "image/png": "[encoded data removed]",
            "text/plain": [
              "<Figure size 432x288 with 1 Axes>"
            ]
          },
          "metadata": {
            "tags": [],
            "needs_background": "light"
          }
        },
        {
          "output_type": "stream",
          "text": [
            "\n",
            "the number is: 1\n"
          ],
          "name": "stdout"
        }
      ]
    }
  ]
}