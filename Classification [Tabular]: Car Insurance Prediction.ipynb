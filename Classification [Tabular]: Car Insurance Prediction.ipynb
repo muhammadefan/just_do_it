{
  "nbformat": 4,
  "nbformat_minor": 0,
  "metadata": {
    "accelerator": "GPU",
    "colab": {
      "name": "Classification: Car Insurance Prediction.ipynb",
      "provenance": [],
      "collapsed_sections": [
        "Fshh3MwmHMpb",
        "7As0WGzMaGmz",
        "MqoD8bNoh9Ho",
        "SBV40G_8jgC1",
        "i4TskCwktyCv",
        "w6X39g3iuZ9Z",
        "vOQdMh0n0Qmm",
        "OzAlA-GJKFTt",
        "n6CRyyq7KSN4",
        "q_ABOTGjPYxh",
        "ev5OlcZRegCF",
        "mf2hZh9O-Vmo",
        "HuCS-3gFPNEO",
        "TswuSsPu_UMJ",
        "SkfPtkQ9_ZdH",
        "CMZUqgXIAtOU",
        "_egGmcMvG1at",
        "g4QkaBPUG3sW",
        "0SN-mgOd-ZNi",
        "kLXpkXCJ0x_q",
        "ivEs8hwV020o",
        "2vVG9whs6Lyh",
        "JYXG3Hew6D9n",
        "Vly3z3nnNeWJ"
      ],
      "mount_file_id": "1mKp5KeTmiVDvzR-KWCp6RWn-MXcH4wIk",
      "authorship_tag": "ABX9TyMnbnQ7lV1yT7Mr2xpUZNSl",
      "include_colab_link": true
    },
    "kernelspec": {
      "display_name": "Python 3",
      "name": "python3"
    },
    "language_info": {
      "name": "python"
    }
  },
  "cells": [
    {
      "cell_type": "markdown",
      "metadata": {
        "id": "view-in-github",
        "colab_type": "text"
      },
      "source": [
        "<a href=\"https://colab.research.google.com/github/muhammadefan/just_do_it/blob/main/Classification%3A%20Car%20Insurance%20Prediction.ipynb\" target=\"_parent\"><img src=\"https://colab.research.google.com/assets/colab-badge.svg\" alt=\"Open In Colab\"/></a>"
      ]
    },
    {
      "cell_type": "markdown",
      "metadata": {
        "id": "EFhF-X9BHVul"
      },
      "source": [
        "## **Car Insurance Prediction**\n",
        "by Muhammad Efan Abdulfattah\n",
        "\n",
        "this work was coming from one of DPhi's Bootcamp: Final Project"
      ]
    },
    {
      "cell_type": "markdown",
      "metadata": {
        "id": "Fshh3MwmHMpb"
      },
      "source": [
        "### 1. Data Preparation"
      ]
    },
    {
      "cell_type": "markdown",
      "metadata": {
        "id": "KpnMUqffTnfN"
      },
      "source": [
        "#### 1.1 Data Loading"
      ]
    },
    {
      "cell_type": "code",
      "metadata": {
        "id": "le22uQJHAMpc"
      },
      "source": [
        "import pandas as pd\n",
        "import matplotlib.pyplot as plt\n",
        "import seaborn as sns\n",
        "import numpy as np\n",
        "import random\n",
        "import os\n",
        "\n",
        "import warnings\n",
        "warnings.filterwarnings('ignore',category=FutureWarning)"
      ],
      "execution_count": null,
      "outputs": []
    },
    {
      "cell_type": "code",
      "metadata": {
        "colab": {
          "base_uri": "https://localhost:8080/"
        },
        "id": "SGlg397a_2ZG",
        "outputId": "097647a5-197c-4074-96a0-17d81be0f257"
      },
      "source": [
        "# define the path to which directory where the file is stored\n",
        "path='/content/drive/MyDrive/learning py/dphi/ds bootcamp/'\n",
        "\n",
        "os.listdir(path)"
      ],
      "execution_count": null,
      "outputs": [
        {
          "output_type": "execute_result",
          "data": {
            "text/plain": [
              "['Untitled0.ipynb',\n",
              " 'Test_data.csv',\n",
              " 'Train_data.csv',\n",
              " 'dphi Final Assignment.ipynb']"
            ]
          },
          "metadata": {
            "tags": []
          },
          "execution_count": 2
        }
      ]
    },
    {
      "cell_type": "code",
      "metadata": {
        "colab": {
          "base_uri": "https://localhost:8080/"
        },
        "id": "5AsWSS3UGPXJ",
        "outputId": "92a0b546-027f-466d-f817-c0e414fc40a0"
      },
      "source": [
        "# load data train\n",
        "df = pd.read_csv(path+'Train_data.csv')\n",
        "df.shape"
      ],
      "execution_count": null,
      "outputs": [
        {
          "output_type": "execute_result",
          "data": {
            "text/plain": [
              "(3102, 18)"
            ]
          },
          "metadata": {
            "tags": []
          },
          "execution_count": 3
        }
      ]
    },
    {
      "cell_type": "code",
      "metadata": {
        "colab": {
          "base_uri": "https://localhost:8080/"
        },
        "id": "4Z8EfCPe_-YF",
        "outputId": "9f75a216-214b-466b-b90c-f29fe5f57efb"
      },
      "source": [
        "# load data test\n",
        "df_test = pd.read_csv(path+'Test_data.csv')\n",
        "df_test.shape"
      ],
      "execution_count": null,
      "outputs": [
        {
          "output_type": "execute_result",
          "data": {
            "text/plain": [
              "(935, 17)"
            ]
          },
          "metadata": {
            "tags": []
          },
          "execution_count": 4
        }
      ]
    },
    {
      "cell_type": "markdown",
      "metadata": {
        "id": "uny8lZMiTHtN"
      },
      "source": [
        "#### 1.2 Data Understanding"
      ]
    },
    {
      "cell_type": "markdown",
      "metadata": {
        "id": "5IUrAfEuHrNR"
      },
      "source": [
        "```\n",
        "age                  : age of the customer\n",
        "job_type             : what job does customer do (categorical)\n",
        "marital_status       : if the customer is married or not (categorical)\n",
        "education_level      : education level of the customer (categorical)\n",
        "default_or_not       : if the customer was able to repay in time or not (0/1)\n",
        "balance_amt          : balance amount of the customer in the bank\n",
        "hoursehold_insurance : if the customer has bought household insurance or not (0/1)\n",
        "car_loan             : if the customer has car loan (0/1)\n",
        "communication        : mode of communication (categorical)\n",
        "last_contact_day     : when the customer was last contacted (day)\n",
        "last_contact_month   : when the customer was last contacted (month)\n",
        "no_of_contacts       : How many times was the customer contacted\n",
        "days_passed          : days passed since the last contact\n",
        "prev_attempts        : how many times was the customer previously contacted \n",
        "outcome              : what was the outcome of the last contact\n",
        "call_start           : call start time\n",
        "call_end             : call end time\n",
        "car_insurance        : if the customer bought car insurance (the target variable)\n",
        "```"
      ]
    },
    {
      "cell_type": "markdown",
      "metadata": {
        "id": "FTl_5quVTYDt"
      },
      "source": [
        "#### 1.3 Data Cleansing"
      ]
    },
    {
      "cell_type": "code",
      "metadata": {
        "colab": {
          "base_uri": "https://localhost:8080/"
        },
        "id": "ABJUnNlGa4-9",
        "outputId": "567e1a5f-c3e8-4b3e-ac38-f203fea51811"
      },
      "source": [
        "df.info()"
      ],
      "execution_count": null,
      "outputs": [
        {
          "output_type": "stream",
          "text": [
            "<class 'pandas.core.frame.DataFrame'>\n",
            "RangeIndex: 3102 entries, 0 to 3101\n",
            "Data columns (total 18 columns):\n",
            " #   Column               Non-Null Count  Dtype  \n",
            "---  ------               --------------  -----  \n",
            " 0   age                  3102 non-null   float64\n",
            " 1   job_type             3091 non-null   object \n",
            " 2   marital_status       3102 non-null   object \n",
            " 3   education_level      2989 non-null   object \n",
            " 4   default_or_not       3102 non-null   int64  \n",
            " 5   balance_amt          3102 non-null   float64\n",
            " 6   household_insurance  3102 non-null   int64  \n",
            " 7   car_loan             3102 non-null   int64  \n",
            " 8   communication        2559 non-null   object \n",
            " 9   last_contact_day     3102 non-null   int64  \n",
            " 10  last_contact_month   3102 non-null   object \n",
            " 11  no_of_contacts       3102 non-null   int64  \n",
            " 12  days_passed          3102 non-null   int64  \n",
            " 13  prev_attempts        3102 non-null   int64  \n",
            " 14  Outcome              751 non-null    object \n",
            " 15  call_start           3102 non-null   object \n",
            " 16  call_end             3102 non-null   object \n",
            " 17  car_insurance        3102 non-null   int64  \n",
            "dtypes: float64(2), int64(8), object(8)\n",
            "memory usage: 436.3+ KB\n"
          ],
          "name": "stdout"
        }
      ]
    },
    {
      "cell_type": "markdown",
      "metadata": {
        "id": "2yj8O4qpa7FS"
      },
      "source": [
        "from the data above, we get information that:\n",
        "1. there are missing values\n",
        "2. 'call_start' and 'call_end' features are object, not datetime, from this we can get duration of calling\n",
        "3. 'age' is float, we need to change it into int"
      ]
    },
    {
      "cell_type": "markdown",
      "metadata": {
        "id": "7As0WGzMaGmz"
      },
      "source": [
        "##### Duplicated Data Checking"
      ]
    },
    {
      "cell_type": "code",
      "metadata": {
        "colab": {
          "base_uri": "https://localhost:8080/"
        },
        "id": "kveZIeXEHjnq",
        "outputId": "1fc7310a-d2a6-4f9a-9e1d-2e3b1432da6f"
      },
      "source": [
        "# duplicated data checking\n",
        "df.duplicated(keep='first').sum()"
      ],
      "execution_count": null,
      "outputs": [
        {
          "output_type": "execute_result",
          "data": {
            "text/plain": [
              "300"
            ]
          },
          "metadata": {
            "tags": []
          },
          "execution_count": 6
        }
      ]
    },
    {
      "cell_type": "code",
      "metadata": {
        "colab": {
          "base_uri": "https://localhost:8080/"
        },
        "id": "WUY-y9QtUDzi",
        "outputId": "77be2ba5-49cf-43b2-d01d-f189d65601a3"
      },
      "source": [
        "# duplicated data validation\n",
        "dup = df[df.duplicated(keep=False)]\n",
        "dup.sort_values(['age'], ascending=True).head(6)"
      ],
      "execution_count": null,
      "outputs": [
        {
          "output_type": "execute_result",
          "data": {
            "text/html": [
              "<div>\n",
              "<style scoped>\n",
              "    .dataframe tbody tr th:only-of-type {\n",
              "        vertical-align: middle;\n",
              "    }\n",
              "\n",
              "    .dataframe tbody tr th {\n",
              "        vertical-align: top;\n",
              "    }\n",
              "\n",
              "    .dataframe thead th {\n",
              "        text-align: right;\n",
              "    }\n",
              "</style>\n",
              "<table border=\"1\" class=\"dataframe\">\n",
              "  <thead>\n",
              "    <tr style=\"text-align: right;\">\n",
              "      <th></th>\n",
              "      <th>age</th>\n",
              "      <th>job_type</th>\n",
              "      <th>marital_status</th>\n",
              "      <th>education_level</th>\n",
              "      <th>default_or_not</th>\n",
              "      <th>balance_amt</th>\n",
              "      <th>household_insurance</th>\n",
              "      <th>car_loan</th>\n",
              "      <th>communication</th>\n",
              "      <th>last_contact_day</th>\n",
              "      <th>last_contact_month</th>\n",
              "      <th>no_of_contacts</th>\n",
              "      <th>days_passed</th>\n",
              "      <th>prev_attempts</th>\n",
              "      <th>Outcome</th>\n",
              "      <th>call_start</th>\n",
              "      <th>call_end</th>\n",
              "      <th>car_insurance</th>\n",
              "    </tr>\n",
              "  </thead>\n",
              "  <tbody>\n",
              "    <tr>\n",
              "      <th>2903</th>\n",
              "      <td>18.0</td>\n",
              "      <td>student</td>\n",
              "      <td>single</td>\n",
              "      <td>primary</td>\n",
              "      <td>0</td>\n",
              "      <td>608.0</td>\n",
              "      <td>0</td>\n",
              "      <td>0</td>\n",
              "      <td>cellular</td>\n",
              "      <td>12</td>\n",
              "      <td>aug</td>\n",
              "      <td>1</td>\n",
              "      <td>-1</td>\n",
              "      <td>0</td>\n",
              "      <td>NaN</td>\n",
              "      <td>13:30:30</td>\n",
              "      <td>13:34:57</td>\n",
              "      <td>1</td>\n",
              "    </tr>\n",
              "    <tr>\n",
              "      <th>2166</th>\n",
              "      <td>18.0</td>\n",
              "      <td>student</td>\n",
              "      <td>single</td>\n",
              "      <td>primary</td>\n",
              "      <td>0</td>\n",
              "      <td>608.0</td>\n",
              "      <td>0</td>\n",
              "      <td>0</td>\n",
              "      <td>cellular</td>\n",
              "      <td>12</td>\n",
              "      <td>aug</td>\n",
              "      <td>1</td>\n",
              "      <td>-1</td>\n",
              "      <td>0</td>\n",
              "      <td>NaN</td>\n",
              "      <td>13:30:30</td>\n",
              "      <td>13:34:57</td>\n",
              "      <td>1</td>\n",
              "    </tr>\n",
              "    <tr>\n",
              "      <th>1019</th>\n",
              "      <td>22.0</td>\n",
              "      <td>student</td>\n",
              "      <td>single</td>\n",
              "      <td>secondary</td>\n",
              "      <td>0</td>\n",
              "      <td>330.0</td>\n",
              "      <td>1</td>\n",
              "      <td>0</td>\n",
              "      <td>cellular</td>\n",
              "      <td>18</td>\n",
              "      <td>may</td>\n",
              "      <td>1</td>\n",
              "      <td>-1</td>\n",
              "      <td>0</td>\n",
              "      <td>NaN</td>\n",
              "      <td>12:41:31</td>\n",
              "      <td>12:43:16</td>\n",
              "      <td>0</td>\n",
              "    </tr>\n",
              "    <tr>\n",
              "      <th>2905</th>\n",
              "      <td>22.0</td>\n",
              "      <td>student</td>\n",
              "      <td>single</td>\n",
              "      <td>secondary</td>\n",
              "      <td>0</td>\n",
              "      <td>330.0</td>\n",
              "      <td>1</td>\n",
              "      <td>0</td>\n",
              "      <td>cellular</td>\n",
              "      <td>18</td>\n",
              "      <td>may</td>\n",
              "      <td>1</td>\n",
              "      <td>-1</td>\n",
              "      <td>0</td>\n",
              "      <td>NaN</td>\n",
              "      <td>12:41:31</td>\n",
              "      <td>12:43:16</td>\n",
              "      <td>0</td>\n",
              "    </tr>\n",
              "    <tr>\n",
              "      <th>1489</th>\n",
              "      <td>23.0</td>\n",
              "      <td>student</td>\n",
              "      <td>single</td>\n",
              "      <td>secondary</td>\n",
              "      <td>0</td>\n",
              "      <td>1809.0</td>\n",
              "      <td>0</td>\n",
              "      <td>0</td>\n",
              "      <td>cellular</td>\n",
              "      <td>8</td>\n",
              "      <td>jul</td>\n",
              "      <td>2</td>\n",
              "      <td>-1</td>\n",
              "      <td>0</td>\n",
              "      <td>NaN</td>\n",
              "      <td>09:07:17</td>\n",
              "      <td>09:14:11</td>\n",
              "      <td>1</td>\n",
              "    </tr>\n",
              "    <tr>\n",
              "      <th>3089</th>\n",
              "      <td>23.0</td>\n",
              "      <td>student</td>\n",
              "      <td>single</td>\n",
              "      <td>secondary</td>\n",
              "      <td>0</td>\n",
              "      <td>1809.0</td>\n",
              "      <td>0</td>\n",
              "      <td>0</td>\n",
              "      <td>cellular</td>\n",
              "      <td>8</td>\n",
              "      <td>jul</td>\n",
              "      <td>2</td>\n",
              "      <td>-1</td>\n",
              "      <td>0</td>\n",
              "      <td>NaN</td>\n",
              "      <td>09:07:17</td>\n",
              "      <td>09:14:11</td>\n",
              "      <td>1</td>\n",
              "    </tr>\n",
              "  </tbody>\n",
              "</table>\n",
              "</div>"
            ],
            "text/plain": [
              "       age job_type marital_status  ... call_start  call_end  car_insurance\n",
              "2903  18.0  student         single  ...   13:30:30  13:34:57              1\n",
              "2166  18.0  student         single  ...   13:30:30  13:34:57              1\n",
              "1019  22.0  student         single  ...   12:41:31  12:43:16              0\n",
              "2905  22.0  student         single  ...   12:41:31  12:43:16              0\n",
              "1489  23.0  student         single  ...   09:07:17  09:14:11              1\n",
              "3089  23.0  student         single  ...   09:07:17  09:14:11              1\n",
              "\n",
              "[6 rows x 18 columns]"
            ]
          },
          "metadata": {
            "tags": []
          },
          "execution_count": 7
        }
      ]
    },
    {
      "cell_type": "code",
      "metadata": {
        "colab": {
          "base_uri": "https://localhost:8080/"
        },
        "id": "PV3bjCCmZIJZ",
        "outputId": "4ed9fa67-cce5-4b4b-999c-412028036d1b"
      },
      "source": [
        "# drop duplicated data\n",
        "df.drop_duplicates(inplace=True)\n",
        "\n",
        "# re-checking on duplicated data\n",
        "df.duplicated(keep='first').sum()"
      ],
      "execution_count": null,
      "outputs": [
        {
          "output_type": "execute_result",
          "data": {
            "text/plain": [
              "0"
            ]
          },
          "metadata": {
            "tags": []
          },
          "execution_count": 8
        }
      ]
    },
    {
      "cell_type": "markdown",
      "metadata": {
        "id": "Zjr_y-MwaunH"
      },
      "source": [
        "##### Missing Value Checking"
      ]
    },
    {
      "cell_type": "code",
      "metadata": {
        "colab": {
          "base_uri": "https://localhost:8080/"
        },
        "id": "o635UPhyeuAZ",
        "outputId": "090a6e46-d18a-4e08-c2cf-508a336d00c3"
      },
      "source": [
        "df.shape"
      ],
      "execution_count": null,
      "outputs": [
        {
          "output_type": "execute_result",
          "data": {
            "text/plain": [
              "(2802, 18)"
            ]
          },
          "metadata": {
            "tags": []
          },
          "execution_count": 9
        }
      ]
    },
    {
      "cell_type": "code",
      "metadata": {
        "colab": {
          "base_uri": "https://localhost:8080/"
        },
        "id": "i49kuS_qefS7",
        "outputId": "bb45fbdd-2b01-4e88-ca99-184834e52051"
      },
      "source": [
        "# missing value checking on data train\n",
        "df.isna().sum()"
      ],
      "execution_count": null,
      "outputs": [
        {
          "output_type": "execute_result",
          "data": {
            "text/plain": [
              "age                       0\n",
              "job_type                 10\n",
              "marital_status            0\n",
              "education_level          98\n",
              "default_or_not            0\n",
              "balance_amt               0\n",
              "household_insurance       0\n",
              "car_loan                  0\n",
              "communication           497\n",
              "last_contact_day          0\n",
              "last_contact_month        0\n",
              "no_of_contacts            0\n",
              "days_passed               0\n",
              "prev_attempts             0\n",
              "Outcome                2122\n",
              "call_start                0\n",
              "call_end                  0\n",
              "car_insurance             0\n",
              "dtype: int64"
            ]
          },
          "metadata": {
            "tags": []
          },
          "execution_count": 10
        }
      ]
    },
    {
      "cell_type": "code",
      "metadata": {
        "colab": {
          "base_uri": "https://localhost:8080/"
        },
        "id": "9meY7ObVAUJo",
        "outputId": "e9be402e-c7a1-46b3-8043-838107c28bbe"
      },
      "source": [
        "# missing value checking on data test\n",
        "df_test.isna().sum()"
      ],
      "execution_count": null,
      "outputs": [
        {
          "output_type": "execute_result",
          "data": {
            "text/plain": [
              "age                      0\n",
              "job_type                 5\n",
              "marital_status           0\n",
              "education_level         34\n",
              "default_or_not           0\n",
              "balance_amt              0\n",
              "household_insurance      0\n",
              "car_loan                 0\n",
              "communication          165\n",
              "last_contact_day         0\n",
              "last_contact_month       0\n",
              "no_of_contacts           0\n",
              "days_passed              0\n",
              "prev_attempts            0\n",
              "Outcome                695\n",
              "call_start               0\n",
              "call_end                 0\n",
              "dtype: int64"
            ]
          },
          "metadata": {
            "tags": []
          },
          "execution_count": 11
        }
      ]
    },
    {
      "cell_type": "markdown",
      "metadata": {
        "id": "QnjZKo16BCsJ"
      },
      "source": [
        "```\n",
        "the way to handle missing value in data test is the same as data train\n",
        "```"
      ]
    },
    {
      "cell_type": "code",
      "metadata": {
        "colab": {
          "base_uri": "https://localhost:8080/"
        },
        "id": "5uf6wInTee6-",
        "outputId": "9c9113a3-3737-4dd9-b9a4-32079698b8fb"
      },
      "source": [
        "for idx,value in zip(df.isna().sum().index, df.isna().sum().values):\n",
        "  if value != 0:\n",
        "    print('{} >>> {:.2f}%'.format(idx,((value/df.shape[0])*100)))\n",
        "  else:\n",
        "    pass"
      ],
      "execution_count": null,
      "outputs": [
        {
          "output_type": "stream",
          "text": [
            "job_type >>> 0.36%\n",
            "education_level >>> 3.50%\n",
            "communication >>> 17.74%\n",
            "Outcome >>> 75.73%\n"
          ],
          "name": "stdout"
        }
      ]
    },
    {
      "cell_type": "markdown",
      "metadata": {
        "id": "MqoD8bNoh9Ho"
      },
      "source": [
        "###### **MV Handling: 'Outcome'**"
      ]
    },
    {
      "cell_type": "code",
      "metadata": {
        "colab": {
          "base_uri": "https://localhost:8080/"
        },
        "id": "1RalUSEleevi",
        "outputId": "9ee05af4-68a3-41a7-e7ad-09af6d813ea9"
      },
      "source": [
        "# uniqueness checking of 'Outcome'\n",
        "df.Outcome.unique()"
      ],
      "execution_count": null,
      "outputs": [
        {
          "output_type": "execute_result",
          "data": {
            "text/plain": [
              "array([nan, 'other', 'failure', 'success'], dtype=object)"
            ]
          },
          "metadata": {
            "tags": []
          },
          "execution_count": 13
        }
      ]
    },
    {
      "cell_type": "code",
      "metadata": {
        "colab": {
          "base_uri": "https://localhost:8080/"
        },
        "id": "yhADKGzWeeko",
        "outputId": "108bceb5-acab-418d-a790-58495cc6ef05"
      },
      "source": [
        "# feature inspection\n",
        "df[df.prev_attempts == 0]"
      ],
      "execution_count": null,
      "outputs": [
        {
          "output_type": "execute_result",
          "data": {
            "text/html": [
              "<div>\n",
              "<style scoped>\n",
              "    .dataframe tbody tr th:only-of-type {\n",
              "        vertical-align: middle;\n",
              "    }\n",
              "\n",
              "    .dataframe tbody tr th {\n",
              "        vertical-align: top;\n",
              "    }\n",
              "\n",
              "    .dataframe thead th {\n",
              "        text-align: right;\n",
              "    }\n",
              "</style>\n",
              "<table border=\"1\" class=\"dataframe\">\n",
              "  <thead>\n",
              "    <tr style=\"text-align: right;\">\n",
              "      <th></th>\n",
              "      <th>age</th>\n",
              "      <th>job_type</th>\n",
              "      <th>marital_status</th>\n",
              "      <th>education_level</th>\n",
              "      <th>default_or_not</th>\n",
              "      <th>balance_amt</th>\n",
              "      <th>household_insurance</th>\n",
              "      <th>car_loan</th>\n",
              "      <th>communication</th>\n",
              "      <th>last_contact_day</th>\n",
              "      <th>last_contact_month</th>\n",
              "      <th>no_of_contacts</th>\n",
              "      <th>days_passed</th>\n",
              "      <th>prev_attempts</th>\n",
              "      <th>Outcome</th>\n",
              "      <th>call_start</th>\n",
              "      <th>call_end</th>\n",
              "      <th>car_insurance</th>\n",
              "    </tr>\n",
              "  </thead>\n",
              "  <tbody>\n",
              "    <tr>\n",
              "      <th>0</th>\n",
              "      <td>47.000000</td>\n",
              "      <td>blue-collar</td>\n",
              "      <td>married</td>\n",
              "      <td>primary</td>\n",
              "      <td>0</td>\n",
              "      <td>1112.000000</td>\n",
              "      <td>1</td>\n",
              "      <td>0</td>\n",
              "      <td>cellular</td>\n",
              "      <td>13</td>\n",
              "      <td>may</td>\n",
              "      <td>1</td>\n",
              "      <td>-1</td>\n",
              "      <td>0</td>\n",
              "      <td>NaN</td>\n",
              "      <td>10:22:20</td>\n",
              "      <td>10:24:29</td>\n",
              "      <td>0</td>\n",
              "    </tr>\n",
              "    <tr>\n",
              "      <th>2</th>\n",
              "      <td>36.000000</td>\n",
              "      <td>services</td>\n",
              "      <td>single</td>\n",
              "      <td>NaN</td>\n",
              "      <td>0</td>\n",
              "      <td>281.000000</td>\n",
              "      <td>1</td>\n",
              "      <td>0</td>\n",
              "      <td>NaN</td>\n",
              "      <td>16</td>\n",
              "      <td>may</td>\n",
              "      <td>1</td>\n",
              "      <td>-1</td>\n",
              "      <td>0</td>\n",
              "      <td>NaN</td>\n",
              "      <td>13:18:41</td>\n",
              "      <td>13:27:16</td>\n",
              "      <td>1</td>\n",
              "    </tr>\n",
              "    <tr>\n",
              "      <th>3</th>\n",
              "      <td>32.000000</td>\n",
              "      <td>technician</td>\n",
              "      <td>single</td>\n",
              "      <td>secondary</td>\n",
              "      <td>0</td>\n",
              "      <td>540.000000</td>\n",
              "      <td>0</td>\n",
              "      <td>1</td>\n",
              "      <td>cellular</td>\n",
              "      <td>29</td>\n",
              "      <td>jan</td>\n",
              "      <td>1</td>\n",
              "      <td>-1</td>\n",
              "      <td>0</td>\n",
              "      <td>NaN</td>\n",
              "      <td>10:09:18</td>\n",
              "      <td>10:21:48</td>\n",
              "      <td>1</td>\n",
              "    </tr>\n",
              "    <tr>\n",
              "      <th>5</th>\n",
              "      <td>37.000000</td>\n",
              "      <td>management</td>\n",
              "      <td>married</td>\n",
              "      <td>tertiary</td>\n",
              "      <td>0</td>\n",
              "      <td>3737.000000</td>\n",
              "      <td>0</td>\n",
              "      <td>0</td>\n",
              "      <td>cellular</td>\n",
              "      <td>7</td>\n",
              "      <td>jul</td>\n",
              "      <td>1</td>\n",
              "      <td>-1</td>\n",
              "      <td>0</td>\n",
              "      <td>NaN</td>\n",
              "      <td>10:15:03</td>\n",
              "      <td>10:18:47</td>\n",
              "      <td>1</td>\n",
              "    </tr>\n",
              "    <tr>\n",
              "      <th>6</th>\n",
              "      <td>30.000000</td>\n",
              "      <td>blue-collar</td>\n",
              "      <td>married</td>\n",
              "      <td>secondary</td>\n",
              "      <td>0</td>\n",
              "      <td>1.000000</td>\n",
              "      <td>0</td>\n",
              "      <td>1</td>\n",
              "      <td>cellular</td>\n",
              "      <td>9</td>\n",
              "      <td>jul</td>\n",
              "      <td>1</td>\n",
              "      <td>-1</td>\n",
              "      <td>0</td>\n",
              "      <td>NaN</td>\n",
              "      <td>10:51:56</td>\n",
              "      <td>10:57:43</td>\n",
              "      <td>0</td>\n",
              "    </tr>\n",
              "    <tr>\n",
              "      <th>...</th>\n",
              "      <td>...</td>\n",
              "      <td>...</td>\n",
              "      <td>...</td>\n",
              "      <td>...</td>\n",
              "      <td>...</td>\n",
              "      <td>...</td>\n",
              "      <td>...</td>\n",
              "      <td>...</td>\n",
              "      <td>...</td>\n",
              "      <td>...</td>\n",
              "      <td>...</td>\n",
              "      <td>...</td>\n",
              "      <td>...</td>\n",
              "      <td>...</td>\n",
              "      <td>...</td>\n",
              "      <td>...</td>\n",
              "      <td>...</td>\n",
              "      <td>...</td>\n",
              "    </tr>\n",
              "    <tr>\n",
              "      <th>2795</th>\n",
              "      <td>67.000000</td>\n",
              "      <td>retired</td>\n",
              "      <td>divorced</td>\n",
              "      <td>tertiary</td>\n",
              "      <td>0</td>\n",
              "      <td>443.000000</td>\n",
              "      <td>0</td>\n",
              "      <td>0</td>\n",
              "      <td>cellular</td>\n",
              "      <td>18</td>\n",
              "      <td>aug</td>\n",
              "      <td>1</td>\n",
              "      <td>-1</td>\n",
              "      <td>0</td>\n",
              "      <td>NaN</td>\n",
              "      <td>17:53:13</td>\n",
              "      <td>18:00:34</td>\n",
              "      <td>1</td>\n",
              "    </tr>\n",
              "    <tr>\n",
              "      <th>2797</th>\n",
              "      <td>41.073939</td>\n",
              "      <td>management</td>\n",
              "      <td>married</td>\n",
              "      <td>secondary</td>\n",
              "      <td>0</td>\n",
              "      <td>2753.566864</td>\n",
              "      <td>1</td>\n",
              "      <td>0</td>\n",
              "      <td>cellular</td>\n",
              "      <td>19</td>\n",
              "      <td>apr</td>\n",
              "      <td>1</td>\n",
              "      <td>-1</td>\n",
              "      <td>0</td>\n",
              "      <td>NaN</td>\n",
              "      <td>17:24:03</td>\n",
              "      <td>09:35:38</td>\n",
              "      <td>1</td>\n",
              "    </tr>\n",
              "    <tr>\n",
              "      <th>2798</th>\n",
              "      <td>30.000000</td>\n",
              "      <td>blue-collar</td>\n",
              "      <td>single</td>\n",
              "      <td>secondary</td>\n",
              "      <td>0</td>\n",
              "      <td>315.000000</td>\n",
              "      <td>0</td>\n",
              "      <td>0</td>\n",
              "      <td>cellular</td>\n",
              "      <td>23</td>\n",
              "      <td>jun</td>\n",
              "      <td>1</td>\n",
              "      <td>-1</td>\n",
              "      <td>0</td>\n",
              "      <td>NaN</td>\n",
              "      <td>09:37:38</td>\n",
              "      <td>10:01:05</td>\n",
              "      <td>1</td>\n",
              "    </tr>\n",
              "    <tr>\n",
              "      <th>2799</th>\n",
              "      <td>32.000000</td>\n",
              "      <td>blue-collar</td>\n",
              "      <td>married</td>\n",
              "      <td>primary</td>\n",
              "      <td>0</td>\n",
              "      <td>3136.000000</td>\n",
              "      <td>1</td>\n",
              "      <td>0</td>\n",
              "      <td>cellular</td>\n",
              "      <td>19</td>\n",
              "      <td>nov</td>\n",
              "      <td>1</td>\n",
              "      <td>-1</td>\n",
              "      <td>0</td>\n",
              "      <td>NaN</td>\n",
              "      <td>10:03:09</td>\n",
              "      <td>10:16:49</td>\n",
              "      <td>1</td>\n",
              "    </tr>\n",
              "    <tr>\n",
              "      <th>2800</th>\n",
              "      <td>31.000000</td>\n",
              "      <td>blue-collar</td>\n",
              "      <td>married</td>\n",
              "      <td>secondary</td>\n",
              "      <td>0</td>\n",
              "      <td>0.000000</td>\n",
              "      <td>0</td>\n",
              "      <td>0</td>\n",
              "      <td>telephone</td>\n",
              "      <td>23</td>\n",
              "      <td>jul</td>\n",
              "      <td>1</td>\n",
              "      <td>-1</td>\n",
              "      <td>0</td>\n",
              "      <td>NaN</td>\n",
              "      <td>14:54:16</td>\n",
              "      <td>14:54:52</td>\n",
              "      <td>0</td>\n",
              "    </tr>\n",
              "  </tbody>\n",
              "</table>\n",
              "<p>2054 rows × 18 columns</p>\n",
              "</div>"
            ],
            "text/plain": [
              "            age     job_type marital_status  ... call_start  call_end  car_insurance\n",
              "0     47.000000  blue-collar        married  ...   10:22:20  10:24:29              0\n",
              "2     36.000000     services         single  ...   13:18:41  13:27:16              1\n",
              "3     32.000000   technician         single  ...   10:09:18  10:21:48              1\n",
              "5     37.000000   management        married  ...   10:15:03  10:18:47              1\n",
              "6     30.000000  blue-collar        married  ...   10:51:56  10:57:43              0\n",
              "...         ...          ...            ...  ...        ...       ...            ...\n",
              "2795  67.000000      retired       divorced  ...   17:53:13  18:00:34              1\n",
              "2797  41.073939   management        married  ...   17:24:03  09:35:38              1\n",
              "2798  30.000000  blue-collar         single  ...   09:37:38  10:01:05              1\n",
              "2799  32.000000  blue-collar        married  ...   10:03:09  10:16:49              1\n",
              "2800  31.000000  blue-collar        married  ...   14:54:16  14:54:52              0\n",
              "\n",
              "[2054 rows x 18 columns]"
            ]
          },
          "metadata": {
            "tags": []
          },
          "execution_count": 14
        }
      ]
    },
    {
      "cell_type": "code",
      "metadata": {
        "colab": {
          "base_uri": "https://localhost:8080/"
        },
        "id": "QS7uF-0peegI",
        "outputId": "ad988e68-9768-46aa-e9b3-b5653ab30ad4"
      },
      "source": [
        "# fill missing value with 'other'\n",
        "df.Outcome.fillna('other', inplace=True)\n",
        "df_test.Outcome.fillna('other', inplace=True)\n",
        "\n",
        "# missing value re-checking\n",
        "print(df.isna().sum(),'\\n\\n',df_test.isna().sum())"
      ],
      "execution_count": null,
      "outputs": [
        {
          "output_type": "stream",
          "text": [
            "age                      0\n",
            "job_type                10\n",
            "marital_status           0\n",
            "education_level         98\n",
            "default_or_not           0\n",
            "balance_amt              0\n",
            "household_insurance      0\n",
            "car_loan                 0\n",
            "communication          497\n",
            "last_contact_day         0\n",
            "last_contact_month       0\n",
            "no_of_contacts           0\n",
            "days_passed              0\n",
            "prev_attempts            0\n",
            "Outcome                  0\n",
            "call_start               0\n",
            "call_end                 0\n",
            "car_insurance            0\n",
            "dtype: int64 \n",
            "\n",
            " age                      0\n",
            "job_type                 5\n",
            "marital_status           0\n",
            "education_level         34\n",
            "default_or_not           0\n",
            "balance_amt              0\n",
            "household_insurance      0\n",
            "car_loan                 0\n",
            "communication          165\n",
            "last_contact_day         0\n",
            "last_contact_month       0\n",
            "no_of_contacts           0\n",
            "days_passed              0\n",
            "prev_attempts            0\n",
            "Outcome                  0\n",
            "call_start               0\n",
            "call_end                 0\n",
            "dtype: int64\n"
          ],
          "name": "stdout"
        }
      ]
    },
    {
      "cell_type": "markdown",
      "metadata": {
        "id": "SBV40G_8jgC1"
      },
      "source": [
        "###### **MV Handling: communication**"
      ]
    },
    {
      "cell_type": "code",
      "metadata": {
        "id": "nKkAs9GueeXk"
      },
      "source": [
        "# drop feature: 'communication'\n",
        "df.drop('communication', axis=1, inplace=True)\n",
        "df_test.drop('communication', axis=1, inplace=True)"
      ],
      "execution_count": null,
      "outputs": []
    },
    {
      "cell_type": "markdown",
      "metadata": {
        "id": "i4TskCwktyCv"
      },
      "source": [
        "###### **MV Handling: 'education_level'**\n",
        "```\n",
        "**still in consideration\n",
        "```"
      ]
    },
    {
      "cell_type": "code",
      "metadata": {
        "id": "lojyugGB5y4Z",
        "colab": {
          "base_uri": "https://localhost:8080/"
        },
        "outputId": "a04efb20-18a7-4aec-e3c1-07b91157809f"
      },
      "source": [
        "# take only not na value\n",
        "# df = df[df.education_level.notna()]\n",
        "\n",
        "\n",
        "# consideration: age, job_type\n",
        "df.education_level.unique()\n",
        "\n",
        "# plt.figure(figsize=(13,4))\n",
        "# sns.countplot(x='job_type', hue='education_level', data=df)\n",
        "# plt.tight_layout()\n",
        "# plt.show()"
      ],
      "execution_count": null,
      "outputs": [
        {
          "output_type": "execute_result",
          "data": {
            "text/plain": [
              "array(['primary', 'tertiary', nan, 'secondary'], dtype=object)"
            ]
          },
          "metadata": {
            "tags": []
          },
          "execution_count": 17
        }
      ]
    },
    {
      "cell_type": "code",
      "metadata": {
        "colab": {
          "base_uri": "https://localhost:8080/"
        },
        "id": "bLZ-41cvHVST",
        "outputId": "862f03ea-c1a6-4f54-a972-f55c3c1a6682"
      },
      "source": [
        "## EDUCATION LEVEL vs. JOB TYPE\n",
        "# find category of education level\n",
        "edu = list(df.education_level.unique())\n",
        "# remove nan value\n",
        "edu.remove(np.NaN)\n",
        "# sort it\n",
        "edu.sort()\n",
        "\n",
        "# data viz\n",
        "fig, axes = plt.subplots(figsize=(15,5), nrows=1, ncols=3) \n",
        "\n",
        "for i,category in enumerate(edu):\n",
        "  data = df[df.education_level == category]['job_type'].value_counts().sort_values(ascending=True)\n",
        "\n",
        "  cat = data.index\n",
        "  val = data.values\n",
        "\n",
        "  axes[i].barh(y=cat, width=val)\n",
        "  axes[i].set_title(category)\n",
        "  \n",
        "plt.tight_layout()\n",
        "plt.show()"
      ],
      "execution_count": null,
      "outputs": [
        {
          "output_type": "display_data",
          "data": {
            "image/png": "[encoded data removed]",
            "text/plain": [
              "<Figure size 1080x360 with 3 Axes>"
            ]
          },
          "metadata": {
            "tags": [],
            "needs_background": "light"
          }
        }
      ]
    },
    {
      "cell_type": "code",
      "metadata": {
        "colab": {
          "base_uri": "https://localhost:8080/"
        },
        "id": "xkWE1NJpPnNB",
        "outputId": "7b64ff84-d628-4cb6-9ad9-55804f2a2697"
      },
      "source": [
        "## EDUCATION LEVEL vs. AGE\n",
        "# data viz\n",
        "fig, axes = plt.subplots(figsize=(10,4), nrows=1, ncols=3, sharey=True) \n",
        "\n",
        "for i,category in enumerate(edu):\n",
        "  q1 = df[df.education_level == category]['age'].quantile(0.25)\n",
        "  q3 = df[df.education_level == category]['age'].quantile(0.75)\n",
        "\n",
        "  axes[i].bar(x='q1', height=q1)\n",
        "  axes[i].bar(x='q3', height=q3)\n",
        "  axes[i].set_title(category)\n",
        "\n",
        "  # add annotation\n",
        "  for p in axes[i].patches:\n",
        "    axes[i].annotate(format(p.get_height(), '.0f'),\n",
        "                     (p.get_x() + p.get_width() / 2., p.get_height()), # (x,y)\n",
        "                     ha = 'center',  \n",
        "                     va = 'center',  \n",
        "                     xytext = (0, 5), \n",
        "                     textcoords = 'offset points') \n",
        "  \n",
        "\n",
        "plt.tight_layout()\n",
        "plt.show()"
      ],
      "execution_count": null,
      "outputs": [
        {
          "output_type": "display_data",
          "data": {
            "image/png": "[encoded data removed]",
            "text/plain": [
              "<Figure size 720x288 with 3 Axes>"
            ]
          },
          "metadata": {
            "tags": [],
            "needs_background": "light"
          }
        }
      ]
    },
    {
      "cell_type": "code",
      "metadata": {
        "colab": {
          "base_uri": "https://localhost:8080/"
        },
        "id": "FpCPIaaeTabf",
        "outputId": "935bcfa6-edcd-4363-b534-cecf6ee37f5a"
      },
      "source": [
        "# kalo kerjanya ini, umurnya sekian, background pendidikannya apa?\n",
        "\n",
        "plt.figure(figsize=(7,5))\n",
        "plt.grid(axis='x', linestyle='--')\n",
        "\n",
        "sns.boxplot(y=df[df.education_level == 'primary'].job_type, x=df.age)\n",
        "\n",
        "plt.tight_layout()\n",
        "plt.show()"
      ],
      "execution_count": null,
      "outputs": [
        {
          "output_type": "display_data",
          "data": {
            "image/png": "[encoded data removed]",
            "text/plain": [
              "<Figure size 504x360 with 1 Axes>"
            ]
          },
          "metadata": {
            "tags": [],
            "needs_background": "light"
          }
        }
      ]
    },
    {
      "cell_type": "code",
      "metadata": {
        "colab": {
          "base_uri": "https://localhost:8080/"
        },
        "id": "TxZb-8tzfh7t",
        "outputId": "5b07bb70-6e0a-4863-e7ba-79094d4b3257"
      },
      "source": [
        "df.groupby(['education_level','job_type']).age.quantile(0.25) #.index[0][1] #.values[0]"
      ],
      "execution_count": null,
      "outputs": [
        {
          "output_type": "execute_result",
          "data": {
            "text/plain": [
              "education_level  job_type     \n",
              "primary          admin.           33.750000\n",
              "                 blue-collar      35.000000\n",
              "                 entrepreneur     45.000000\n",
              "                 housemaid        44.287024\n",
              "                 management       41.500000\n",
              "                 retired          56.000000\n",
              "                 self-employed    43.000000\n",
              "                 services         29.750000\n",
              "                 student          18.000000\n",
              "                 technician       39.404622\n",
              "                 unemployed       35.000000\n",
              "secondary        admin.           32.000000\n",
              "                 blue-collar      31.000000\n",
              "                 entrepreneur     33.000000\n",
              "                 housemaid        40.826988\n",
              "                 management       33.946297\n",
              "                 retired          56.238771\n",
              "                 self-employed    35.000000\n",
              "                 services         32.000000\n",
              "                 student          23.000000\n",
              "                 technician       33.000000\n",
              "                 unemployed       35.000000\n",
              "tertiary         admin.           29.000000\n",
              "                 blue-collar      30.461784\n",
              "                 entrepreneur     35.000000\n",
              "                 housemaid        28.500000\n",
              "                 management       32.000000\n",
              "                 retired          54.005493\n",
              "                 self-employed    34.000000\n",
              "                 services         30.517585\n",
              "                 student          26.000000\n",
              "                 technician       31.500000\n",
              "                 unemployed       30.960381\n",
              "Name: age, dtype: float64"
            ]
          },
          "metadata": {
            "tags": []
          },
          "execution_count": 21
        }
      ]
    },
    {
      "cell_type": "code",
      "metadata": {
        "colab": {
          "base_uri": "https://localhost:8080/"
        },
        "id": "wgCWnou8bUGr",
        "outputId": "639823e3-f4b8-43d6-cd39-163a786e394b"
      },
      "source": [
        "values = df.groupby([df['education_level'] == 'primary','job_type']).age.quantile(0.25).values[11:] #.index[0][1] #.values[0]\n",
        "jobs = df.job_type.unique()[:-1].tolist()\n",
        "\n",
        "jobs.sort()\n",
        "\n",
        "plt.figure(figsize=(6,4))\n",
        "plt.barh(y=jobs, width=values)"
      ],
      "execution_count": null,
      "outputs": [
        {
          "output_type": "execute_result",
          "data": {
            "text/plain": [
              "<BarContainer object of 11 artists>"
            ]
          },
          "metadata": {
            "tags": []
          },
          "execution_count": 22
        },
        {
          "output_type": "display_data",
          "data": {
            "image/png": "[encoded data removed]",
            "text/plain": [
              "<Figure size 432x288 with 1 Axes>"
            ]
          },
          "metadata": {
            "tags": [],
            "needs_background": "light"
          }
        }
      ]
    },
    {
      "cell_type": "code",
      "metadata": {
        "id": "TfOtuJRBm_1Z"
      },
      "source": [
        "# ## FOR VALUE IMPUTATION\n",
        "# # finding q1 & q3 from the data\n",
        "# values = df.groupby([df['education_level'] == 'tertiary','job_type']).age.quantile(0.75).values[11:]\n",
        "# jobs = df.job_type.unique()[:-1].tolist()\n",
        "\n",
        "# # sort the job_type\n",
        "# jobs.sort()\n",
        "\n",
        "# # data imputation\n",
        "# primary = ['blue-collar','retired','housemaid']\n",
        "# secondary = ['technician','blue-collar','admin.']\n",
        "# tertiary = ['management','technician','self-employed']\n",
        "\n",
        "# # store data into dictionary\n",
        "# dic={}\n",
        "# for val,job in zip(values,jobs):\n",
        "#   dic.update({job:int(val)})\n",
        "\n",
        "# # print value\n",
        "# for i in primary:\n",
        "#   print(dic[i])"
      ],
      "execution_count": null,
      "outputs": []
    },
    {
      "cell_type": "markdown",
      "metadata": {
        "id": "w6X39g3iuZ9Z"
      },
      "source": [
        "###### **MV Handling: 'job_type'**\n",
        "```\n",
        "**still in consideration\n",
        "```"
      ]
    },
    {
      "cell_type": "code",
      "metadata": {
        "colab": {
          "base_uri": "https://localhost:8080/"
        },
        "id": "iuj6SInstdHm",
        "outputId": "40a544f9-d3f5-4a14-c469-e8b52b5ec634"
      },
      "source": [
        "df.job_type.unique()"
      ],
      "execution_count": null,
      "outputs": [
        {
          "output_type": "execute_result",
          "data": {
            "text/plain": [
              "array(['blue-collar', 'management', 'services', 'technician', 'admin.',\n",
              "       'student', 'retired', 'housemaid', 'unemployed', 'entrepreneur',\n",
              "       'self-employed', nan], dtype=object)"
            ]
          },
          "metadata": {
            "tags": []
          },
          "execution_count": 24
        }
      ]
    },
    {
      "cell_type": "code",
      "metadata": {
        "colab": {
          "base_uri": "https://localhost:8080/"
        },
        "id": "YRlgTnfYtdL8",
        "outputId": "deddaa59-1eb9-421a-b071-0af3da676478"
      },
      "source": [
        "# sns.countplot(df.job_type)\n",
        "plt.figure(figsize=(13,5))\n",
        "sns.boxplot(x=df.job_type, y=df.age)\n",
        "\n",
        "plt.tight_layout()\n",
        "plt.show()"
      ],
      "execution_count": null,
      "outputs": [
        {
          "output_type": "display_data",
          "data": {
            "image/png": "[encoded data removed]",
            "text/plain": [
              "<Figure size 936x360 with 1 Axes>"
            ]
          },
          "metadata": {
            "tags": [],
            "needs_background": "light"
          }
        }
      ]
    },
    {
      "cell_type": "code",
      "metadata": {
        "id": "AGTusg2BtdPA"
      },
      "source": [
        "# # drop every row whose missing value in feature: 'job_type'\n",
        "# df.dropna(subset=['job_type'], inplace=True)\n",
        "\n",
        "# # missing value re-checking\n",
        "# print(df.isna().sum())"
      ],
      "execution_count": null,
      "outputs": []
    },
    {
      "cell_type": "markdown",
      "metadata": {
        "id": "vOQdMh0n0Qmm"
      },
      "source": [
        "##### Oulier Checking"
      ]
    },
    {
      "cell_type": "code",
      "metadata": {
        "colab": {
          "base_uri": "https://localhost:8080/"
        },
        "id": "YPRw3eKr1dBA",
        "outputId": "7f263f00-90e2-466b-904f-ea0086c2cfdb"
      },
      "source": [
        "df.columns"
      ],
      "execution_count": null,
      "outputs": [
        {
          "output_type": "execute_result",
          "data": {
            "text/plain": [
              "Index(['age', 'job_type', 'marital_status', 'education_level',\n",
              "       'default_or_not', 'balance_amt', 'household_insurance', 'car_loan',\n",
              "       'last_contact_day', 'last_contact_month', 'no_of_contacts',\n",
              "       'days_passed', 'prev_attempts', 'Outcome', 'call_start', 'call_end',\n",
              "       'car_insurance'],\n",
              "      dtype='object')"
            ]
          },
          "metadata": {
            "tags": []
          },
          "execution_count": 27
        }
      ]
    },
    {
      "cell_type": "code",
      "metadata": {
        "colab": {
          "base_uri": "https://localhost:8080/"
        },
        "id": "Obq-Vxoo3yk0",
        "outputId": "8b583fec-0809-4770-dced-7a6568790e30"
      },
      "source": [
        "df.describe()"
      ],
      "execution_count": null,
      "outputs": [
        {
          "output_type": "execute_result",
          "data": {
            "text/html": [
              "<div>\n",
              "<style scoped>\n",
              "    .dataframe tbody tr th:only-of-type {\n",
              "        vertical-align: middle;\n",
              "    }\n",
              "\n",
              "    .dataframe tbody tr th {\n",
              "        vertical-align: top;\n",
              "    }\n",
              "\n",
              "    .dataframe thead th {\n",
              "        text-align: right;\n",
              "    }\n",
              "</style>\n",
              "<table border=\"1\" class=\"dataframe\">\n",
              "  <thead>\n",
              "    <tr style=\"text-align: right;\">\n",
              "      <th></th>\n",
              "      <th>age</th>\n",
              "      <th>default_or_not</th>\n",
              "      <th>balance_amt</th>\n",
              "      <th>household_insurance</th>\n",
              "      <th>car_loan</th>\n",
              "      <th>last_contact_day</th>\n",
              "      <th>no_of_contacts</th>\n",
              "      <th>days_passed</th>\n",
              "      <th>prev_attempts</th>\n",
              "      <th>car_insurance</th>\n",
              "    </tr>\n",
              "  </thead>\n",
              "  <tbody>\n",
              "    <tr>\n",
              "      <th>count</th>\n",
              "      <td>2802.000000</td>\n",
              "      <td>2802.000000</td>\n",
              "      <td>2802.000000</td>\n",
              "      <td>2802.000000</td>\n",
              "      <td>2802.000000</td>\n",
              "      <td>2802.000000</td>\n",
              "      <td>2802.000000</td>\n",
              "      <td>2802.000000</td>\n",
              "      <td>2802.000000</td>\n",
              "      <td>2802.000000</td>\n",
              "    </tr>\n",
              "    <tr>\n",
              "      <th>mean</th>\n",
              "      <td>41.262171</td>\n",
              "      <td>0.014276</td>\n",
              "      <td>1563.362505</td>\n",
              "      <td>0.467166</td>\n",
              "      <td>0.116702</td>\n",
              "      <td>15.391506</td>\n",
              "      <td>2.342612</td>\n",
              "      <td>51.825125</td>\n",
              "      <td>0.800143</td>\n",
              "      <td>0.571021</td>\n",
              "    </tr>\n",
              "    <tr>\n",
              "      <th>std</th>\n",
              "      <td>11.514053</td>\n",
              "      <td>0.118645</td>\n",
              "      <td>3269.785655</td>\n",
              "      <td>0.499010</td>\n",
              "      <td>0.321123</td>\n",
              "      <td>8.155126</td>\n",
              "      <td>2.570053</td>\n",
              "      <td>107.091362</td>\n",
              "      <td>2.276189</td>\n",
              "      <td>0.495019</td>\n",
              "    </tr>\n",
              "    <tr>\n",
              "      <th>min</th>\n",
              "      <td>18.000000</td>\n",
              "      <td>0.000000</td>\n",
              "      <td>-3058.000000</td>\n",
              "      <td>0.000000</td>\n",
              "      <td>0.000000</td>\n",
              "      <td>1.000000</td>\n",
              "      <td>1.000000</td>\n",
              "      <td>-1.000000</td>\n",
              "      <td>0.000000</td>\n",
              "      <td>0.000000</td>\n",
              "    </tr>\n",
              "    <tr>\n",
              "      <th>25%</th>\n",
              "      <td>32.000000</td>\n",
              "      <td>0.000000</td>\n",
              "      <td>126.020190</td>\n",
              "      <td>0.000000</td>\n",
              "      <td>0.000000</td>\n",
              "      <td>8.000000</td>\n",
              "      <td>1.000000</td>\n",
              "      <td>-1.000000</td>\n",
              "      <td>0.000000</td>\n",
              "      <td>0.000000</td>\n",
              "    </tr>\n",
              "    <tr>\n",
              "      <th>50%</th>\n",
              "      <td>39.000000</td>\n",
              "      <td>0.000000</td>\n",
              "      <td>597.000000</td>\n",
              "      <td>0.000000</td>\n",
              "      <td>0.000000</td>\n",
              "      <td>15.000000</td>\n",
              "      <td>2.000000</td>\n",
              "      <td>-1.000000</td>\n",
              "      <td>0.000000</td>\n",
              "      <td>1.000000</td>\n",
              "    </tr>\n",
              "    <tr>\n",
              "      <th>75%</th>\n",
              "      <td>49.000000</td>\n",
              "      <td>0.000000</td>\n",
              "      <td>1732.783564</td>\n",
              "      <td>1.000000</td>\n",
              "      <td>0.000000</td>\n",
              "      <td>21.000000</td>\n",
              "      <td>3.000000</td>\n",
              "      <td>63.750000</td>\n",
              "      <td>1.000000</td>\n",
              "      <td>1.000000</td>\n",
              "    </tr>\n",
              "    <tr>\n",
              "      <th>max</th>\n",
              "      <td>92.000000</td>\n",
              "      <td>1.000000</td>\n",
              "      <td>52587.000000</td>\n",
              "      <td>1.000000</td>\n",
              "      <td>1.000000</td>\n",
              "      <td>31.000000</td>\n",
              "      <td>43.000000</td>\n",
              "      <td>854.000000</td>\n",
              "      <td>58.000000</td>\n",
              "      <td>1.000000</td>\n",
              "    </tr>\n",
              "  </tbody>\n",
              "</table>\n",
              "</div>"
            ],
            "text/plain": [
              "               age  default_or_not  ...  prev_attempts  car_insurance\n",
              "count  2802.000000     2802.000000  ...    2802.000000    2802.000000\n",
              "mean     41.262171        0.014276  ...       0.800143       0.571021\n",
              "std      11.514053        0.118645  ...       2.276189       0.495019\n",
              "min      18.000000        0.000000  ...       0.000000       0.000000\n",
              "25%      32.000000        0.000000  ...       0.000000       0.000000\n",
              "50%      39.000000        0.000000  ...       0.000000       1.000000\n",
              "75%      49.000000        0.000000  ...       1.000000       1.000000\n",
              "max      92.000000        1.000000  ...      58.000000       1.000000\n",
              "\n",
              "[8 rows x 10 columns]"
            ]
          },
          "metadata": {
            "tags": []
          },
          "execution_count": 28
        }
      ]
    },
    {
      "cell_type": "markdown",
      "metadata": {
        "id": "OO1An7XB7-Zq"
      },
      "source": [
        "```\n",
        "value = 0 or 1\n",
        "- default_or_not\n",
        "- household_insurance\n",
        "- car_loan\n",
        "- car_insurance (TARGET)\n",
        "```"
      ]
    },
    {
      "cell_type": "code",
      "metadata": {
        "colab": {
          "base_uri": "https://localhost:8080/"
        },
        "id": "Fxs_gdY56KAG",
        "outputId": "c4ae4f9e-e3d6-49ea-f81f-e5b58ba1292f"
      },
      "source": [
        "# select only numerical-datatype features\n",
        "df_nums = df.select_dtypes([int,float])\n",
        "print(df_nums.shape)"
      ],
      "execution_count": null,
      "outputs": [
        {
          "output_type": "stream",
          "text": [
            "(2802, 10)\n"
          ],
          "name": "stdout"
        }
      ]
    },
    {
      "cell_type": "code",
      "metadata": {
        "id": "zeT-Ynex8l7G",
        "colab": {
          "base_uri": "https://localhost:8080/"
        },
        "outputId": "2abc443e-63fb-4a3a-9016-eac2bc589a20"
      },
      "source": [
        "# de-select features whose value [0, 1]\n",
        "cols=[]\n",
        "for col in df_nums.columns:\n",
        "  if list(df_nums[col].value_counts().index) != [0,1]:\n",
        "    cols.append(col)\n",
        "\n",
        "# delete the last one\n",
        "cols.pop()"
      ],
      "execution_count": null,
      "outputs": [
        {
          "output_type": "execute_result",
          "data": {
            "application/vnd.google.colaboratory.intrinsic+json": {
              "type": "string"
            },
            "text/plain": [
              "'car_insurance'"
            ]
          },
          "metadata": {
            "tags": []
          },
          "execution_count": 30
        }
      ]
    },
    {
      "cell_type": "code",
      "metadata": {
        "colab": {
          "base_uri": "https://localhost:8080/"
        },
        "id": "J8dFpiB7_eut",
        "outputId": "fddf1395-57f0-4332-d356-c977ef4c1a21"
      },
      "source": [
        "# df preview\n",
        "df_nums_ = df_nums[cols]\n",
        "df_nums_.columns"
      ],
      "execution_count": null,
      "outputs": [
        {
          "output_type": "execute_result",
          "data": {
            "text/plain": [
              "Index(['age', 'balance_amt', 'last_contact_day', 'no_of_contacts',\n",
              "       'days_passed', 'prev_attempts'],\n",
              "      dtype='object')"
            ]
          },
          "metadata": {
            "tags": []
          },
          "execution_count": 31
        }
      ]
    },
    {
      "cell_type": "code",
      "metadata": {
        "colab": {
          "base_uri": "https://localhost:8080/"
        },
        "id": "uIJqEZi01dIQ",
        "outputId": "20274a0c-791c-4ff9-d65d-186aff722659"
      },
      "source": [
        "# show distribution plot on nominal data\n",
        "NROWS = 2\n",
        "NCOLS = 3\n",
        "\n",
        "fig, axes = plt.subplots(figsize=(13,5), nrows=NROWS, ncols=NCOLS)\n",
        "feature_index = 0\n",
        "\n",
        "try:\n",
        "  for i in range(NROWS):\n",
        "    for j in range(NCOLS):\n",
        "      ax = sns.distplot(df_nums_.iloc[:, feature_index], ax=axes[i,j])\n",
        "      ax.set(title=df_nums_.columns.values[feature_index], xlabel='',ylabel='')     \n",
        "      feature_index += 1\n",
        "except:\n",
        "  pass\n",
        "\n",
        "plt.tight_layout()\n",
        "plt.show()"
      ],
      "execution_count": null,
      "outputs": [
        {
          "output_type": "display_data",
          "data": {
            "image/png": "[encoded data removed]",
            "text/plain": [
              "<Figure size 936x360 with 6 Axes>"
            ]
          },
          "metadata": {
            "tags": [],
            "needs_background": "light"
          }
        }
      ]
    },
    {
      "cell_type": "code",
      "metadata": {
        "colab": {
          "base_uri": "https://localhost:8080/"
        },
        "id": "Z8Xss-vu1dOn",
        "outputId": "e895758b-c73f-4dec-ddea-e7678a220bf2"
      },
      "source": [
        "# show distribution plot on nominal data\n",
        "NROWS = 2\n",
        "NCOLS = 3\n",
        "\n",
        "fig, axes = plt.subplots(figsize=(13,5), nrows=NROWS, ncols=NCOLS)\n",
        "feature_index = 0\n",
        "\n",
        "try:\n",
        "  for i in range(NROWS):\n",
        "    for j in range(NCOLS):\n",
        "      ax = sns.boxplot(df_nums_.iloc[:, feature_index], ax=axes[i,j])\n",
        "      ax.set(title=df_nums_.columns.values[feature_index], xlabel='',ylabel='')     \n",
        "      feature_index += 1\n",
        "except:\n",
        "  pass\n",
        "\n",
        "plt.tight_layout()\n",
        "plt.show()"
      ],
      "execution_count": null,
      "outputs": [
        {
          "output_type": "display_data",
          "data": {
            "image/png": "[encoded data removed]",
            "text/plain": [
              "<Figure size 936x360 with 6 Axes>"
            ]
          },
          "metadata": {
            "tags": [],
            "needs_background": "light"
          }
        }
      ]
    },
    {
      "cell_type": "markdown",
      "metadata": {
        "id": "OzAlA-GJKFTt"
      },
      "source": [
        "###### **Feature: 'balance_amt'**"
      ]
    },
    {
      "cell_type": "code",
      "metadata": {
        "colab": {
          "base_uri": "https://localhost:8080/"
        },
        "id": "HvpS2GrMDrse",
        "outputId": "05e003b0-12be-4960-f464-fa8506552830"
      },
      "source": [
        "# init IQR\n",
        "bal_q1 = df.balance_amt.quantile(0.25)\n",
        "bal_q3 = df.balance_amt.quantile(0.75)\n",
        "bal_iqr = bal_q3 - bal_q1\n",
        "\n",
        "# data selection\n",
        "df_bal = df[~((df.balance_amt < (bal_q1 - (1.5*bal_iqr))) | (df.balance_amt > (bal_q3 + (1.5*bal_iqr))))]\n",
        "\n",
        "# print shape of data\n",
        "print(f'previous data shape: {df.shape}, current data shape:{df_bal.shape}')"
      ],
      "execution_count": null,
      "outputs": [
        {
          "output_type": "stream",
          "text": [
            "previous data shape: (2802, 17), current data shape:(2532, 17)\n"
          ],
          "name": "stdout"
        }
      ]
    },
    {
      "cell_type": "code",
      "metadata": {
        "colab": {
          "base_uri": "https://localhost:8080/"
        },
        "id": "KYYSp1ivHJ-P",
        "outputId": "f18eef30-c915-4c52-df59-cc18d368edd3"
      },
      "source": [
        "# data distribution checking\n",
        "fig, axes = plt.subplots(figsize=(8,3), nrows=1, ncols=2)\n",
        "\n",
        "ax = sns.boxplot(df.balance_amt, ax=axes[0])\n",
        "ax2 = sns.boxplot(df_bal.balance_amt, ax=axes[1])\n",
        "\n",
        "plt.tight_layout()\n",
        "plt.show()"
      ],
      "execution_count": null,
      "outputs": [
        {
          "output_type": "display_data",
          "data": {
            "image/png": "[encoded data removed]",
            "text/plain": [
              "<Figure size 576x216 with 2 Axes>"
            ]
          },
          "metadata": {
            "tags": [],
            "needs_background": "light"
          }
        }
      ]
    },
    {
      "cell_type": "markdown",
      "metadata": {
        "id": "n6CRyyq7KSN4"
      },
      "source": [
        "###### **Feature: 'no_of_contacs'**"
      ]
    },
    {
      "cell_type": "code",
      "metadata": {
        "colab": {
          "base_uri": "https://localhost:8080/"
        },
        "id": "bc43PV4dHJ4b",
        "outputId": "34b68822-6371-40ac-c047-b2d6473f076d"
      },
      "source": [
        "# init IQR\n",
        "no_q1 = df_bal.no_of_contacts.quantile(0.25)\n",
        "no_q3 = df_bal.no_of_contacts.quantile(0.75)\n",
        "no_iqr = no_q3 - no_q1\n",
        "\n",
        "# data selection\n",
        "df_no = df_bal[~((df_bal.no_of_contacts < (no_q1 - (1.5*no_iqr))) | (df_bal.no_of_contacts > (no_q3 + (1.5*no_iqr))))]\n",
        "\n",
        "# print shape of data\n",
        "print(f'previous data shape: {df_bal.shape}, current data shape:{df_no.shape}')"
      ],
      "execution_count": null,
      "outputs": [
        {
          "output_type": "stream",
          "text": [
            "previous data shape: (2532, 17), current data shape:(2433, 17)\n"
          ],
          "name": "stdout"
        }
      ]
    },
    {
      "cell_type": "code",
      "metadata": {
        "colab": {
          "base_uri": "https://localhost:8080/"
        },
        "id": "neXTAs9wIREU",
        "outputId": "0ae4cb98-3335-4db0-84f8-cd9b9343c85f"
      },
      "source": [
        "# data distribution checking\n",
        "fig, axes = plt.subplots(figsize=(8,3), nrows=1, ncols=2)\n",
        "\n",
        "ax = sns.boxplot(df_bal.no_of_contacts, ax=axes[0])\n",
        "ax2 = sns.boxplot(df_no.no_of_contacts, ax=axes[1])\n",
        "\n",
        "plt.tight_layout()\n",
        "plt.show()"
      ],
      "execution_count": null,
      "outputs": [
        {
          "output_type": "display_data",
          "data": {
            "image/png": "[encoded data removed]",
            "text/plain": [
              "<Figure size 576x216 with 2 Axes>"
            ]
          },
          "metadata": {
            "tags": [],
            "needs_background": "light"
          }
        }
      ]
    },
    {
      "cell_type": "markdown",
      "metadata": {
        "id": "q_ABOTGjPYxh"
      },
      "source": [
        "###### **Feature: 'prev_attempts'**"
      ]
    },
    {
      "cell_type": "code",
      "metadata": {
        "id": "OvPgPY1Z8gvR"
      },
      "source": [
        "# df_no.prev_attempts.value_counts()\n",
        "# df_no.prev_attempts.median()\n"
      ],
      "execution_count": null,
      "outputs": []
    },
    {
      "cell_type": "code",
      "metadata": {
        "colab": {
          "base_uri": "https://localhost:8080/"
        },
        "id": "ilzaqnNk6EOT",
        "outputId": "0fd2905e-d283-42cc-d4cc-8e30974013a9"
      },
      "source": [
        "# data selection\n",
        "df_pre = df_no[~(df_no.prev_attempts > df_no.prev_attempts.quantile(0.99))]\n",
        "\n",
        "# print shape of data\n",
        "print(f'previous data shape: {df_no.shape}, current data shape:{df_pre.shape}')"
      ],
      "execution_count": null,
      "outputs": [
        {
          "output_type": "stream",
          "text": [
            "previous data shape: (2433, 17), current data shape:(2410, 17)\n"
          ],
          "name": "stdout"
        }
      ]
    },
    {
      "cell_type": "code",
      "metadata": {
        "colab": {
          "base_uri": "https://localhost:8080/"
        },
        "id": "Kq4YnHNk6EeZ",
        "outputId": "14ca35ec-de25-4f77-e722-1f4a54e6165e"
      },
      "source": [
        "# data distribution checking\n",
        "fig, axes = plt.subplots(figsize=(8,3), nrows=1, ncols=2)\n",
        "\n",
        "ax = sns.boxplot(df_no.prev_attempts, ax=axes[0])\n",
        "ax2 = sns.boxplot(df_pre.prev_attempts, ax=axes[1])\n",
        "\n",
        "plt.tight_layout()\n",
        "plt.show()"
      ],
      "execution_count": null,
      "outputs": [
        {
          "output_type": "display_data",
          "data": {
            "image/png": "[encoded data removed]",
            "text/plain": [
              "<Figure size 576x216 with 2 Axes>"
            ]
          },
          "metadata": {
            "tags": [],
            "needs_background": "light"
          }
        }
      ]
    },
    {
      "cell_type": "markdown",
      "metadata": {
        "id": "xZvX0a-dMcE3"
      },
      "source": [
        "###### **Feature: 'days_passed'**"
      ]
    },
    {
      "cell_type": "code",
      "metadata": {
        "id": "NqoTMbMzQ47M"
      },
      "source": [
        "df_cleaned = df_pre.copy()"
      ],
      "execution_count": null,
      "outputs": []
    },
    {
      "cell_type": "code",
      "metadata": {
        "colab": {
          "base_uri": "https://localhost:8080/"
        },
        "id": "F_ML-ZqoCspw",
        "outputId": "f72442cd-5713-4bcc-b69c-5b6c30bc65df"
      },
      "source": [
        "df_cleaned.isna().sum()"
      ],
      "execution_count": null,
      "outputs": [
        {
          "output_type": "execute_result",
          "data": {
            "text/plain": [
              "age                     0\n",
              "job_type                9\n",
              "marital_status          0\n",
              "education_level        82\n",
              "default_or_not          0\n",
              "balance_amt             0\n",
              "household_insurance     0\n",
              "car_loan                0\n",
              "last_contact_day        0\n",
              "last_contact_month      0\n",
              "no_of_contacts          0\n",
              "days_passed             0\n",
              "prev_attempts           0\n",
              "Outcome                 0\n",
              "call_start              0\n",
              "call_end                0\n",
              "car_insurance           0\n",
              "dtype: int64"
            ]
          },
          "metadata": {
            "tags": []
          },
          "execution_count": 42
        }
      ]
    },
    {
      "cell_type": "code",
      "metadata": {
        "colab": {
          "base_uri": "https://localhost:8080/"
        },
        "id": "lObQHGdwI8y3",
        "outputId": "c6962b3f-a208-4244-aafc-850426e8c797"
      },
      "source": [
        "# monitoring on the data test shape\n",
        "df_test.shape"
      ],
      "execution_count": null,
      "outputs": [
        {
          "output_type": "execute_result",
          "data": {
            "text/plain": [
              "(935, 16)"
            ]
          },
          "metadata": {
            "tags": []
          },
          "execution_count": 43
        }
      ]
    },
    {
      "cell_type": "markdown",
      "metadata": {
        "id": "ev5OlcZRegCF"
      },
      "source": [
        "#### 1.4 Simple Exploratory Data Analysis "
      ]
    },
    {
      "cell_type": "code",
      "metadata": {
        "colab": {
          "base_uri": "https://localhost:8080/"
        },
        "id": "FqbMVEo37bpq",
        "outputId": "ab918a8f-0b4a-4086-c589-f25550a4008f"
      },
      "source": [
        "# data preview\n",
        "df_cleaned.head()"
      ],
      "execution_count": null,
      "outputs": [
        {
          "output_type": "execute_result",
          "data": {
            "text/html": [
              "<div>\n",
              "<style scoped>\n",
              "    .dataframe tbody tr th:only-of-type {\n",
              "        vertical-align: middle;\n",
              "    }\n",
              "\n",
              "    .dataframe tbody tr th {\n",
              "        vertical-align: top;\n",
              "    }\n",
              "\n",
              "    .dataframe thead th {\n",
              "        text-align: right;\n",
              "    }\n",
              "</style>\n",
              "<table border=\"1\" class=\"dataframe\">\n",
              "  <thead>\n",
              "    <tr style=\"text-align: right;\">\n",
              "      <th></th>\n",
              "      <th>age</th>\n",
              "      <th>job_type</th>\n",
              "      <th>marital_status</th>\n",
              "      <th>education_level</th>\n",
              "      <th>default_or_not</th>\n",
              "      <th>balance_amt</th>\n",
              "      <th>household_insurance</th>\n",
              "      <th>car_loan</th>\n",
              "      <th>last_contact_day</th>\n",
              "      <th>last_contact_month</th>\n",
              "      <th>no_of_contacts</th>\n",
              "      <th>days_passed</th>\n",
              "      <th>prev_attempts</th>\n",
              "      <th>Outcome</th>\n",
              "      <th>call_start</th>\n",
              "      <th>call_end</th>\n",
              "      <th>car_insurance</th>\n",
              "    </tr>\n",
              "  </thead>\n",
              "  <tbody>\n",
              "    <tr>\n",
              "      <th>0</th>\n",
              "      <td>47.000000</td>\n",
              "      <td>blue-collar</td>\n",
              "      <td>married</td>\n",
              "      <td>primary</td>\n",
              "      <td>0</td>\n",
              "      <td>1112.000000</td>\n",
              "      <td>1</td>\n",
              "      <td>0</td>\n",
              "      <td>13</td>\n",
              "      <td>may</td>\n",
              "      <td>1</td>\n",
              "      <td>-1</td>\n",
              "      <td>0</td>\n",
              "      <td>other</td>\n",
              "      <td>10:22:20</td>\n",
              "      <td>10:24:29</td>\n",
              "      <td>0</td>\n",
              "    </tr>\n",
              "    <tr>\n",
              "      <th>1</th>\n",
              "      <td>46.031442</td>\n",
              "      <td>management</td>\n",
              "      <td>married</td>\n",
              "      <td>tertiary</td>\n",
              "      <td>0</td>\n",
              "      <td>1.312372</td>\n",
              "      <td>0</td>\n",
              "      <td>1</td>\n",
              "      <td>15</td>\n",
              "      <td>may</td>\n",
              "      <td>3</td>\n",
              "      <td>219</td>\n",
              "      <td>1</td>\n",
              "      <td>other</td>\n",
              "      <td>09:06:30</td>\n",
              "      <td>13:59:48</td>\n",
              "      <td>1</td>\n",
              "    </tr>\n",
              "    <tr>\n",
              "      <th>2</th>\n",
              "      <td>36.000000</td>\n",
              "      <td>services</td>\n",
              "      <td>single</td>\n",
              "      <td>NaN</td>\n",
              "      <td>0</td>\n",
              "      <td>281.000000</td>\n",
              "      <td>1</td>\n",
              "      <td>0</td>\n",
              "      <td>16</td>\n",
              "      <td>may</td>\n",
              "      <td>1</td>\n",
              "      <td>-1</td>\n",
              "      <td>0</td>\n",
              "      <td>other</td>\n",
              "      <td>13:18:41</td>\n",
              "      <td>13:27:16</td>\n",
              "      <td>1</td>\n",
              "    </tr>\n",
              "    <tr>\n",
              "      <th>3</th>\n",
              "      <td>32.000000</td>\n",
              "      <td>technician</td>\n",
              "      <td>single</td>\n",
              "      <td>secondary</td>\n",
              "      <td>0</td>\n",
              "      <td>540.000000</td>\n",
              "      <td>0</td>\n",
              "      <td>1</td>\n",
              "      <td>29</td>\n",
              "      <td>jan</td>\n",
              "      <td>1</td>\n",
              "      <td>-1</td>\n",
              "      <td>0</td>\n",
              "      <td>other</td>\n",
              "      <td>10:09:18</td>\n",
              "      <td>10:21:48</td>\n",
              "      <td>1</td>\n",
              "    </tr>\n",
              "    <tr>\n",
              "      <th>4</th>\n",
              "      <td>30.000000</td>\n",
              "      <td>admin.</td>\n",
              "      <td>single</td>\n",
              "      <td>secondary</td>\n",
              "      <td>0</td>\n",
              "      <td>315.000000</td>\n",
              "      <td>1</td>\n",
              "      <td>0</td>\n",
              "      <td>14</td>\n",
              "      <td>may</td>\n",
              "      <td>3</td>\n",
              "      <td>346</td>\n",
              "      <td>4</td>\n",
              "      <td>failure</td>\n",
              "      <td>12:12:30</td>\n",
              "      <td>12:27:14</td>\n",
              "      <td>1</td>\n",
              "    </tr>\n",
              "  </tbody>\n",
              "</table>\n",
              "</div>"
            ],
            "text/plain": [
              "         age     job_type marital_status  ... call_start  call_end  car_insurance\n",
              "0  47.000000  blue-collar        married  ...   10:22:20  10:24:29              0\n",
              "1  46.031442   management        married  ...   09:06:30  13:59:48              1\n",
              "2  36.000000     services         single  ...   13:18:41  13:27:16              1\n",
              "3  32.000000   technician         single  ...   10:09:18  10:21:48              1\n",
              "4  30.000000       admin.         single  ...   12:12:30  12:27:14              1\n",
              "\n",
              "[5 rows x 17 columns]"
            ]
          },
          "metadata": {
            "tags": []
          },
          "execution_count": 44
        }
      ]
    },
    {
      "cell_type": "markdown",
      "metadata": {
        "id": "KE5CSg_a8inY"
      },
      "source": [
        "##### **'pre_attemps' v.s 'days_passed'**"
      ]
    },
    {
      "cell_type": "code",
      "metadata": {
        "colab": {
          "base_uri": "https://localhost:8080/"
        },
        "id": "mwsIW1XqbsLV",
        "outputId": "9800e5f5-b6c2-48dd-f75a-04fc00890c23"
      },
      "source": [
        "# analyzing relationship between 'pre_attemps' & 'days_passed'\n",
        "no_call = df_cleaned[['prev_attempts','days_passed']].sort_values('prev_attempts').head(30)\n",
        "\n",
        "# data preview\n",
        "print(no_call)\n",
        "\n",
        "# from here we know that -1 in 'days_passed' means the costumer never get called"
      ],
      "execution_count": null,
      "outputs": [
        {
          "output_type": "stream",
          "text": [
            "      prev_attempts  days_passed\n",
            "0                 0           -1\n",
            "1738              0           -1\n",
            "1737              0           -1\n",
            "1736              0           -1\n",
            "1735              0           -1\n",
            "1734              0           -1\n",
            "1733              0           -1\n",
            "1732              0           -1\n",
            "1729              0           -1\n",
            "1728              0           -1\n",
            "1727              0           -1\n",
            "1726              0           -1\n",
            "1725              0           -1\n",
            "1719              0           -1\n",
            "1718              0           -1\n",
            "1715              0           -1\n",
            "1714              0           -1\n",
            "1713              0           -1\n",
            "1710              0           -1\n",
            "1709              0           -1\n",
            "1706              0           -1\n",
            "1703              0           -1\n",
            "1701              0           -1\n",
            "1700              0           -1\n",
            "1699              0           -1\n",
            "1698              0           -1\n",
            "1697              0           -1\n",
            "1696              0           -1\n",
            "1739              0           -1\n",
            "1740              0           -1\n"
          ],
          "name": "stdout"
        }
      ]
    },
    {
      "cell_type": "markdown",
      "metadata": {
        "id": "mf2hZh9O-Vmo"
      },
      "source": [
        "### 2. Data Preprocessing"
      ]
    },
    {
      "cell_type": "code",
      "metadata": {
        "colab": {
          "base_uri": "https://localhost:8080/",
          "height": 224
        },
        "id": "W0oj10en-bjY",
        "outputId": "0859dd77-107e-4512-f5dd-d2937da2d889"
      },
      "source": [
        "df_cleaned.head()"
      ],
      "execution_count": null,
      "outputs": [
        {
          "output_type": "execute_result",
          "data": {
            "text/html": [
              "<div>\n",
              "<style scoped>\n",
              "    .dataframe tbody tr th:only-of-type {\n",
              "        vertical-align: middle;\n",
              "    }\n",
              "\n",
              "    .dataframe tbody tr th {\n",
              "        vertical-align: top;\n",
              "    }\n",
              "\n",
              "    .dataframe thead th {\n",
              "        text-align: right;\n",
              "    }\n",
              "</style>\n",
              "<table border=\"1\" class=\"dataframe\">\n",
              "  <thead>\n",
              "    <tr style=\"text-align: right;\">\n",
              "      <th></th>\n",
              "      <th>age</th>\n",
              "      <th>job_type</th>\n",
              "      <th>marital_status</th>\n",
              "      <th>education_level</th>\n",
              "      <th>default_or_not</th>\n",
              "      <th>balance_amt</th>\n",
              "      <th>household_insurance</th>\n",
              "      <th>car_loan</th>\n",
              "      <th>last_contact_day</th>\n",
              "      <th>last_contact_month</th>\n",
              "      <th>no_of_contacts</th>\n",
              "      <th>days_passed</th>\n",
              "      <th>prev_attempts</th>\n",
              "      <th>Outcome</th>\n",
              "      <th>call_start</th>\n",
              "      <th>call_end</th>\n",
              "      <th>car_insurance</th>\n",
              "    </tr>\n",
              "  </thead>\n",
              "  <tbody>\n",
              "    <tr>\n",
              "      <th>0</th>\n",
              "      <td>47.000000</td>\n",
              "      <td>blue-collar</td>\n",
              "      <td>married</td>\n",
              "      <td>primary</td>\n",
              "      <td>0</td>\n",
              "      <td>1112.000000</td>\n",
              "      <td>1</td>\n",
              "      <td>0</td>\n",
              "      <td>13</td>\n",
              "      <td>may</td>\n",
              "      <td>1</td>\n",
              "      <td>-1</td>\n",
              "      <td>0</td>\n",
              "      <td>other</td>\n",
              "      <td>10:22:20</td>\n",
              "      <td>10:24:29</td>\n",
              "      <td>0</td>\n",
              "    </tr>\n",
              "    <tr>\n",
              "      <th>1</th>\n",
              "      <td>46.031442</td>\n",
              "      <td>management</td>\n",
              "      <td>married</td>\n",
              "      <td>tertiary</td>\n",
              "      <td>0</td>\n",
              "      <td>1.312372</td>\n",
              "      <td>0</td>\n",
              "      <td>1</td>\n",
              "      <td>15</td>\n",
              "      <td>may</td>\n",
              "      <td>3</td>\n",
              "      <td>219</td>\n",
              "      <td>1</td>\n",
              "      <td>other</td>\n",
              "      <td>09:06:30</td>\n",
              "      <td>13:59:48</td>\n",
              "      <td>1</td>\n",
              "    </tr>\n",
              "    <tr>\n",
              "      <th>2</th>\n",
              "      <td>36.000000</td>\n",
              "      <td>services</td>\n",
              "      <td>single</td>\n",
              "      <td>NaN</td>\n",
              "      <td>0</td>\n",
              "      <td>281.000000</td>\n",
              "      <td>1</td>\n",
              "      <td>0</td>\n",
              "      <td>16</td>\n",
              "      <td>may</td>\n",
              "      <td>1</td>\n",
              "      <td>-1</td>\n",
              "      <td>0</td>\n",
              "      <td>other</td>\n",
              "      <td>13:18:41</td>\n",
              "      <td>13:27:16</td>\n",
              "      <td>1</td>\n",
              "    </tr>\n",
              "    <tr>\n",
              "      <th>3</th>\n",
              "      <td>32.000000</td>\n",
              "      <td>technician</td>\n",
              "      <td>single</td>\n",
              "      <td>secondary</td>\n",
              "      <td>0</td>\n",
              "      <td>540.000000</td>\n",
              "      <td>0</td>\n",
              "      <td>1</td>\n",
              "      <td>29</td>\n",
              "      <td>jan</td>\n",
              "      <td>1</td>\n",
              "      <td>-1</td>\n",
              "      <td>0</td>\n",
              "      <td>other</td>\n",
              "      <td>10:09:18</td>\n",
              "      <td>10:21:48</td>\n",
              "      <td>1</td>\n",
              "    </tr>\n",
              "    <tr>\n",
              "      <th>4</th>\n",
              "      <td>30.000000</td>\n",
              "      <td>admin.</td>\n",
              "      <td>single</td>\n",
              "      <td>secondary</td>\n",
              "      <td>0</td>\n",
              "      <td>315.000000</td>\n",
              "      <td>1</td>\n",
              "      <td>0</td>\n",
              "      <td>14</td>\n",
              "      <td>may</td>\n",
              "      <td>3</td>\n",
              "      <td>346</td>\n",
              "      <td>4</td>\n",
              "      <td>failure</td>\n",
              "      <td>12:12:30</td>\n",
              "      <td>12:27:14</td>\n",
              "      <td>1</td>\n",
              "    </tr>\n",
              "  </tbody>\n",
              "</table>\n",
              "</div>"
            ],
            "text/plain": [
              "         age     job_type marital_status  ... call_start  call_end  car_insurance\n",
              "0  47.000000  blue-collar        married  ...   10:22:20  10:24:29              0\n",
              "1  46.031442   management        married  ...   09:06:30  13:59:48              1\n",
              "2  36.000000     services         single  ...   13:18:41  13:27:16              1\n",
              "3  32.000000   technician         single  ...   10:09:18  10:21:48              1\n",
              "4  30.000000       admin.         single  ...   12:12:30  12:27:14              1\n",
              "\n",
              "[5 rows x 17 columns]"
            ]
          },
          "metadata": {
            "tags": []
          },
          "execution_count": 69
        }
      ]
    },
    {
      "cell_type": "markdown",
      "metadata": {
        "id": "OtQQpqOw-h0G"
      },
      "source": [
        "#### 2.1 Datatype Checking"
      ]
    },
    {
      "cell_type": "code",
      "metadata": {
        "colab": {
          "base_uri": "https://localhost:8080/"
        },
        "id": "BzyrZh8F-bSW",
        "outputId": "de1ee462-12fb-44f3-f1cd-a080944dbd35"
      },
      "source": [
        "df_cleaned.info()"
      ],
      "execution_count": null,
      "outputs": [
        {
          "output_type": "stream",
          "text": [
            "<class 'pandas.core.frame.DataFrame'>\n",
            "Int64Index: 2410 entries, 0 to 2801\n",
            "Data columns (total 17 columns):\n",
            " #   Column               Non-Null Count  Dtype  \n",
            "---  ------               --------------  -----  \n",
            " 0   age                  2410 non-null   float64\n",
            " 1   job_type             2401 non-null   object \n",
            " 2   marital_status       2410 non-null   object \n",
            " 3   education_level      2328 non-null   object \n",
            " 4   default_or_not       2410 non-null   int64  \n",
            " 5   balance_amt          2410 non-null   float64\n",
            " 6   household_insurance  2410 non-null   int64  \n",
            " 7   car_loan             2410 non-null   int64  \n",
            " 8   last_contact_day     2410 non-null   int64  \n",
            " 9   last_contact_month   2410 non-null   object \n",
            " 10  no_of_contacts       2410 non-null   int64  \n",
            " 11  days_passed          2410 non-null   int64  \n",
            " 12  prev_attempts        2410 non-null   int64  \n",
            " 13  Outcome              2410 non-null   object \n",
            " 14  call_start           2410 non-null   object \n",
            " 15  call_end             2410 non-null   object \n",
            " 16  car_insurance        2410 non-null   int64  \n",
            "dtypes: float64(2), int64(8), object(7)\n",
            "memory usage: 338.9+ KB\n"
          ],
          "name": "stdout"
        }
      ]
    },
    {
      "cell_type": "markdown",
      "metadata": {
        "id": "H8L15YhQ-_NK"
      },
      "source": [
        "```\n",
        "as we can see above that:\n",
        "1. 'age' is float, we need to change it into int\n",
        "2. 'call_start' and 'call_end' features are object, not datetime\n",
        "```"
      ]
    },
    {
      "cell_type": "markdown",
      "metadata": {
        "id": "HuCS-3gFPNEO"
      },
      "source": [
        "#### 2.2 Data Encoding"
      ]
    },
    {
      "cell_type": "code",
      "metadata": {
        "colab": {
          "base_uri": "https://localhost:8080/"
        },
        "id": "bZqhf7VjGCjS",
        "outputId": "5ced3569-d45f-45e2-9bb2-9ac096f8cf1b"
      },
      "source": [
        "df_cleaned.dtypes"
      ],
      "execution_count": null,
      "outputs": [
        {
          "output_type": "execute_result",
          "data": {
            "text/plain": [
              "age                    float64\n",
              "job_type                object\n",
              "marital_status          object\n",
              "education_level         object\n",
              "default_or_not           int64\n",
              "balance_amt            float64\n",
              "household_insurance      int64\n",
              "car_loan                 int64\n",
              "last_contact_day         int64\n",
              "last_contact_month      object\n",
              "no_of_contacts           int64\n",
              "days_passed              int64\n",
              "prev_attempts            int64\n",
              "Outcome                 object\n",
              "call_start              object\n",
              "call_end                object\n",
              "car_insurance            int64\n",
              "dtype: object"
            ]
          },
          "metadata": {
            "tags": []
          },
          "execution_count": 49
        }
      ]
    },
    {
      "cell_type": "markdown",
      "metadata": {
        "id": "TswuSsPu_UMJ"
      },
      "source": [
        "##### One-Hot Encoding"
      ]
    },
    {
      "cell_type": "code",
      "metadata": {
        "colab": {
          "base_uri": "https://localhost:8080/"
        },
        "id": "98Dw8ZL2DHLA",
        "outputId": "5d30d87a-d06d-481e-efa0-44ac65ab0fe8"
      },
      "source": [
        "# before\n",
        "df_cleaned.shape"
      ],
      "execution_count": null,
      "outputs": [
        {
          "output_type": "execute_result",
          "data": {
            "text/plain": [
              "(2410, 17)"
            ]
          },
          "metadata": {
            "tags": []
          },
          "execution_count": 50
        }
      ]
    },
    {
      "cell_type": "code",
      "metadata": {
        "colab": {
          "base_uri": "https://localhost:8080/"
        },
        "id": "KxN5eenIPURo",
        "outputId": "b41b6081-e9b9-43e8-ed1b-d33cc68e777d"
      },
      "source": [
        "## TRAIN DATASET\n",
        "# encode object datatype using on hot encoding, except: 'call_start', 'call_end' & 'last_contact_month'\n",
        "job_typ = pd.get_dummies(df_cleaned.job_type, drop_first=True)\n",
        "mar_sts = pd.get_dummies(df_cleaned.marital_status, drop_first=True)\n",
        "edu_lvl = pd.get_dummies(df_cleaned.education_level, drop_first=True)\n",
        "outcome = pd.get_dummies(df_cleaned.Outcome, drop_first=True)\n",
        "\n",
        "# drop un-encoded features\n",
        "df_cleaned.drop(['job_type','marital_status','education_level','Outcome'], axis=1, inplace=True)\n",
        "\n",
        "# add the encoded features\n",
        "df_cleaned = pd.concat([df_cleaned, job_typ, mar_sts, edu_lvl, outcome], axis=1)\n",
        "df_cleaned.head(3)"
      ],
      "execution_count": null,
      "outputs": [
        {
          "output_type": "execute_result",
          "data": {
            "text/html": [
              "<div>\n",
              "<style scoped>\n",
              "    .dataframe tbody tr th:only-of-type {\n",
              "        vertical-align: middle;\n",
              "    }\n",
              "\n",
              "    .dataframe tbody tr th {\n",
              "        vertical-align: top;\n",
              "    }\n",
              "\n",
              "    .dataframe thead th {\n",
              "        text-align: right;\n",
              "    }\n",
              "</style>\n",
              "<table border=\"1\" class=\"dataframe\">\n",
              "  <thead>\n",
              "    <tr style=\"text-align: right;\">\n",
              "      <th></th>\n",
              "      <th>age</th>\n",
              "      <th>default_or_not</th>\n",
              "      <th>balance_amt</th>\n",
              "      <th>household_insurance</th>\n",
              "      <th>car_loan</th>\n",
              "      <th>last_contact_day</th>\n",
              "      <th>last_contact_month</th>\n",
              "      <th>no_of_contacts</th>\n",
              "      <th>days_passed</th>\n",
              "      <th>prev_attempts</th>\n",
              "      <th>call_start</th>\n",
              "      <th>call_end</th>\n",
              "      <th>car_insurance</th>\n",
              "      <th>blue-collar</th>\n",
              "      <th>entrepreneur</th>\n",
              "      <th>housemaid</th>\n",
              "      <th>management</th>\n",
              "      <th>retired</th>\n",
              "      <th>self-employed</th>\n",
              "      <th>services</th>\n",
              "      <th>student</th>\n",
              "      <th>technician</th>\n",
              "      <th>unemployed</th>\n",
              "      <th>married</th>\n",
              "      <th>single</th>\n",
              "      <th>secondary</th>\n",
              "      <th>tertiary</th>\n",
              "      <th>other</th>\n",
              "      <th>success</th>\n",
              "    </tr>\n",
              "  </thead>\n",
              "  <tbody>\n",
              "    <tr>\n",
              "      <th>0</th>\n",
              "      <td>47.000000</td>\n",
              "      <td>0</td>\n",
              "      <td>1112.000000</td>\n",
              "      <td>1</td>\n",
              "      <td>0</td>\n",
              "      <td>13</td>\n",
              "      <td>may</td>\n",
              "      <td>1</td>\n",
              "      <td>-1</td>\n",
              "      <td>0</td>\n",
              "      <td>10:22:20</td>\n",
              "      <td>10:24:29</td>\n",
              "      <td>0</td>\n",
              "      <td>1</td>\n",
              "      <td>0</td>\n",
              "      <td>0</td>\n",
              "      <td>0</td>\n",
              "      <td>0</td>\n",
              "      <td>0</td>\n",
              "      <td>0</td>\n",
              "      <td>0</td>\n",
              "      <td>0</td>\n",
              "      <td>0</td>\n",
              "      <td>1</td>\n",
              "      <td>0</td>\n",
              "      <td>0</td>\n",
              "      <td>0</td>\n",
              "      <td>1</td>\n",
              "      <td>0</td>\n",
              "    </tr>\n",
              "    <tr>\n",
              "      <th>1</th>\n",
              "      <td>46.031442</td>\n",
              "      <td>0</td>\n",
              "      <td>1.312372</td>\n",
              "      <td>0</td>\n",
              "      <td>1</td>\n",
              "      <td>15</td>\n",
              "      <td>may</td>\n",
              "      <td>3</td>\n",
              "      <td>219</td>\n",
              "      <td>1</td>\n",
              "      <td>09:06:30</td>\n",
              "      <td>13:59:48</td>\n",
              "      <td>1</td>\n",
              "      <td>0</td>\n",
              "      <td>0</td>\n",
              "      <td>0</td>\n",
              "      <td>1</td>\n",
              "      <td>0</td>\n",
              "      <td>0</td>\n",
              "      <td>0</td>\n",
              "      <td>0</td>\n",
              "      <td>0</td>\n",
              "      <td>0</td>\n",
              "      <td>1</td>\n",
              "      <td>0</td>\n",
              "      <td>0</td>\n",
              "      <td>1</td>\n",
              "      <td>1</td>\n",
              "      <td>0</td>\n",
              "    </tr>\n",
              "    <tr>\n",
              "      <th>2</th>\n",
              "      <td>36.000000</td>\n",
              "      <td>0</td>\n",
              "      <td>281.000000</td>\n",
              "      <td>1</td>\n",
              "      <td>0</td>\n",
              "      <td>16</td>\n",
              "      <td>may</td>\n",
              "      <td>1</td>\n",
              "      <td>-1</td>\n",
              "      <td>0</td>\n",
              "      <td>13:18:41</td>\n",
              "      <td>13:27:16</td>\n",
              "      <td>1</td>\n",
              "      <td>0</td>\n",
              "      <td>0</td>\n",
              "      <td>0</td>\n",
              "      <td>0</td>\n",
              "      <td>0</td>\n",
              "      <td>0</td>\n",
              "      <td>1</td>\n",
              "      <td>0</td>\n",
              "      <td>0</td>\n",
              "      <td>0</td>\n",
              "      <td>0</td>\n",
              "      <td>1</td>\n",
              "      <td>0</td>\n",
              "      <td>0</td>\n",
              "      <td>1</td>\n",
              "      <td>0</td>\n",
              "    </tr>\n",
              "  </tbody>\n",
              "</table>\n",
              "</div>"
            ],
            "text/plain": [
              "         age  default_or_not  balance_amt  ...  tertiary  other  success\n",
              "0  47.000000               0  1112.000000  ...         0      1        0\n",
              "1  46.031442               0     1.312372  ...         1      1        0\n",
              "2  36.000000               0   281.000000  ...         0      1        0\n",
              "\n",
              "[3 rows x 29 columns]"
            ]
          },
          "metadata": {
            "tags": []
          },
          "execution_count": 51
        }
      ]
    },
    {
      "cell_type": "code",
      "metadata": {
        "colab": {
          "base_uri": "https://localhost:8080/"
        },
        "id": "k_r1O128DMYk",
        "outputId": "4f550194-3bb2-41f9-b55c-05c4a15d1d93"
      },
      "source": [
        "# after\n",
        "df_cleaned.shape"
      ],
      "execution_count": null,
      "outputs": [
        {
          "output_type": "execute_result",
          "data": {
            "text/plain": [
              "(2410, 29)"
            ]
          },
          "metadata": {
            "tags": []
          },
          "execution_count": 52
        }
      ]
    },
    {
      "cell_type": "code",
      "metadata": {
        "colab": {
          "base_uri": "https://localhost:8080/"
        },
        "id": "RVI2d5o-EQuj",
        "outputId": "af24c236-1d41-4bee-d38d-50888351d94f"
      },
      "source": [
        "# before\n",
        "df_test.shape"
      ],
      "execution_count": null,
      "outputs": [
        {
          "output_type": "execute_result",
          "data": {
            "text/plain": [
              "(935, 16)"
            ]
          },
          "metadata": {
            "tags": []
          },
          "execution_count": 53
        }
      ]
    },
    {
      "cell_type": "code",
      "metadata": {
        "colab": {
          "base_uri": "https://localhost:8080/"
        },
        "id": "dqs4NOfoPUVT",
        "outputId": "64be60de-17e8-4ea5-f333-2b813cca2dca"
      },
      "source": [
        "## TEST DATASET\n",
        "# encode object datatype using one-hot encoding, except: 'call_start', 'call_end' & 'last_contact_month'\n",
        "job_typ_test = pd.get_dummies(df_test.job_type, drop_first=True)\n",
        "mar_sts_test = pd.get_dummies(df_test.marital_status, drop_first=True)\n",
        "edu_lvl_test = pd.get_dummies(df_test.education_level, drop_first=True)\n",
        "outcome_test = pd.get_dummies(df_test.Outcome, drop_first=True)\n",
        "\n",
        "# drop un-encoded features\n",
        "df_test.drop(['job_type','marital_status','education_level','Outcome'], axis=1, inplace=True)\n",
        "\n",
        "# add the encoded features\n",
        "df_test = pd.concat([df_test, job_typ_test, mar_sts_test, edu_lvl_test, outcome_test], axis=1)\n",
        "df_test.head(3)"
      ],
      "execution_count": null,
      "outputs": [
        {
          "output_type": "execute_result",
          "data": {
            "text/html": [
              "<div>\n",
              "<style scoped>\n",
              "    .dataframe tbody tr th:only-of-type {\n",
              "        vertical-align: middle;\n",
              "    }\n",
              "\n",
              "    .dataframe tbody tr th {\n",
              "        vertical-align: top;\n",
              "    }\n",
              "\n",
              "    .dataframe thead th {\n",
              "        text-align: right;\n",
              "    }\n",
              "</style>\n",
              "<table border=\"1\" class=\"dataframe\">\n",
              "  <thead>\n",
              "    <tr style=\"text-align: right;\">\n",
              "      <th></th>\n",
              "      <th>age</th>\n",
              "      <th>default_or_not</th>\n",
              "      <th>balance_amt</th>\n",
              "      <th>household_insurance</th>\n",
              "      <th>car_loan</th>\n",
              "      <th>last_contact_day</th>\n",
              "      <th>last_contact_month</th>\n",
              "      <th>no_of_contacts</th>\n",
              "      <th>days_passed</th>\n",
              "      <th>prev_attempts</th>\n",
              "      <th>call_start</th>\n",
              "      <th>call_end</th>\n",
              "      <th>blue-collar</th>\n",
              "      <th>entrepreneur</th>\n",
              "      <th>housemaid</th>\n",
              "      <th>management</th>\n",
              "      <th>retired</th>\n",
              "      <th>self-employed</th>\n",
              "      <th>services</th>\n",
              "      <th>student</th>\n",
              "      <th>technician</th>\n",
              "      <th>unemployed</th>\n",
              "      <th>married</th>\n",
              "      <th>single</th>\n",
              "      <th>secondary</th>\n",
              "      <th>tertiary</th>\n",
              "      <th>other</th>\n",
              "      <th>success</th>\n",
              "    </tr>\n",
              "  </thead>\n",
              "  <tbody>\n",
              "    <tr>\n",
              "      <th>0</th>\n",
              "      <td>65.0</td>\n",
              "      <td>0</td>\n",
              "      <td>20806.0</td>\n",
              "      <td>0</td>\n",
              "      <td>0</td>\n",
              "      <td>8</td>\n",
              "      <td>apr</td>\n",
              "      <td>2</td>\n",
              "      <td>-1</td>\n",
              "      <td>0</td>\n",
              "      <td>12:22:13</td>\n",
              "      <td>12:30:56</td>\n",
              "      <td>0</td>\n",
              "      <td>0</td>\n",
              "      <td>0</td>\n",
              "      <td>0</td>\n",
              "      <td>1</td>\n",
              "      <td>0</td>\n",
              "      <td>0</td>\n",
              "      <td>0</td>\n",
              "      <td>0</td>\n",
              "      <td>0</td>\n",
              "      <td>1</td>\n",
              "      <td>0</td>\n",
              "      <td>1</td>\n",
              "      <td>0</td>\n",
              "      <td>1</td>\n",
              "      <td>0</td>\n",
              "    </tr>\n",
              "    <tr>\n",
              "      <th>1</th>\n",
              "      <td>36.0</td>\n",
              "      <td>0</td>\n",
              "      <td>900.0</td>\n",
              "      <td>1</td>\n",
              "      <td>0</td>\n",
              "      <td>15</td>\n",
              "      <td>may</td>\n",
              "      <td>2</td>\n",
              "      <td>-1</td>\n",
              "      <td>0</td>\n",
              "      <td>17:59:45</td>\n",
              "      <td>18:07:40</td>\n",
              "      <td>0</td>\n",
              "      <td>0</td>\n",
              "      <td>0</td>\n",
              "      <td>1</td>\n",
              "      <td>0</td>\n",
              "      <td>0</td>\n",
              "      <td>0</td>\n",
              "      <td>0</td>\n",
              "      <td>0</td>\n",
              "      <td>0</td>\n",
              "      <td>1</td>\n",
              "      <td>0</td>\n",
              "      <td>0</td>\n",
              "      <td>1</td>\n",
              "      <td>1</td>\n",
              "      <td>0</td>\n",
              "    </tr>\n",
              "    <tr>\n",
              "      <th>2</th>\n",
              "      <td>37.0</td>\n",
              "      <td>0</td>\n",
              "      <td>6771.0</td>\n",
              "      <td>0</td>\n",
              "      <td>0</td>\n",
              "      <td>7</td>\n",
              "      <td>sep</td>\n",
              "      <td>1</td>\n",
              "      <td>186</td>\n",
              "      <td>1</td>\n",
              "      <td>14:05:19</td>\n",
              "      <td>14:10:56</td>\n",
              "      <td>0</td>\n",
              "      <td>0</td>\n",
              "      <td>0</td>\n",
              "      <td>1</td>\n",
              "      <td>0</td>\n",
              "      <td>0</td>\n",
              "      <td>0</td>\n",
              "      <td>0</td>\n",
              "      <td>0</td>\n",
              "      <td>0</td>\n",
              "      <td>1</td>\n",
              "      <td>0</td>\n",
              "      <td>0</td>\n",
              "      <td>1</td>\n",
              "      <td>0</td>\n",
              "      <td>1</td>\n",
              "    </tr>\n",
              "  </tbody>\n",
              "</table>\n",
              "</div>"
            ],
            "text/plain": [
              "    age  default_or_not  balance_amt  ...  tertiary  other  success\n",
              "0  65.0               0      20806.0  ...         0      1        0\n",
              "1  36.0               0        900.0  ...         1      1        0\n",
              "2  37.0               0       6771.0  ...         1      0        1\n",
              "\n",
              "[3 rows x 28 columns]"
            ]
          },
          "metadata": {
            "tags": []
          },
          "execution_count": 54
        }
      ]
    },
    {
      "cell_type": "code",
      "metadata": {
        "colab": {
          "base_uri": "https://localhost:8080/"
        },
        "id": "WW20RL06OVtN",
        "outputId": "3a3744f6-29c6-4eec-843a-2b067f33366e"
      },
      "source": [
        "# after\n",
        "df_test.shape"
      ],
      "execution_count": null,
      "outputs": [
        {
          "output_type": "execute_result",
          "data": {
            "text/plain": [
              "(935, 28)"
            ]
          },
          "metadata": {
            "tags": []
          },
          "execution_count": 55
        }
      ]
    },
    {
      "cell_type": "markdown",
      "metadata": {
        "id": "SkfPtkQ9_ZdH"
      },
      "source": [
        "##### Label Encoding"
      ]
    },
    {
      "cell_type": "code",
      "metadata": {
        "id": "lfgVdOR__X_2",
        "colab": {
          "base_uri": "https://localhost:8080/"
        },
        "outputId": "93ad3e1f-6e5e-437f-d73f-b2a352d69262"
      },
      "source": [
        "# 'last_contact_month' mapping\n",
        "lcm_mapping = {'jan':1,'feb':2,'mar':3,'apr':4,'may':5,'jun':6,'jul':7,'aug':8,'sep':9,'oct':10,'nov':11,'dec':12}\n",
        "\n",
        "# encoding process\n",
        "df_cleaned.last_contact_month = df_cleaned.last_contact_month.map(lcm_mapping)\n",
        "\n",
        "# datatype preview\n",
        "df_cleaned.dtypes"
      ],
      "execution_count": null,
      "outputs": [
        {
          "output_type": "execute_result",
          "data": {
            "text/plain": [
              "age                    float64\n",
              "default_or_not           int64\n",
              "balance_amt            float64\n",
              "household_insurance      int64\n",
              "car_loan                 int64\n",
              "last_contact_day         int64\n",
              "last_contact_month       int64\n",
              "no_of_contacts           int64\n",
              "days_passed              int64\n",
              "prev_attempts            int64\n",
              "call_start              object\n",
              "call_end                object\n",
              "car_insurance            int64\n",
              "blue-collar              uint8\n",
              "entrepreneur             uint8\n",
              "housemaid                uint8\n",
              "management               uint8\n",
              "retired                  uint8\n",
              "self-employed            uint8\n",
              "services                 uint8\n",
              "student                  uint8\n",
              "technician               uint8\n",
              "unemployed               uint8\n",
              "married                  uint8\n",
              "single                   uint8\n",
              "secondary                uint8\n",
              "tertiary                 uint8\n",
              "other                    uint8\n",
              "success                  uint8\n",
              "dtype: object"
            ]
          },
          "metadata": {
            "tags": []
          },
          "execution_count": 56
        }
      ]
    },
    {
      "cell_type": "code",
      "metadata": {
        "colab": {
          "base_uri": "https://localhost:8080/"
        },
        "id": "Q3e9FMg0_t6S",
        "outputId": "e573965b-6ca0-453e-b364-476949d24aca"
      },
      "source": [
        "# 'last_contact_month' mapping\n",
        "lcm_mapping_test = {'jan':1,'feb':2,'mar':3,'apr':4,'may':5,'jun':6,'jul':7,'aug':8,'sep':9,'oct':10,'nov':11,'dec':12}\n",
        "\n",
        "# encoding process\n",
        "df_test.last_contact_month = df_test.last_contact_month.map(lcm_mapping_test)\n",
        "\n",
        "# datatype preview\n",
        "df_test.dtypes"
      ],
      "execution_count": null,
      "outputs": [
        {
          "output_type": "execute_result",
          "data": {
            "text/plain": [
              "age                    float64\n",
              "default_or_not           int64\n",
              "balance_amt            float64\n",
              "household_insurance      int64\n",
              "car_loan                 int64\n",
              "last_contact_day         int64\n",
              "last_contact_month       int64\n",
              "no_of_contacts           int64\n",
              "days_passed              int64\n",
              "prev_attempts            int64\n",
              "call_start              object\n",
              "call_end                object\n",
              "blue-collar              uint8\n",
              "entrepreneur             uint8\n",
              "housemaid                uint8\n",
              "management               uint8\n",
              "retired                  uint8\n",
              "self-employed            uint8\n",
              "services                 uint8\n",
              "student                  uint8\n",
              "technician               uint8\n",
              "unemployed               uint8\n",
              "married                  uint8\n",
              "single                   uint8\n",
              "secondary                uint8\n",
              "tertiary                 uint8\n",
              "other                    uint8\n",
              "success                  uint8\n",
              "dtype: object"
            ]
          },
          "metadata": {
            "tags": []
          },
          "execution_count": 57
        }
      ]
    },
    {
      "cell_type": "code",
      "metadata": {
        "colab": {
          "base_uri": "https://localhost:8080/"
        },
        "id": "_DX3GhdpJMud",
        "outputId": "6371e0d8-f8c2-48c4-e79e-65e71dddd2de"
      },
      "source": [
        "# monitoring on the data test shape\n",
        "df_test.shape"
      ],
      "execution_count": null,
      "outputs": [
        {
          "output_type": "execute_result",
          "data": {
            "text/plain": [
              "(935, 28)"
            ]
          },
          "metadata": {
            "tags": []
          },
          "execution_count": 58
        }
      ]
    },
    {
      "cell_type": "markdown",
      "metadata": {
        "id": "6XQTcHzyFbOj"
      },
      "source": [
        "#### 2.3 Feature Selection"
      ]
    },
    {
      "cell_type": "markdown",
      "metadata": {
        "id": "ZPOg8-Us9sb5"
      },
      "source": [
        "##### Feature Engineering: **Finding Call Duration**"
      ]
    },
    {
      "cell_type": "markdown",
      "metadata": {
        "id": "mKZ4g0ecFTmT"
      },
      "source": [
        "###### TRAINING DATASET"
      ]
    },
    {
      "cell_type": "code",
      "metadata": {
        "colab": {
          "base_uri": "https://localhost:8080/"
        },
        "id": "gG_WjVyu-ImD",
        "outputId": "ff693902-b70d-4585-9943-e5f28f3bc22f"
      },
      "source": [
        "# time (in second) calculation for finding 'call_duration'\n",
        "a = pd.to_datetime(df_cleaned.call_start, format='%H:%M:%S') - pd.to_datetime(df_cleaned.call_start, format='%H:%M:%S').dt.normalize()\n",
        "b = pd.to_datetime(df_cleaned.call_end, format='%H:%M:%S') - pd.to_datetime(df_cleaned.call_end, format='%H:%M:%S').dt.normalize()\n",
        "c = pd.concat([a,b], axis=1)\n",
        "\n",
        "# enter the into main df\n",
        "df_cleaned['call_duration'] = c.call_end - c.call_start\n",
        "df_cleaned.head(3)"
      ],
      "execution_count": null,
      "outputs": [
        {
          "output_type": "execute_result",
          "data": {
            "text/html": [
              "<div>\n",
              "<style scoped>\n",
              "    .dataframe tbody tr th:only-of-type {\n",
              "        vertical-align: middle;\n",
              "    }\n",
              "\n",
              "    .dataframe tbody tr th {\n",
              "        vertical-align: top;\n",
              "    }\n",
              "\n",
              "    .dataframe thead th {\n",
              "        text-align: right;\n",
              "    }\n",
              "</style>\n",
              "<table border=\"1\" class=\"dataframe\">\n",
              "  <thead>\n",
              "    <tr style=\"text-align: right;\">\n",
              "      <th></th>\n",
              "      <th>age</th>\n",
              "      <th>default_or_not</th>\n",
              "      <th>balance_amt</th>\n",
              "      <th>household_insurance</th>\n",
              "      <th>car_loan</th>\n",
              "      <th>last_contact_day</th>\n",
              "      <th>last_contact_month</th>\n",
              "      <th>no_of_contacts</th>\n",
              "      <th>days_passed</th>\n",
              "      <th>prev_attempts</th>\n",
              "      <th>call_start</th>\n",
              "      <th>call_end</th>\n",
              "      <th>car_insurance</th>\n",
              "      <th>blue-collar</th>\n",
              "      <th>entrepreneur</th>\n",
              "      <th>housemaid</th>\n",
              "      <th>management</th>\n",
              "      <th>retired</th>\n",
              "      <th>self-employed</th>\n",
              "      <th>services</th>\n",
              "      <th>student</th>\n",
              "      <th>technician</th>\n",
              "      <th>unemployed</th>\n",
              "      <th>married</th>\n",
              "      <th>single</th>\n",
              "      <th>secondary</th>\n",
              "      <th>tertiary</th>\n",
              "      <th>other</th>\n",
              "      <th>success</th>\n",
              "      <th>call_duration</th>\n",
              "    </tr>\n",
              "  </thead>\n",
              "  <tbody>\n",
              "    <tr>\n",
              "      <th>0</th>\n",
              "      <td>47.000000</td>\n",
              "      <td>0</td>\n",
              "      <td>1112.000000</td>\n",
              "      <td>1</td>\n",
              "      <td>0</td>\n",
              "      <td>13</td>\n",
              "      <td>5</td>\n",
              "      <td>1</td>\n",
              "      <td>-1</td>\n",
              "      <td>0</td>\n",
              "      <td>10:22:20</td>\n",
              "      <td>10:24:29</td>\n",
              "      <td>0</td>\n",
              "      <td>1</td>\n",
              "      <td>0</td>\n",
              "      <td>0</td>\n",
              "      <td>0</td>\n",
              "      <td>0</td>\n",
              "      <td>0</td>\n",
              "      <td>0</td>\n",
              "      <td>0</td>\n",
              "      <td>0</td>\n",
              "      <td>0</td>\n",
              "      <td>1</td>\n",
              "      <td>0</td>\n",
              "      <td>0</td>\n",
              "      <td>0</td>\n",
              "      <td>1</td>\n",
              "      <td>0</td>\n",
              "      <td>0 days 00:02:09</td>\n",
              "    </tr>\n",
              "    <tr>\n",
              "      <th>1</th>\n",
              "      <td>46.031442</td>\n",
              "      <td>0</td>\n",
              "      <td>1.312372</td>\n",
              "      <td>0</td>\n",
              "      <td>1</td>\n",
              "      <td>15</td>\n",
              "      <td>5</td>\n",
              "      <td>3</td>\n",
              "      <td>219</td>\n",
              "      <td>1</td>\n",
              "      <td>09:06:30</td>\n",
              "      <td>13:59:48</td>\n",
              "      <td>1</td>\n",
              "      <td>0</td>\n",
              "      <td>0</td>\n",
              "      <td>0</td>\n",
              "      <td>1</td>\n",
              "      <td>0</td>\n",
              "      <td>0</td>\n",
              "      <td>0</td>\n",
              "      <td>0</td>\n",
              "      <td>0</td>\n",
              "      <td>0</td>\n",
              "      <td>1</td>\n",
              "      <td>0</td>\n",
              "      <td>0</td>\n",
              "      <td>1</td>\n",
              "      <td>1</td>\n",
              "      <td>0</td>\n",
              "      <td>0 days 04:53:18</td>\n",
              "    </tr>\n",
              "    <tr>\n",
              "      <th>2</th>\n",
              "      <td>36.000000</td>\n",
              "      <td>0</td>\n",
              "      <td>281.000000</td>\n",
              "      <td>1</td>\n",
              "      <td>0</td>\n",
              "      <td>16</td>\n",
              "      <td>5</td>\n",
              "      <td>1</td>\n",
              "      <td>-1</td>\n",
              "      <td>0</td>\n",
              "      <td>13:18:41</td>\n",
              "      <td>13:27:16</td>\n",
              "      <td>1</td>\n",
              "      <td>0</td>\n",
              "      <td>0</td>\n",
              "      <td>0</td>\n",
              "      <td>0</td>\n",
              "      <td>0</td>\n",
              "      <td>0</td>\n",
              "      <td>1</td>\n",
              "      <td>0</td>\n",
              "      <td>0</td>\n",
              "      <td>0</td>\n",
              "      <td>0</td>\n",
              "      <td>1</td>\n",
              "      <td>0</td>\n",
              "      <td>0</td>\n",
              "      <td>1</td>\n",
              "      <td>0</td>\n",
              "      <td>0 days 00:08:35</td>\n",
              "    </tr>\n",
              "  </tbody>\n",
              "</table>\n",
              "</div>"
            ],
            "text/plain": [
              "         age  default_or_not  balance_amt  ...  other  success   call_duration\n",
              "0  47.000000               0  1112.000000  ...      1        0 0 days 00:02:09\n",
              "1  46.031442               0     1.312372  ...      1        0 0 days 04:53:18\n",
              "2  36.000000               0   281.000000  ...      1        0 0 days 00:08:35\n",
              "\n",
              "[3 rows x 30 columns]"
            ]
          },
          "metadata": {
            "tags": []
          },
          "execution_count": 59
        }
      ]
    },
    {
      "cell_type": "code",
      "metadata": {
        "colab": {
          "base_uri": "https://localhost:8080/"
        },
        "id": "R04Tmg3EFJPD",
        "outputId": "f9eea3cf-2e84-4563-ac27-db1319e69698"
      },
      "source": [
        "# data preview\n",
        "print(df_cleaned.call_duration.dt.total_seconds())\n",
        "\n",
        "# deep dive preview into data to see value in the index number 2797\n",
        "print(f'\\n------------------\\nstart call [idx 2797]: {c.call_start[2797]}\\nend call [idx 2797]: {c.call_end[2797]}')\n",
        "# it's odd right? let's handle it!"
      ],
      "execution_count": null,
      "outputs": [
        {
          "output_type": "stream",
          "text": [
            "0         129.0\n",
            "1       17598.0\n",
            "2         515.0\n",
            "3         750.0\n",
            "4         884.0\n",
            "         ...   \n",
            "2797   -28105.0\n",
            "2798     1407.0\n",
            "2799      820.0\n",
            "2800       36.0\n",
            "2801      131.0\n",
            "Name: call_duration, Length: 2410, dtype: float64\n",
            "\n",
            "------------------\n",
            "start call [idx 2797]: 0 days 17:24:03\n",
            "end call [idx 2797]: 0 days 09:35:38\n"
          ],
          "name": "stdout"
        }
      ]
    },
    {
      "cell_type": "code",
      "metadata": {
        "id": "PjqIQVxKBjd8"
      },
      "source": [
        "# # pick non-negative seconds\n",
        "# df_cleaned = df_cleaned[~(df_cleaned.call_duration.dt.total_seconds() < 0)]\n",
        "\n",
        "# # data preview\n",
        "# print(df_cleaned.call_duration.dt.total_seconds())\n",
        "\n",
        "# # datatype checking\n",
        "# print(f'\\n---------------\\ndatatype of call_duration: {df_cleaned.call_duration.dtypes}')"
      ],
      "execution_count": null,
      "outputs": []
    },
    {
      "cell_type": "code",
      "metadata": {
        "colab": {
          "base_uri": "https://localhost:8080/"
        },
        "id": "Rum5CNefBXSg",
        "outputId": "6d4856c9-8b9e-40b7-8d8e-8780968e7610"
      },
      "source": [
        "# datatype conversion\n",
        "df_cleaned.call_duration = df_cleaned.call_duration.astype('int')\n",
        "\n",
        "# datatype checking\n",
        "print(f'datatype of call_duration: {df_cleaned.call_duration.dtypes}\\n-------------\\n')\n",
        "\n",
        "# data preview\n",
        "print(df_cleaned.call_duration.head(3))\n",
        "# arghh!! let's take care of it!"
      ],
      "execution_count": null,
      "outputs": [
        {
          "output_type": "stream",
          "text": [
            "datatype of call_duration: int64\n",
            "-------------\n",
            "\n",
            "0      129000000000\n",
            "1    17598000000000\n",
            "2      515000000000\n",
            "Name: call_duration, dtype: int64\n"
          ],
          "name": "stdout"
        }
      ]
    },
    {
      "cell_type": "code",
      "metadata": {
        "colab": {
          "base_uri": "https://localhost:8080/"
        },
        "id": "2-1eFTptDdZu",
        "outputId": "a6a901e5-2e08-48da-f226-18108fa33665"
      },
      "source": [
        "# adjust the value\n",
        "df_cleaned.call_duration = df_cleaned.call_duration/1000000000\n",
        "\n",
        "# data preview\n",
        "df_cleaned.call_duration.head(3)\n",
        "\n",
        "# good to go!"
      ],
      "execution_count": null,
      "outputs": [
        {
          "output_type": "execute_result",
          "data": {
            "text/plain": [
              "0      129.0\n",
              "1    17598.0\n",
              "2      515.0\n",
              "Name: call_duration, dtype: float64"
            ]
          },
          "metadata": {
            "tags": []
          },
          "execution_count": 63
        }
      ]
    },
    {
      "cell_type": "markdown",
      "metadata": {
        "id": "LJelSmnOFznR"
      },
      "source": [
        "###### TESTING DATASET"
      ]
    },
    {
      "cell_type": "code",
      "metadata": {
        "colab": {
          "base_uri": "https://localhost:8080/"
        },
        "id": "bZ8A4sGFF5RO",
        "outputId": "36aca45f-f636-4541-8559-6cfde413c39a"
      },
      "source": [
        "# time (in second) calculation for finding 'call_duration'\n",
        "a = pd.to_datetime(df_test.call_start, format='%H:%M:%S') - pd.to_datetime(df_test.call_start, format='%H:%M:%S').dt.normalize()\n",
        "b = pd.to_datetime(df_test.call_end, format='%H:%M:%S') - pd.to_datetime(df_test.call_end, format='%H:%M:%S').dt.normalize()\n",
        "c = pd.concat([a,b], axis=1)\n",
        "\n",
        "# enter the into main df\n",
        "df_test['call_duration'] = c.call_end - c.call_start\n",
        "df_test.head(3)"
      ],
      "execution_count": null,
      "outputs": [
        {
          "output_type": "execute_result",
          "data": {
            "text/html": [
              "<div>\n",
              "<style scoped>\n",
              "    .dataframe tbody tr th:only-of-type {\n",
              "        vertical-align: middle;\n",
              "    }\n",
              "\n",
              "    .dataframe tbody tr th {\n",
              "        vertical-align: top;\n",
              "    }\n",
              "\n",
              "    .dataframe thead th {\n",
              "        text-align: right;\n",
              "    }\n",
              "</style>\n",
              "<table border=\"1\" class=\"dataframe\">\n",
              "  <thead>\n",
              "    <tr style=\"text-align: right;\">\n",
              "      <th></th>\n",
              "      <th>age</th>\n",
              "      <th>default_or_not</th>\n",
              "      <th>balance_amt</th>\n",
              "      <th>household_insurance</th>\n",
              "      <th>car_loan</th>\n",
              "      <th>last_contact_day</th>\n",
              "      <th>last_contact_month</th>\n",
              "      <th>no_of_contacts</th>\n",
              "      <th>days_passed</th>\n",
              "      <th>prev_attempts</th>\n",
              "      <th>call_start</th>\n",
              "      <th>call_end</th>\n",
              "      <th>blue-collar</th>\n",
              "      <th>entrepreneur</th>\n",
              "      <th>housemaid</th>\n",
              "      <th>management</th>\n",
              "      <th>retired</th>\n",
              "      <th>self-employed</th>\n",
              "      <th>services</th>\n",
              "      <th>student</th>\n",
              "      <th>technician</th>\n",
              "      <th>unemployed</th>\n",
              "      <th>married</th>\n",
              "      <th>single</th>\n",
              "      <th>secondary</th>\n",
              "      <th>tertiary</th>\n",
              "      <th>other</th>\n",
              "      <th>success</th>\n",
              "      <th>call_duration</th>\n",
              "    </tr>\n",
              "  </thead>\n",
              "  <tbody>\n",
              "    <tr>\n",
              "      <th>0</th>\n",
              "      <td>65.0</td>\n",
              "      <td>0</td>\n",
              "      <td>20806.0</td>\n",
              "      <td>0</td>\n",
              "      <td>0</td>\n",
              "      <td>8</td>\n",
              "      <td>4</td>\n",
              "      <td>2</td>\n",
              "      <td>-1</td>\n",
              "      <td>0</td>\n",
              "      <td>12:22:13</td>\n",
              "      <td>12:30:56</td>\n",
              "      <td>0</td>\n",
              "      <td>0</td>\n",
              "      <td>0</td>\n",
              "      <td>0</td>\n",
              "      <td>1</td>\n",
              "      <td>0</td>\n",
              "      <td>0</td>\n",
              "      <td>0</td>\n",
              "      <td>0</td>\n",
              "      <td>0</td>\n",
              "      <td>1</td>\n",
              "      <td>0</td>\n",
              "      <td>1</td>\n",
              "      <td>0</td>\n",
              "      <td>1</td>\n",
              "      <td>0</td>\n",
              "      <td>0 days 00:08:43</td>\n",
              "    </tr>\n",
              "    <tr>\n",
              "      <th>1</th>\n",
              "      <td>36.0</td>\n",
              "      <td>0</td>\n",
              "      <td>900.0</td>\n",
              "      <td>1</td>\n",
              "      <td>0</td>\n",
              "      <td>15</td>\n",
              "      <td>5</td>\n",
              "      <td>2</td>\n",
              "      <td>-1</td>\n",
              "      <td>0</td>\n",
              "      <td>17:59:45</td>\n",
              "      <td>18:07:40</td>\n",
              "      <td>0</td>\n",
              "      <td>0</td>\n",
              "      <td>0</td>\n",
              "      <td>1</td>\n",
              "      <td>0</td>\n",
              "      <td>0</td>\n",
              "      <td>0</td>\n",
              "      <td>0</td>\n",
              "      <td>0</td>\n",
              "      <td>0</td>\n",
              "      <td>1</td>\n",
              "      <td>0</td>\n",
              "      <td>0</td>\n",
              "      <td>1</td>\n",
              "      <td>1</td>\n",
              "      <td>0</td>\n",
              "      <td>0 days 00:07:55</td>\n",
              "    </tr>\n",
              "    <tr>\n",
              "      <th>2</th>\n",
              "      <td>37.0</td>\n",
              "      <td>0</td>\n",
              "      <td>6771.0</td>\n",
              "      <td>0</td>\n",
              "      <td>0</td>\n",
              "      <td>7</td>\n",
              "      <td>9</td>\n",
              "      <td>1</td>\n",
              "      <td>186</td>\n",
              "      <td>1</td>\n",
              "      <td>14:05:19</td>\n",
              "      <td>14:10:56</td>\n",
              "      <td>0</td>\n",
              "      <td>0</td>\n",
              "      <td>0</td>\n",
              "      <td>1</td>\n",
              "      <td>0</td>\n",
              "      <td>0</td>\n",
              "      <td>0</td>\n",
              "      <td>0</td>\n",
              "      <td>0</td>\n",
              "      <td>0</td>\n",
              "      <td>1</td>\n",
              "      <td>0</td>\n",
              "      <td>0</td>\n",
              "      <td>1</td>\n",
              "      <td>0</td>\n",
              "      <td>1</td>\n",
              "      <td>0 days 00:05:37</td>\n",
              "    </tr>\n",
              "  </tbody>\n",
              "</table>\n",
              "</div>"
            ],
            "text/plain": [
              "    age  default_or_not  balance_amt  ...  other  success   call_duration\n",
              "0  65.0               0      20806.0  ...      1        0 0 days 00:08:43\n",
              "1  36.0               0        900.0  ...      1        0 0 days 00:07:55\n",
              "2  37.0               0       6771.0  ...      0        1 0 days 00:05:37\n",
              "\n",
              "[3 rows x 29 columns]"
            ]
          },
          "metadata": {
            "tags": []
          },
          "execution_count": 64
        }
      ]
    },
    {
      "cell_type": "code",
      "metadata": {
        "colab": {
          "base_uri": "https://localhost:8080/"
        },
        "id": "PHFsQd0cJccH",
        "outputId": "72cfd742-a730-4b3a-c67e-fc670057bc80"
      },
      "source": [
        "# monitoring on the data test shape\n",
        "df_test.shape"
      ],
      "execution_count": null,
      "outputs": [
        {
          "output_type": "execute_result",
          "data": {
            "text/plain": [
              "(935, 29)"
            ]
          },
          "metadata": {
            "tags": []
          },
          "execution_count": 65
        }
      ]
    },
    {
      "cell_type": "code",
      "metadata": {
        "colab": {
          "base_uri": "https://localhost:8080/"
        },
        "id": "SQPXgcApF5Y9",
        "outputId": "47963d2b-fa9b-4af0-a7cf-20224aacf065"
      },
      "source": [
        "# data preview\n",
        "print(df_test.call_duration.dt.total_seconds())\n",
        "\n",
        "# deep dive preview into data to see value in the index number 3\n",
        "print(f'\\n------------------\\nstart call [idx 2797]: {c.call_start[3]}\\nend call [idx 2797]: {c.call_end[3]}')\n",
        "# it's odd right? let's handle it!"
      ],
      "execution_count": null,
      "outputs": [
        {
          "output_type": "stream",
          "text": [
            "0        523.0\n",
            "1        475.0\n",
            "2        337.0\n",
            "3     -27933.0\n",
            "4         65.0\n",
            "        ...   \n",
            "930      831.0\n",
            "931      352.0\n",
            "932      664.0\n",
            "933      893.0\n",
            "934      520.0\n",
            "Name: call_duration, Length: 935, dtype: float64\n",
            "\n",
            "------------------\n",
            "start call [idx 2797]: 0 days 17:33:27\n",
            "end call [idx 2797]: 0 days 09:47:54\n"
          ],
          "name": "stdout"
        }
      ]
    },
    {
      "cell_type": "code",
      "metadata": {
        "id": "nL6funviF5fy"
      },
      "source": [
        "# # pick non-negative seconds\n",
        "# df_test = df_test[~(df_test.call_duration.dt.total_seconds() < 0)]\n",
        "\n",
        "# # data preview\n",
        "# print(df_test.call_duration.dt.total_seconds())\n",
        "\n",
        "# # datatype checking\n",
        "# print(f'\\n---------------\\ndatatype of call_duration: {df_test.call_duration.dtypes}')"
      ],
      "execution_count": null,
      "outputs": []
    },
    {
      "cell_type": "code",
      "metadata": {
        "colab": {
          "base_uri": "https://localhost:8080/"
        },
        "id": "04HFwAisF5mN",
        "outputId": "e075370e-d0e1-44db-bf74-f0324c49b461"
      },
      "source": [
        "# datatype conversion\n",
        "df_test.call_duration = df_test.call_duration.astype('int')\n",
        "\n",
        "# datatype checking\n",
        "print(f'datatype of call_duration: {df_test.call_duration.dtypes}\\n-------------\\n')\n",
        "\n",
        "# data preview\n",
        "print(df_test.call_duration.head(3))\n",
        "# arghh!! let's take care of it!"
      ],
      "execution_count": null,
      "outputs": [
        {
          "output_type": "stream",
          "text": [
            "datatype of call_duration: int64\n",
            "-------------\n",
            "\n",
            "0    523000000000\n",
            "1    475000000000\n",
            "2    337000000000\n",
            "Name: call_duration, dtype: int64\n"
          ],
          "name": "stdout"
        }
      ]
    },
    {
      "cell_type": "code",
      "metadata": {
        "colab": {
          "base_uri": "https://localhost:8080/"
        },
        "id": "GIiCoX5NF5xM",
        "outputId": "27e58209-3fef-4fb6-8ce1-d61599ccf4da"
      },
      "source": [
        "# adjust the value\n",
        "df_test.call_duration = df_test.call_duration/1000000000\n",
        "\n",
        "# data preview\n",
        "df_test.call_duration.head(3)\n",
        "\n",
        "# good to go!"
      ],
      "execution_count": null,
      "outputs": [
        {
          "output_type": "execute_result",
          "data": {
            "text/plain": [
              "0    523.0\n",
              "1    475.0\n",
              "2    337.0\n",
              "Name: call_duration, dtype: float64"
            ]
          },
          "metadata": {
            "tags": []
          },
          "execution_count": 69
        }
      ]
    },
    {
      "cell_type": "code",
      "metadata": {
        "colab": {
          "base_uri": "https://localhost:8080/"
        },
        "id": "RIFK36fnKIqR",
        "outputId": "88b6fd72-5d2b-4d7e-81da-70497239a679"
      },
      "source": [
        "# monitoring on the data test shape\n",
        "df_test.shape"
      ],
      "execution_count": null,
      "outputs": [
        {
          "output_type": "execute_result",
          "data": {
            "text/plain": [
              "(935, 29)"
            ]
          },
          "metadata": {
            "tags": []
          },
          "execution_count": 70
        }
      ]
    },
    {
      "cell_type": "markdown",
      "metadata": {
        "id": "CMZUqgXIAtOU"
      },
      "source": [
        "##### Feature Engineering: **Drop Unnecessary Features**"
      ]
    },
    {
      "cell_type": "markdown",
      "metadata": {
        "id": "_egGmcMvG1at"
      },
      "source": [
        "###### TRAINING DATASET"
      ]
    },
    {
      "cell_type": "code",
      "metadata": {
        "colab": {
          "base_uri": "https://localhost:8080/"
        },
        "id": "Ii26XW7JF1aJ",
        "outputId": "df5a2888-d93f-43f4-b351-001a65d988df"
      },
      "source": [
        "# since we have known about 'last_contact_day', it is fine if we drop 'last_contact_month'\n",
        "# also we have gotten 'call_duration', so we can drop 'call_start' & 'call_end'\n",
        "df_cleaned.drop(['call_start','call_end'], axis=1, inplace=True)\n",
        "\n",
        "# reset index\n",
        "df_cleaned.reset_index(drop=True, inplace=True)\n",
        "\n",
        "# data preview\n",
        "(df_cleaned.head(3))"
      ],
      "execution_count": null,
      "outputs": [
        {
          "output_type": "execute_result",
          "data": {
            "text/html": [
              "<div>\n",
              "<style scoped>\n",
              "    .dataframe tbody tr th:only-of-type {\n",
              "        vertical-align: middle;\n",
              "    }\n",
              "\n",
              "    .dataframe tbody tr th {\n",
              "        vertical-align: top;\n",
              "    }\n",
              "\n",
              "    .dataframe thead th {\n",
              "        text-align: right;\n",
              "    }\n",
              "</style>\n",
              "<table border=\"1\" class=\"dataframe\">\n",
              "  <thead>\n",
              "    <tr style=\"text-align: right;\">\n",
              "      <th></th>\n",
              "      <th>age</th>\n",
              "      <th>default_or_not</th>\n",
              "      <th>balance_amt</th>\n",
              "      <th>household_insurance</th>\n",
              "      <th>car_loan</th>\n",
              "      <th>last_contact_day</th>\n",
              "      <th>last_contact_month</th>\n",
              "      <th>no_of_contacts</th>\n",
              "      <th>days_passed</th>\n",
              "      <th>prev_attempts</th>\n",
              "      <th>car_insurance</th>\n",
              "      <th>blue-collar</th>\n",
              "      <th>entrepreneur</th>\n",
              "      <th>housemaid</th>\n",
              "      <th>management</th>\n",
              "      <th>retired</th>\n",
              "      <th>self-employed</th>\n",
              "      <th>services</th>\n",
              "      <th>student</th>\n",
              "      <th>technician</th>\n",
              "      <th>unemployed</th>\n",
              "      <th>married</th>\n",
              "      <th>single</th>\n",
              "      <th>secondary</th>\n",
              "      <th>tertiary</th>\n",
              "      <th>other</th>\n",
              "      <th>success</th>\n",
              "      <th>call_duration</th>\n",
              "    </tr>\n",
              "  </thead>\n",
              "  <tbody>\n",
              "    <tr>\n",
              "      <th>0</th>\n",
              "      <td>47.000000</td>\n",
              "      <td>0</td>\n",
              "      <td>1112.000000</td>\n",
              "      <td>1</td>\n",
              "      <td>0</td>\n",
              "      <td>13</td>\n",
              "      <td>5</td>\n",
              "      <td>1</td>\n",
              "      <td>-1</td>\n",
              "      <td>0</td>\n",
              "      <td>0</td>\n",
              "      <td>1</td>\n",
              "      <td>0</td>\n",
              "      <td>0</td>\n",
              "      <td>0</td>\n",
              "      <td>0</td>\n",
              "      <td>0</td>\n",
              "      <td>0</td>\n",
              "      <td>0</td>\n",
              "      <td>0</td>\n",
              "      <td>0</td>\n",
              "      <td>1</td>\n",
              "      <td>0</td>\n",
              "      <td>0</td>\n",
              "      <td>0</td>\n",
              "      <td>1</td>\n",
              "      <td>0</td>\n",
              "      <td>129.0</td>\n",
              "    </tr>\n",
              "    <tr>\n",
              "      <th>1</th>\n",
              "      <td>46.031442</td>\n",
              "      <td>0</td>\n",
              "      <td>1.312372</td>\n",
              "      <td>0</td>\n",
              "      <td>1</td>\n",
              "      <td>15</td>\n",
              "      <td>5</td>\n",
              "      <td>3</td>\n",
              "      <td>219</td>\n",
              "      <td>1</td>\n",
              "      <td>1</td>\n",
              "      <td>0</td>\n",
              "      <td>0</td>\n",
              "      <td>0</td>\n",
              "      <td>1</td>\n",
              "      <td>0</td>\n",
              "      <td>0</td>\n",
              "      <td>0</td>\n",
              "      <td>0</td>\n",
              "      <td>0</td>\n",
              "      <td>0</td>\n",
              "      <td>1</td>\n",
              "      <td>0</td>\n",
              "      <td>0</td>\n",
              "      <td>1</td>\n",
              "      <td>1</td>\n",
              "      <td>0</td>\n",
              "      <td>17598.0</td>\n",
              "    </tr>\n",
              "    <tr>\n",
              "      <th>2</th>\n",
              "      <td>36.000000</td>\n",
              "      <td>0</td>\n",
              "      <td>281.000000</td>\n",
              "      <td>1</td>\n",
              "      <td>0</td>\n",
              "      <td>16</td>\n",
              "      <td>5</td>\n",
              "      <td>1</td>\n",
              "      <td>-1</td>\n",
              "      <td>0</td>\n",
              "      <td>1</td>\n",
              "      <td>0</td>\n",
              "      <td>0</td>\n",
              "      <td>0</td>\n",
              "      <td>0</td>\n",
              "      <td>0</td>\n",
              "      <td>0</td>\n",
              "      <td>1</td>\n",
              "      <td>0</td>\n",
              "      <td>0</td>\n",
              "      <td>0</td>\n",
              "      <td>0</td>\n",
              "      <td>1</td>\n",
              "      <td>0</td>\n",
              "      <td>0</td>\n",
              "      <td>1</td>\n",
              "      <td>0</td>\n",
              "      <td>515.0</td>\n",
              "    </tr>\n",
              "  </tbody>\n",
              "</table>\n",
              "</div>"
            ],
            "text/plain": [
              "         age  default_or_not  balance_amt  ...  other  success  call_duration\n",
              "0  47.000000               0  1112.000000  ...      1        0          129.0\n",
              "1  46.031442               0     1.312372  ...      1        0        17598.0\n",
              "2  36.000000               0   281.000000  ...      1        0          515.0\n",
              "\n",
              "[3 rows x 28 columns]"
            ]
          },
          "metadata": {
            "tags": []
          },
          "execution_count": 71
        }
      ]
    },
    {
      "cell_type": "markdown",
      "metadata": {
        "id": "g4QkaBPUG3sW"
      },
      "source": [
        "###### TESTING DATASET"
      ]
    },
    {
      "cell_type": "code",
      "metadata": {
        "colab": {
          "base_uri": "https://localhost:8080/"
        },
        "id": "KHaHxlXZGyq4",
        "outputId": "1b101d62-47e8-4dd5-9587-6aba7219db33"
      },
      "source": [
        "# since we have known about 'last_contact_day', it is fine if we drop 'last_contact_month'\n",
        "# also we have gotten 'call_duration', so we can drop 'call_start' & 'call_end'\n",
        "df_test.drop(['call_start','call_end'], axis=1, inplace=True)\n",
        "\n",
        "# reset index\n",
        "df_test.reset_index(drop=True, inplace=True)\n",
        "\n",
        "# data preview\n",
        "df_test.head(3)"
      ],
      "execution_count": null,
      "outputs": [
        {
          "output_type": "execute_result",
          "data": {
            "text/html": [
              "<div>\n",
              "<style scoped>\n",
              "    .dataframe tbody tr th:only-of-type {\n",
              "        vertical-align: middle;\n",
              "    }\n",
              "\n",
              "    .dataframe tbody tr th {\n",
              "        vertical-align: top;\n",
              "    }\n",
              "\n",
              "    .dataframe thead th {\n",
              "        text-align: right;\n",
              "    }\n",
              "</style>\n",
              "<table border=\"1\" class=\"dataframe\">\n",
              "  <thead>\n",
              "    <tr style=\"text-align: right;\">\n",
              "      <th></th>\n",
              "      <th>age</th>\n",
              "      <th>default_or_not</th>\n",
              "      <th>balance_amt</th>\n",
              "      <th>household_insurance</th>\n",
              "      <th>car_loan</th>\n",
              "      <th>last_contact_day</th>\n",
              "      <th>last_contact_month</th>\n",
              "      <th>no_of_contacts</th>\n",
              "      <th>days_passed</th>\n",
              "      <th>prev_attempts</th>\n",
              "      <th>blue-collar</th>\n",
              "      <th>entrepreneur</th>\n",
              "      <th>housemaid</th>\n",
              "      <th>management</th>\n",
              "      <th>retired</th>\n",
              "      <th>self-employed</th>\n",
              "      <th>services</th>\n",
              "      <th>student</th>\n",
              "      <th>technician</th>\n",
              "      <th>unemployed</th>\n",
              "      <th>married</th>\n",
              "      <th>single</th>\n",
              "      <th>secondary</th>\n",
              "      <th>tertiary</th>\n",
              "      <th>other</th>\n",
              "      <th>success</th>\n",
              "      <th>call_duration</th>\n",
              "    </tr>\n",
              "  </thead>\n",
              "  <tbody>\n",
              "    <tr>\n",
              "      <th>0</th>\n",
              "      <td>65.0</td>\n",
              "      <td>0</td>\n",
              "      <td>20806.0</td>\n",
              "      <td>0</td>\n",
              "      <td>0</td>\n",
              "      <td>8</td>\n",
              "      <td>4</td>\n",
              "      <td>2</td>\n",
              "      <td>-1</td>\n",
              "      <td>0</td>\n",
              "      <td>0</td>\n",
              "      <td>0</td>\n",
              "      <td>0</td>\n",
              "      <td>0</td>\n",
              "      <td>1</td>\n",
              "      <td>0</td>\n",
              "      <td>0</td>\n",
              "      <td>0</td>\n",
              "      <td>0</td>\n",
              "      <td>0</td>\n",
              "      <td>1</td>\n",
              "      <td>0</td>\n",
              "      <td>1</td>\n",
              "      <td>0</td>\n",
              "      <td>1</td>\n",
              "      <td>0</td>\n",
              "      <td>523.0</td>\n",
              "    </tr>\n",
              "    <tr>\n",
              "      <th>1</th>\n",
              "      <td>36.0</td>\n",
              "      <td>0</td>\n",
              "      <td>900.0</td>\n",
              "      <td>1</td>\n",
              "      <td>0</td>\n",
              "      <td>15</td>\n",
              "      <td>5</td>\n",
              "      <td>2</td>\n",
              "      <td>-1</td>\n",
              "      <td>0</td>\n",
              "      <td>0</td>\n",
              "      <td>0</td>\n",
              "      <td>0</td>\n",
              "      <td>1</td>\n",
              "      <td>0</td>\n",
              "      <td>0</td>\n",
              "      <td>0</td>\n",
              "      <td>0</td>\n",
              "      <td>0</td>\n",
              "      <td>0</td>\n",
              "      <td>1</td>\n",
              "      <td>0</td>\n",
              "      <td>0</td>\n",
              "      <td>1</td>\n",
              "      <td>1</td>\n",
              "      <td>0</td>\n",
              "      <td>475.0</td>\n",
              "    </tr>\n",
              "    <tr>\n",
              "      <th>2</th>\n",
              "      <td>37.0</td>\n",
              "      <td>0</td>\n",
              "      <td>6771.0</td>\n",
              "      <td>0</td>\n",
              "      <td>0</td>\n",
              "      <td>7</td>\n",
              "      <td>9</td>\n",
              "      <td>1</td>\n",
              "      <td>186</td>\n",
              "      <td>1</td>\n",
              "      <td>0</td>\n",
              "      <td>0</td>\n",
              "      <td>0</td>\n",
              "      <td>1</td>\n",
              "      <td>0</td>\n",
              "      <td>0</td>\n",
              "      <td>0</td>\n",
              "      <td>0</td>\n",
              "      <td>0</td>\n",
              "      <td>0</td>\n",
              "      <td>1</td>\n",
              "      <td>0</td>\n",
              "      <td>0</td>\n",
              "      <td>1</td>\n",
              "      <td>0</td>\n",
              "      <td>1</td>\n",
              "      <td>337.0</td>\n",
              "    </tr>\n",
              "  </tbody>\n",
              "</table>\n",
              "</div>"
            ],
            "text/plain": [
              "    age  default_or_not  balance_amt  ...  other  success  call_duration\n",
              "0  65.0               0      20806.0  ...      1        0          523.0\n",
              "1  36.0               0        900.0  ...      1        0          475.0\n",
              "2  37.0               0       6771.0  ...      0        1          337.0\n",
              "\n",
              "[3 rows x 27 columns]"
            ]
          },
          "metadata": {
            "tags": []
          },
          "execution_count": 72
        }
      ]
    },
    {
      "cell_type": "code",
      "metadata": {
        "colab": {
          "base_uri": "https://localhost:8080/"
        },
        "id": "zoK6HfxZKQz5",
        "outputId": "879c708b-1247-498b-8adb-abcf00f5a864"
      },
      "source": [
        "# monitoring on the data test shape\n",
        "df_test.shape"
      ],
      "execution_count": null,
      "outputs": [
        {
          "output_type": "execute_result",
          "data": {
            "text/plain": [
              "(935, 27)"
            ]
          },
          "metadata": {
            "tags": []
          },
          "execution_count": 73
        }
      ]
    },
    {
      "cell_type": "markdown",
      "metadata": {
        "id": "w4dUPqLI9fAD"
      },
      "source": [
        "##### Features Correlation Checking"
      ]
    },
    {
      "cell_type": "code",
      "metadata": {
        "colab": {
          "base_uri": "https://localhost:8080/"
        },
        "id": "jaP2VbQY8vys",
        "outputId": "cf7d8bd0-a87b-424f-9097-a4fdc08d0abb"
      },
      "source": [
        "plt.figure(figsize=(17,8))\n",
        "sns.heatmap(df_cleaned.corr(),annot=True,cmap='RdYlGn')\n",
        "\n",
        "plt.tight_layout()\n",
        "plt.show()"
      ],
      "execution_count": null,
      "outputs": [
        {
          "output_type": "display_data",
          "data": {
            "image/png": "[encoded data removed]",
            "text/plain": [
              "<Figure size 1224x576 with 2 Axes>"
            ]
          },
          "metadata": {
            "tags": [],
            "needs_background": "light"
          }
        }
      ]
    },
    {
      "cell_type": "markdown",
      "metadata": {
        "id": "uQXmCzCKHdNV"
      },
      "source": [
        "#### 2.4 Data Proportion Checking"
      ]
    },
    {
      "cell_type": "code",
      "metadata": {
        "colab": {
          "base_uri": "https://localhost:8080/",
          "height": 296
        },
        "id": "T1Z6m3X3HJvu",
        "outputId": "f1cd6f58-52af-42d0-9756-588fc54db985"
      },
      "source": [
        "s_series = df_cleaned.car_insurance.map({0:'not subs', 1:'subs'})\n",
        "\n",
        "# create barplot, find more colors here: https://seaborn.pydata.org/tutorial/color_palettes.html\n",
        "ax = sns.barplot(s_series.unique(), df_cleaned.car_insurance.value_counts(), palette='Paired')\n",
        "\n",
        "# add annotation\n",
        "for p in ax.patches:  \n",
        "    ax.annotate(format(p.get_height(), '.0f'),  \n",
        "                (p.get_x() + p.get_width() / 2., p.get_height()), # (x, y)\n",
        "                  ha = 'center',  \n",
        "                  va = 'center',  \n",
        "                  xytext = (0, 9),  \n",
        "                  textcoords = 'offset points')  \n",
        "    \n",
        "# remove right and top spine\n",
        "sns.despine(right=True, top=True)  \n",
        "\n",
        "plt.ylabel('number of subs')\n",
        "plt.tight_layout()\n",
        "plt.show()"
      ],
      "execution_count": null,
      "outputs": [
        {
          "output_type": "display_data",
          "data": {
            "image/png": "[encoded data removed]",
            "text/plain": [
              "<Figure size 432x288 with 1 Axes>"
            ]
          },
          "metadata": {
            "tags": [],
            "needs_background": "light"
          }
        }
      ]
    },
    {
      "cell_type": "code",
      "metadata": {
        "colab": {
          "base_uri": "https://localhost:8080/"
        },
        "id": "umCgGvCJKakT",
        "outputId": "8704c647-db54-4b6f-9dad-3cd8079b5fad"
      },
      "source": [
        "no_subs = df_cleaned.car_insurance.value_counts()[1]/df_cleaned.shape[0]\n",
        "subs = df_cleaned.car_insurance.value_counts()[0]/df_cleaned.shape[0]\n",
        "\n",
        "print('percentage:\\nsubs    = {:.2f}%\\nno subs = {:.2f}%'.format(subs*100,no_subs*100))"
      ],
      "execution_count": null,
      "outputs": [
        {
          "output_type": "stream",
          "text": [
            "percentage:\n",
            "subs    = 43.07%\n",
            "no subs = 56.93%\n"
          ],
          "name": "stdout"
        }
      ]
    },
    {
      "cell_type": "markdown",
      "metadata": {
        "id": "0SN-mgOd-ZNi"
      },
      "source": [
        "### 3. Data Modelling"
      ]
    },
    {
      "cell_type": "markdown",
      "metadata": {
        "id": "23xT4o1Z6Igl"
      },
      "source": [
        "#### 3.1 Training Phase"
      ]
    },
    {
      "cell_type": "code",
      "metadata": {
        "id": "DsDzhvBUIJFW"
      },
      "source": [
        "import numpy as np\n",
        "\n",
        "from sklearn.model_selection import train_test_split,GridSearchCV,StratifiedKFold\n",
        "from sklearn.metrics import confusion_matrix,classification_report,accuracy_score\n",
        "\n",
        "from xgboost import XGBClassifier\n",
        "from sklearn.ensemble import RandomForestClassifier,GradientBoostingClassifier"
      ],
      "execution_count": null,
      "outputs": []
    },
    {
      "cell_type": "code",
      "metadata": {
        "id": "ip1mKEpKayVr"
      },
      "source": [
        "# split the data for training and testing\n",
        "X = df_cleaned.drop('car_insurance', axis=1) #df_scaled\n",
        "y = df_cleaned.car_insurance #.astype('float')\n",
        "\n",
        "X_train, X_eval, y_train, y_eval = train_test_split(X, y, test_size=0.33, random_state=4, shuffle=True) # best = 4"
      ],
      "execution_count": null,
      "outputs": []
    },
    {
      "cell_type": "code",
      "metadata": {
        "colab": {
          "base_uri": "https://localhost:8080/"
        },
        "id": "pAaE14CaG2p0",
        "outputId": "c546e7ef-5638-4bf4-9eef-4795039a65a0"
      },
      "source": [
        "# accuracy checking using Stratified K-Fold\n",
        "model = XGBClassifier()\n",
        "\n",
        "skf = StratifiedKFold(n_splits=10, shuffle=True, random_state=1)\n",
        "\n",
        "accuracy=[]\n",
        "for train_idx, eval_idx in skf.split(X,y):\n",
        "  X_train_fold, X_eval_fold = X.iloc[train_idx], X.iloc[eval_idx]\n",
        "  y_train_fold, y_eval_fold = y.iloc[train_idx], y.iloc[eval_idx]\n",
        "\n",
        "  model.fit(X_train_fold, y_train_fold)\n",
        "  accuracy.append(model.score(X_eval_fold, y_eval_fold))\n",
        "\n",
        "# print average accuracy\n",
        "print(np.array(accuracy).mean())"
      ],
      "execution_count": null,
      "outputs": [
        {
          "output_type": "stream",
          "text": [
            "0.8659751037344398\n"
          ],
          "name": "stdout"
        }
      ]
    },
    {
      "cell_type": "code",
      "metadata": {
        "id": "cEZe0bGvfv1X"
      },
      "source": [
        "acc={}\n",
        "for num,i in enumerate(range(60)):\n",
        "  X_train,X_eval,y_train,y_eval = train_test_split(X, y, test_size=0.33, random_state=i, shuffle=True)\n",
        "  \n",
        "  # model traininig\n",
        "  model = XGBClassifier().fit(X_train,y_train)\n",
        "  # model predicting\n",
        "  y_pred = model.predict(X_eval)\n",
        "  # model evaluating\n",
        "  acc.update({num:accuracy_score(y_eval, y_pred)})\n",
        "\n",
        "#acc"
      ],
      "execution_count": null,
      "outputs": []
    },
    {
      "cell_type": "markdown",
      "metadata": {
        "id": "kLXpkXCJ0x_q"
      },
      "source": [
        "##### Hyperparams Tuning: XGBoost (it takes forever, so reconsider the values)"
      ]
    },
    {
      "cell_type": "code",
      "metadata": {
        "colab": {
          "base_uri": "https://localhost:8080/"
        },
        "id": "yMAbhvHikMCe",
        "outputId": "77b57ede-9bdb-44d4-cd90-30087706e136"
      },
      "source": [
        "# init hyperparams values\n",
        "params={'max_depth': [x for x in range(3,11)],\n",
        "        'gamma': [0,1,2,3],\n",
        "        'reg_alpha' : [x for x in range(0,11)],\n",
        "        'reg_lambda' : [0,1],\n",
        "        'colsample_bytree' : [0.5,1],\n",
        "        'min_child_weight' : [x for x in range(1,11)],\n",
        "        'n_estimators': [100,120,140,160]\n",
        "       }\n",
        "\n",
        "print(params)"
      ],
      "execution_count": null,
      "outputs": [
        {
          "output_type": "stream",
          "text": [
            "{'max_depth': [3, 4, 5, 6, 7, 8, 9, 10], 'gamma': [0, 1, 2, 3], 'reg_alpha': [0, 1, 2, 3, 4, 5, 6, 7, 8, 9, 10], 'reg_lambda': [0, 1], 'colsample_bytree': [0.5, 1], 'min_child_weight': [1, 2, 3, 4, 5, 6, 7, 8, 9, 10], 'n_estimators': [100, 120, 140, 160]}\n"
          ],
          "name": "stdout"
        }
      ]
    },
    {
      "cell_type": "code",
      "metadata": {
        "id": "Dm3TR6r5kHq6"
      },
      "source": [
        "# model init\n",
        "model = XGBClassifier()\n",
        "\n",
        "# hyperparameters tuning\n",
        "model_gs = GridSearchCV(estimator=model, param_grid=params)\n",
        "\n",
        "# training phase\n",
        "model_gs.fit(X_train, y_train)"
      ],
      "execution_count": null,
      "outputs": []
    },
    {
      "cell_type": "markdown",
      "metadata": {
        "id": "ivEs8hwV020o"
      },
      "source": [
        "##### Hyperparams Tuning: RandomForest"
      ]
    },
    {
      "cell_type": "code",
      "metadata": {
        "colab": {
          "base_uri": "https://localhost:8080/"
        },
        "id": "yzU5bsJeST9X",
        "outputId": "ee47c7e8-e617-4e6b-eb3e-b637826b33d4"
      },
      "source": [
        "# hyperparameters tuning: RandomForest\n",
        "# parameters initiation\n",
        "n_estimators = [int(x) for x in np.linspace(start=10,stop=300, num=10)]\n",
        "max_features = ['auto','sqrt']\n",
        "max_depth = [2,4]\n",
        "min_samples_split = [2,5]\n",
        "min_samples_leaf = [1,2]\n",
        "bootstrap = [True,False]\n",
        "\n",
        "# create variable for storing the features \n",
        "params = {'n_estimators':n_estimators,'max_features':max_features,'max_depth':max_depth,\n",
        "          'min_samples_split':min_samples_split,'min_samples_leaf':min_samples_leaf,'bootstrap':bootstrap}\n",
        "\n",
        "# params preview\n",
        "print(params)"
      ],
      "execution_count": null,
      "outputs": [
        {
          "output_type": "stream",
          "text": [
            "{'n_estimators': [10, 42, 74, 106, 138, 171, 203, 235, 267, 300], 'max_features': ['auto', 'sqrt'], 'max_depth': [2, 4], 'min_samples_split': [2, 5], 'min_samples_leaf': [1, 2], 'bootstrap': [True, False]}\n"
          ],
          "name": "stdout"
        }
      ]
    },
    {
      "cell_type": "code",
      "metadata": {
        "id": "BFxRwoTfH_AK"
      },
      "source": [
        "# model init\n",
        "model = RandomForestClassifier()\n",
        "\n",
        "# hyperparameters tuning\n",
        "model_gs = GridSearchCV(estimator=model, param_grid=params)\n",
        "\n",
        "# training phase\n",
        "model_gs.fit(X_train, y_train)"
      ],
      "execution_count": null,
      "outputs": []
    },
    {
      "cell_type": "code",
      "metadata": {
        "colab": {
          "base_uri": "https://localhost:8080/"
        },
        "id": "46FhLQ5JV90B",
        "outputId": "7a330860-5228-4147-94fd-1aad3bac8d37"
      },
      "source": [
        "# check best parameters\n",
        "model_gs.best_params_"
      ],
      "execution_count": null,
      "outputs": [
        {
          "output_type": "execute_result",
          "data": {
            "text/plain": [
              "GridSearchCV(cv=None, error_score=nan,\n",
              "             estimator=RandomForestClassifier(bootstrap=True, ccp_alpha=0.0,\n",
              "                                              class_weight=None,\n",
              "                                              criterion='gini', max_depth=None,\n",
              "                                              max_features='auto',\n",
              "                                              max_leaf_nodes=None,\n",
              "                                              max_samples=None,\n",
              "                                              min_impurity_decrease=0.0,\n",
              "                                              min_impurity_split=None,\n",
              "                                              min_samples_leaf=1,\n",
              "                                              min_samples_split=2,\n",
              "                                              min_weight_fraction_leaf=0.0,\n",
              "                                              n_estimators=100, n_jobs=No...\n",
              "                                              random_state=None, verbose=0,\n",
              "                                              warm_start=False),\n",
              "             iid='deprecated', n_jobs=None,\n",
              "             param_grid={'bootstrap': [True, False], 'max_depth': [2, 4],\n",
              "                         'max_features': ['auto', 'sqrt'],\n",
              "                         'min_samples_leaf': [1, 2],\n",
              "                         'min_samples_split': [2, 5],\n",
              "                         'n_estimators': [10, 42, 74, 106, 138, 171, 203, 235,\n",
              "                                          267, 300]},\n",
              "             pre_dispatch='2*n_jobs', refit=True, return_train_score=False,\n",
              "             scoring=None, verbose=0)"
            ]
          },
          "metadata": {
            "tags": []
          },
          "execution_count": 169
        }
      ]
    },
    {
      "cell_type": "code",
      "metadata": {
        "colab": {
          "base_uri": "https://localhost:8080/"
        },
        "id": "h2dZk-3aKuGJ",
        "outputId": "48420bcc-0729-4856-d611-14a33a2f26b0"
      },
      "source": [
        "# evaluation phase\n",
        "y_pred = model_gs.predict(X_eval)\n",
        "\n",
        "# accuracy checking\n",
        "accuracy_score(y_eval, y_pred)"
      ],
      "execution_count": null,
      "outputs": [
        {
          "output_type": "execute_result",
          "data": {
            "text/plain": [
              "0.8284923928077456"
            ]
          },
          "metadata": {
            "tags": []
          },
          "execution_count": 170
        }
      ]
    },
    {
      "cell_type": "code",
      "metadata": {
        "colab": {
          "base_uri": "https://localhost:8080/"
        },
        "id": "pim1qi3hCS1n",
        "outputId": "c76bf6a4-d4ad-431f-e3e9-dd69df27b6ac"
      },
      "source": [
        "confusion_matrix(y_eval, y_pred)"
      ],
      "execution_count": null,
      "outputs": [
        {
          "output_type": "execute_result",
          "data": {
            "text/plain": [
              "array([[266,  59],\n",
              "       [ 65, 333]])"
            ]
          },
          "metadata": {
            "tags": []
          },
          "execution_count": 171
        }
      ]
    },
    {
      "cell_type": "code",
      "metadata": {
        "colab": {
          "base_uri": "https://localhost:8080/"
        },
        "id": "PloNHRWxCb38",
        "outputId": "99d53e33-caa3-42b5-c2d7-43eb02ddabbc"
      },
      "source": [
        "# number of evaluated data\n",
        "a=confusion_matrix(y_eval, y_pred)\n",
        "b=[]\n",
        "\n",
        "for i in range(0,2):\n",
        "  for j in range(0,2):\n",
        "    c = a[i][j]\n",
        "    b.append(c)\n",
        "\n",
        "sum(b)"
      ],
      "execution_count": null,
      "outputs": [
        {
          "output_type": "execute_result",
          "data": {
            "text/plain": [
              "482"
            ]
          },
          "metadata": {
            "tags": []
          },
          "execution_count": 159
        }
      ]
    },
    {
      "cell_type": "markdown",
      "metadata": {
        "id": "2vVG9whs6Lyh"
      },
      "source": [
        "##### *features importance for RandomForest*"
      ]
    },
    {
      "cell_type": "code",
      "metadata": {
        "id": "uWUu_dw22tUE",
        "colab": {
          "base_uri": "https://localhost:8080/",
          "height": 369
        },
        "outputId": "14f2c765-a44f-4d42-f8a2-4b5d34b039e5"
      },
      "source": [
        "# only for random forest model\n",
        "## FEATURE IMPORTANCE ##\n",
        "# model init\n",
        "model = RandomForestClassifier()\n",
        "\n",
        "# training phase\n",
        "model.fit(X_train, y_train)\n",
        "\n",
        "im = model.feature_importances_\n",
        "\n",
        "im_df = pd.DataFrame(im, index=X.columns, columns=['feature_importance'])\n",
        "im_df.sort_values('feature_importance', inplace=True)\n",
        "\n",
        "# feature importance viz\n",
        "plt.figure(figsize=(10,5))\n",
        "plt.barh(im_df.index, im_df.feature_importance)\n",
        "\n",
        "plt.title('Feature Importance')\n",
        "plt.tight_layout()\n",
        "plt.show()"
      ],
      "execution_count": null,
      "outputs": [
        {
          "output_type": "display_data",
          "data": {
            "image/png": "[encoded data removed]",
            "text/plain": [
              "<Figure size 720x360 with 1 Axes>"
            ]
          },
          "metadata": {
            "tags": [],
            "needs_background": "light"
          }
        }
      ]
    },
    {
      "cell_type": "code",
      "metadata": {
        "colab": {
          "base_uri": "https://localhost:8080/"
        },
        "id": "_h3227ML4rQu",
        "outputId": "9005c187-7f3d-42e9-f471-c888ea9e30ba"
      },
      "source": [
        "# find selected features\n",
        "selected_features = im_df[im_df.feature_importance > im_df.feature_importance.median()].index\n",
        "\n",
        "# pick selected features\n",
        "X_selected = X[selected_features]\n",
        "\n",
        "# split training and evaluating data\n",
        "X_train, X_eval, y_train, y_eval = train_test_split(X_selected, y, test_size=0.2, random_state=1, shuffle=True)\n",
        "\n",
        "# train model again\n",
        "model.fit(X_train, y_train)"
      ],
      "execution_count": null,
      "outputs": [
        {
          "output_type": "execute_result",
          "data": {
            "text/plain": [
              "RandomForestClassifier(bootstrap=True, ccp_alpha=0.0, class_weight=None,\n",
              "                       criterion='gini', max_depth=None, max_features='auto',\n",
              "                       max_leaf_nodes=None, max_samples=None,\n",
              "                       min_impurity_decrease=0.0, min_impurity_split=None,\n",
              "                       min_samples_leaf=1, min_samples_split=2,\n",
              "                       min_weight_fraction_leaf=0.0, n_estimators=100,\n",
              "                       n_jobs=None, oob_score=False, random_state=None,\n",
              "                       verbose=0, warm_start=False)"
            ]
          },
          "metadata": {
            "tags": []
          },
          "execution_count": 193
        }
      ]
    },
    {
      "cell_type": "markdown",
      "metadata": {
        "id": "9cBdSH8W1AA1"
      },
      "source": [
        "##### **Straight to Training Phase!** (without hyperparams tuning)"
      ]
    },
    {
      "cell_type": "code",
      "metadata": {
        "colab": {
          "base_uri": "https://localhost:8080/"
        },
        "id": "tL3z0WIO09la",
        "outputId": "170a21f0-23b0-4524-b084-fb7f4bef2793"
      },
      "source": [
        "# model init\n",
        "model = XGBClassifier()\n",
        "\n",
        "# training phase\n",
        "model.fit(X_train, y_train)"
      ],
      "execution_count": null,
      "outputs": [
        {
          "output_type": "execute_result",
          "data": {
            "text/plain": [
              "XGBClassifier(base_score=0.5, booster='gbtree', colsample_bylevel=1,\n",
              "              colsample_bynode=1, colsample_bytree=1, gamma=0,\n",
              "              learning_rate=0.1, max_delta_step=0, max_depth=3,\n",
              "              min_child_weight=1, missing=None, n_estimators=100, n_jobs=1,\n",
              "              nthread=None, objective='binary:logistic', random_state=0,\n",
              "              reg_alpha=0, reg_lambda=1, scale_pos_weight=1, seed=None,\n",
              "              silent=None, subsample=1, verbosity=1)"
            ]
          },
          "metadata": {
            "tags": []
          },
          "execution_count": 185
        }
      ]
    },
    {
      "cell_type": "markdown",
      "metadata": {
        "id": "JYXG3Hew6D9n"
      },
      "source": [
        "#### 3.2 Evaluating Phase"
      ]
    },
    {
      "cell_type": "code",
      "metadata": {
        "colab": {
          "base_uri": "https://localhost:8080/"
        },
        "id": "qt6tEcTyIYI6",
        "outputId": "5026bad7-edee-46e6-ba93-e58fc90130ec"
      },
      "source": [
        "# evaluation phase\n",
        "y_pred = model.predict(X_eval)\n",
        "\n",
        "# accuracy checking\n",
        "accuracy_score(y_eval, y_pred)"
      ],
      "execution_count": null,
      "outputs": [
        {
          "output_type": "execute_result",
          "data": {
            "text/plain": [
              "0.8734439834024896"
            ]
          },
          "metadata": {
            "tags": []
          },
          "execution_count": 194
        }
      ]
    },
    {
      "cell_type": "code",
      "metadata": {
        "colab": {
          "base_uri": "https://localhost:8080/"
        },
        "id": "Rq82-Fs8hM3g",
        "outputId": "d76f0e46-8bd5-4eec-b604-f8448088d3e7"
      },
      "source": [
        "# classification report\n",
        "print(classification_report(y_eval, y_pred))"
      ],
      "execution_count": null,
      "outputs": [
        {
          "output_type": "stream",
          "text": [
            "              precision    recall  f1-score   support\n",
            "\n",
            "           0       0.86      0.85      0.86       325\n",
            "           1       0.88      0.89      0.89       398\n",
            "\n",
            "    accuracy                           0.87       723\n",
            "   macro avg       0.87      0.87      0.87       723\n",
            "weighted avg       0.87      0.87      0.87       723\n",
            "\n"
          ],
          "name": "stdout"
        }
      ]
    },
    {
      "cell_type": "code",
      "metadata": {
        "colab": {
          "base_uri": "https://localhost:8080/",
          "height": 297
        },
        "id": "dn1CgpRoJSxO",
        "outputId": "0a977347-c67b-4b66-bae8-1ea9c1e337c0"
      },
      "source": [
        "# confusion matrix\n",
        "mx = confusion_matrix(y_eval, y_pred)\n",
        "\n",
        "cm = sns.color_palette('Greens')\n",
        "sns.heatmap(mx, annot=True, cmap=cm)\n",
        "\n",
        "plt.title('Confusion Matrix')\n",
        "plt.xlabel('predicted')\n",
        "plt.ylabel('actual')\n",
        "plt.tight_layout()\n",
        "plt.show()"
      ],
      "execution_count": null,
      "outputs": [
        {
          "output_type": "display_data",
          "data": {
            "image/png": "[encoded data removed]",
            "text/plain": [
              "<Figure size 432x288 with 2 Axes>"
            ]
          },
          "metadata": {
            "tags": [],
            "needs_background": "light"
          }
        }
      ]
    },
    {
      "cell_type": "code",
      "metadata": {
        "colab": {
          "base_uri": "https://localhost:8080/"
        },
        "id": "uAd-A6mqbvG6",
        "outputId": "854cdf6a-efb7-454c-c1b5-814a4b60fb8e"
      },
      "source": [
        "confusion_matrix(y_eval, y_pred)"
      ],
      "execution_count": null,
      "outputs": [
        {
          "output_type": "execute_result",
          "data": {
            "text/plain": [
              "array([[246,  42],\n",
              "       [ 34, 401]])"
            ]
          },
          "metadata": {
            "tags": []
          },
          "execution_count": 98
        }
      ]
    },
    {
      "cell_type": "markdown",
      "metadata": {
        "id": "Vly3z3nnNeWJ"
      },
      "source": [
        "#### 3.3 Testing Phase"
      ]
    },
    {
      "cell_type": "code",
      "metadata": {
        "colab": {
          "base_uri": "https://localhost:8080/"
        },
        "id": "BJb7DRJ6L3dI",
        "outputId": "b11fbe50-ea8a-4af2-cd62-237bf88fc499"
      },
      "source": [
        "# monitoring on the data test shape\n",
        "df_test.shape"
      ],
      "execution_count": null,
      "outputs": [
        {
          "output_type": "execute_result",
          "data": {
            "text/plain": [
              "(935, 27)"
            ]
          },
          "metadata": {
            "tags": []
          },
          "execution_count": 195
        }
      ]
    },
    {
      "cell_type": "code",
      "metadata": {
        "id": "C5tugH-iNme2",
        "colab": {
          "base_uri": "https://localhost:8080/",
          "height": 824
        },
        "outputId": "d62e36a3-0738-402b-c971-1d7e7fe949ce"
      },
      "source": [
        "# testing phase\n",
        "test = model.predict(df_test)\n",
        "\n",
        "# create df to store the result\n",
        "result = pd.DataFrame({'prediction':test})\n",
        "\n",
        "# save it into csv file\n",
        "result.to_csv('prediction_results.csv', index=False)\n",
        "\n",
        "# data preview\n",
        "result.head(25)"
      ],
      "execution_count": null,
      "outputs": [
        {
          "output_type": "execute_result",
          "data": {
            "text/html": [
              "<div>\n",
              "<style scoped>\n",
              "    .dataframe tbody tr th:only-of-type {\n",
              "        vertical-align: middle;\n",
              "    }\n",
              "\n",
              "    .dataframe tbody tr th {\n",
              "        vertical-align: top;\n",
              "    }\n",
              "\n",
              "    .dataframe thead th {\n",
              "        text-align: right;\n",
              "    }\n",
              "</style>\n",
              "<table border=\"1\" class=\"dataframe\">\n",
              "  <thead>\n",
              "    <tr style=\"text-align: right;\">\n",
              "      <th></th>\n",
              "      <th>prediction</th>\n",
              "    </tr>\n",
              "  </thead>\n",
              "  <tbody>\n",
              "    <tr>\n",
              "      <th>0</th>\n",
              "      <td>1</td>\n",
              "    </tr>\n",
              "    <tr>\n",
              "      <th>1</th>\n",
              "      <td>1</td>\n",
              "    </tr>\n",
              "    <tr>\n",
              "      <th>2</th>\n",
              "      <td>1</td>\n",
              "    </tr>\n",
              "    <tr>\n",
              "      <th>3</th>\n",
              "      <td>1</td>\n",
              "    </tr>\n",
              "    <tr>\n",
              "      <th>4</th>\n",
              "      <td>0</td>\n",
              "    </tr>\n",
              "    <tr>\n",
              "      <th>5</th>\n",
              "      <td>0</td>\n",
              "    </tr>\n",
              "    <tr>\n",
              "      <th>6</th>\n",
              "      <td>1</td>\n",
              "    </tr>\n",
              "    <tr>\n",
              "      <th>7</th>\n",
              "      <td>1</td>\n",
              "    </tr>\n",
              "    <tr>\n",
              "      <th>8</th>\n",
              "      <td>1</td>\n",
              "    </tr>\n",
              "    <tr>\n",
              "      <th>9</th>\n",
              "      <td>0</td>\n",
              "    </tr>\n",
              "    <tr>\n",
              "      <th>10</th>\n",
              "      <td>1</td>\n",
              "    </tr>\n",
              "    <tr>\n",
              "      <th>11</th>\n",
              "      <td>1</td>\n",
              "    </tr>\n",
              "    <tr>\n",
              "      <th>12</th>\n",
              "      <td>1</td>\n",
              "    </tr>\n",
              "    <tr>\n",
              "      <th>13</th>\n",
              "      <td>1</td>\n",
              "    </tr>\n",
              "    <tr>\n",
              "      <th>14</th>\n",
              "      <td>1</td>\n",
              "    </tr>\n",
              "    <tr>\n",
              "      <th>15</th>\n",
              "      <td>1</td>\n",
              "    </tr>\n",
              "    <tr>\n",
              "      <th>16</th>\n",
              "      <td>0</td>\n",
              "    </tr>\n",
              "    <tr>\n",
              "      <th>17</th>\n",
              "      <td>0</td>\n",
              "    </tr>\n",
              "    <tr>\n",
              "      <th>18</th>\n",
              "      <td>1</td>\n",
              "    </tr>\n",
              "    <tr>\n",
              "      <th>19</th>\n",
              "      <td>1</td>\n",
              "    </tr>\n",
              "    <tr>\n",
              "      <th>20</th>\n",
              "      <td>1</td>\n",
              "    </tr>\n",
              "    <tr>\n",
              "      <th>21</th>\n",
              "      <td>1</td>\n",
              "    </tr>\n",
              "    <tr>\n",
              "      <th>22</th>\n",
              "      <td>1</td>\n",
              "    </tr>\n",
              "    <tr>\n",
              "      <th>23</th>\n",
              "      <td>0</td>\n",
              "    </tr>\n",
              "    <tr>\n",
              "      <th>24</th>\n",
              "      <td>1</td>\n",
              "    </tr>\n",
              "  </tbody>\n",
              "</table>\n",
              "</div>"
            ],
            "text/plain": [
              "    prediction\n",
              "0            1\n",
              "1            1\n",
              "2            1\n",
              "3            1\n",
              "4            0\n",
              "5            0\n",
              "6            1\n",
              "7            1\n",
              "8            1\n",
              "9            0\n",
              "10           1\n",
              "11           1\n",
              "12           1\n",
              "13           1\n",
              "14           1\n",
              "15           1\n",
              "16           0\n",
              "17           0\n",
              "18           1\n",
              "19           1\n",
              "20           1\n",
              "21           1\n",
              "22           1\n",
              "23           0\n",
              "24           1"
            ]
          },
          "metadata": {
            "tags": []
          },
          "execution_count": 200
        }
      ]
    },
    {
      "cell_type": "code",
      "metadata": {
        "id": "WX-HyujsNdEJ",
        "colab": {
          "base_uri": "https://localhost:8080/",
          "height": 17
        },
        "outputId": "39f6b00b-3215-4fac-ba11-88f26ba75b13"
      },
      "source": [
        "# save it in local\n",
        "from google.colab import files\n",
        "\n",
        "files.download('prediction_results.csv')"
      ],
      "execution_count": null,
      "outputs": [
        {
          "output_type": "display_data",
          "data": {
            "application/javascript": [
              "\n",
              "    async function download(id, filename, size) {\n",
              "      if (!google.colab.kernel.accessAllowed) {\n",
              "        return;\n",
              "      }\n",
              "      const div = document.createElement('div');\n",
              "      const label = document.createElement('label');\n",
              "      label.textContent = `Downloading \"${filename}\": `;\n",
              "      div.appendChild(label);\n",
              "      const progress = document.createElement('progress');\n",
              "      progress.max = size;\n",
              "      div.appendChild(progress);\n",
              "      document.body.appendChild(div);\n",
              "\n",
              "      const buffers = [];\n",
              "      let downloaded = 0;\n",
              "\n",
              "      const channel = await google.colab.kernel.comms.open(id);\n",
              "      // Send a message to notify the kernel that we're ready.\n",
              "      channel.send({})\n",
              "\n",
              "      for await (const message of channel.messages) {\n",
              "        // Send a message to notify the kernel that we're ready.\n",
              "        channel.send({})\n",
              "        if (message.buffers) {\n",
              "          for (const buffer of message.buffers) {\n",
              "            buffers.push(buffer);\n",
              "            downloaded += buffer.byteLength;\n",
              "            progress.value = downloaded;\n",
              "          }\n",
              "        }\n",
              "      }\n",
              "      const blob = new Blob(buffers, {type: 'application/binary'});\n",
              "      const a = document.createElement('a');\n",
              "      a.href = window.URL.createObjectURL(blob);\n",
              "      a.download = filename;\n",
              "      div.appendChild(a);\n",
              "      a.click();\n",
              "      div.remove();\n",
              "    }\n",
              "  "
            ],
            "text/plain": [
              "<IPython.core.display.Javascript object>"
            ]
          },
          "metadata": {
            "tags": []
          }
        },
        {
          "output_type": "display_data",
          "data": {
            "application/javascript": [
              "download(\"download_80a10cca-232c-4157-8828-9a8741d72d85\", \"prediction_results.csv\", 1881)"
            ],
            "text/plain": [
              "<IPython.core.display.Javascript object>"
            ]
          },
          "metadata": {
            "tags": []
          }
        }
      ]
    },
    {
      "cell_type": "code",
      "metadata": {
        "id": "a4_twzU5cdMt"
      },
      "source": [
        ""
      ],
      "execution_count": null,
      "outputs": []
    }
  ]
}
