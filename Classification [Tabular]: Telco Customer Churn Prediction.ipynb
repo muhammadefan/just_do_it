{
  "nbformat": 4,
  "nbformat_minor": 0,
  "metadata": {
    "colab": {
      "name": "Customer Churn Prediction.ipynb",
      "provenance": [],
      "collapsed_sections": [
        "i_7M6J2CO-bo",
        "lmGrawQAPCdl"
      ],
      "mount_file_id": "1npevtZPEBmrC8nYBozvnWacTm2-RVs9o",
      "authorship_tag": "ABX9TyPKLsD8ouz//ACCFQoZIVyU",
      "include_colab_link": true
    },
    "kernelspec": {
      "name": "python3",
      "display_name": "Python 3"
    },
    "language_info": {
      "name": "python"
    }
  },
  "cells": [
    {
      "cell_type": "markdown",
      "metadata": {
        "id": "view-in-github",
        "colab_type": "text"
      },
      "source": [
        "<a href=\"https://colab.research.google.com/github/muhammadefan/just_do_it/blob/main/Classification%20%5BTabular%5D%3A%20Telco%20Customer%20Churn%20Prediction.ipynb\" target=\"_parent\"><img src=\"https://colab.research.google.com/assets/colab-badge.svg\" alt=\"Open In Colab\"/></a>"
      ]
    },
    {
      "cell_type": "markdown",
      "metadata": {
        "id": "i_7M6J2CO-bo"
      },
      "source": [
        "#### Data Preparation"
      ]
    },
    {
      "cell_type": "code",
      "metadata": {
        "id": "9Y_ZQ9r_g-71"
      },
      "source": [
        "PATH = '/content/drive/MyDrive/learningPy/ddb/'"
      ],
      "execution_count": null,
      "outputs": []
    },
    {
      "cell_type": "code",
      "metadata": {
        "id": "646U5HrzjMcr"
      },
      "source": [
        "import pandas as pd\n",
        "import matplotlib.pyplot as plt\n",
        "import seaborn as sns\n",
        "import numpy as np\n",
        "\n",
        "import warnings\n",
        "warnings.filterwarnings('ignore', category=FutureWarning)"
      ],
      "execution_count": null,
      "outputs": []
    },
    {
      "cell_type": "code",
      "metadata": {
        "colab": {
          "base_uri": "https://localhost:8080/",
          "height": 326
        },
        "id": "BUT1lA5mjT21",
        "outputId": "ee6a1144-4a84-498d-f2c2-15fac289efc4"
      },
      "source": [
        "# load dataset\n",
        "df = pd.read_csv(PATH + 'telco_customer_churn.csv')\n",
        "\n",
        "# data preview\n",
        "display(df.head())\n",
        "df.shape"
      ],
      "execution_count": null,
      "outputs": [
        {
          "output_type": "display_data",
          "data": {
            "text/html": [
              "<div>\n",
              "<style scoped>\n",
              "    .dataframe tbody tr th:only-of-type {\n",
              "        vertical-align: middle;\n",
              "    }\n",
              "\n",
              "    .dataframe tbody tr th {\n",
              "        vertical-align: top;\n",
              "    }\n",
              "\n",
              "    .dataframe thead th {\n",
              "        text-align: right;\n",
              "    }\n",
              "</style>\n",
              "<table border=\"1\" class=\"dataframe\">\n",
              "  <thead>\n",
              "    <tr style=\"text-align: right;\">\n",
              "      <th></th>\n",
              "      <th>customerID</th>\n",
              "      <th>gender</th>\n",
              "      <th>SeniorCitizen</th>\n",
              "      <th>Partner</th>\n",
              "      <th>Dependents</th>\n",
              "      <th>tenure</th>\n",
              "      <th>PhoneService</th>\n",
              "      <th>MultipleLines</th>\n",
              "      <th>InternetService</th>\n",
              "      <th>OnlineSecurity</th>\n",
              "      <th>OnlineBackup</th>\n",
              "      <th>DeviceProtection</th>\n",
              "      <th>TechSupport</th>\n",
              "      <th>StreamingTV</th>\n",
              "      <th>StreamingMovies</th>\n",
              "      <th>Contract</th>\n",
              "      <th>PaperlessBilling</th>\n",
              "      <th>PaymentMethod</th>\n",
              "      <th>MonthlyCharges</th>\n",
              "      <th>TotalCharges</th>\n",
              "      <th>Churn</th>\n",
              "    </tr>\n",
              "  </thead>\n",
              "  <tbody>\n",
              "    <tr>\n",
              "      <th>0</th>\n",
              "      <td>7590-VHVEG</td>\n",
              "      <td>Female</td>\n",
              "      <td>0</td>\n",
              "      <td>Yes</td>\n",
              "      <td>No</td>\n",
              "      <td>1</td>\n",
              "      <td>No</td>\n",
              "      <td>No phone service</td>\n",
              "      <td>DSL</td>\n",
              "      <td>No</td>\n",
              "      <td>Yes</td>\n",
              "      <td>No</td>\n",
              "      <td>No</td>\n",
              "      <td>No</td>\n",
              "      <td>No</td>\n",
              "      <td>Month-to-month</td>\n",
              "      <td>Yes</td>\n",
              "      <td>Electronic check</td>\n",
              "      <td>29.85</td>\n",
              "      <td>29.85</td>\n",
              "      <td>No</td>\n",
              "    </tr>\n",
              "    <tr>\n",
              "      <th>1</th>\n",
              "      <td>5575-GNVDE</td>\n",
              "      <td>Male</td>\n",
              "      <td>0</td>\n",
              "      <td>No</td>\n",
              "      <td>No</td>\n",
              "      <td>34</td>\n",
              "      <td>Yes</td>\n",
              "      <td>No</td>\n",
              "      <td>DSL</td>\n",
              "      <td>Yes</td>\n",
              "      <td>No</td>\n",
              "      <td>Yes</td>\n",
              "      <td>No</td>\n",
              "      <td>No</td>\n",
              "      <td>No</td>\n",
              "      <td>One year</td>\n",
              "      <td>No</td>\n",
              "      <td>Mailed check</td>\n",
              "      <td>56.95</td>\n",
              "      <td>1889.5</td>\n",
              "      <td>No</td>\n",
              "    </tr>\n",
              "    <tr>\n",
              "      <th>2</th>\n",
              "      <td>3668-QPYBK</td>\n",
              "      <td>Male</td>\n",
              "      <td>0</td>\n",
              "      <td>No</td>\n",
              "      <td>No</td>\n",
              "      <td>2</td>\n",
              "      <td>Yes</td>\n",
              "      <td>No</td>\n",
              "      <td>DSL</td>\n",
              "      <td>Yes</td>\n",
              "      <td>Yes</td>\n",
              "      <td>No</td>\n",
              "      <td>No</td>\n",
              "      <td>No</td>\n",
              "      <td>No</td>\n",
              "      <td>Month-to-month</td>\n",
              "      <td>Yes</td>\n",
              "      <td>Mailed check</td>\n",
              "      <td>53.85</td>\n",
              "      <td>108.15</td>\n",
              "      <td>Yes</td>\n",
              "    </tr>\n",
              "    <tr>\n",
              "      <th>3</th>\n",
              "      <td>7795-CFOCW</td>\n",
              "      <td>Male</td>\n",
              "      <td>0</td>\n",
              "      <td>No</td>\n",
              "      <td>No</td>\n",
              "      <td>45</td>\n",
              "      <td>No</td>\n",
              "      <td>No phone service</td>\n",
              "      <td>DSL</td>\n",
              "      <td>Yes</td>\n",
              "      <td>No</td>\n",
              "      <td>Yes</td>\n",
              "      <td>Yes</td>\n",
              "      <td>No</td>\n",
              "      <td>No</td>\n",
              "      <td>One year</td>\n",
              "      <td>No</td>\n",
              "      <td>Bank transfer (automatic)</td>\n",
              "      <td>42.30</td>\n",
              "      <td>1840.75</td>\n",
              "      <td>No</td>\n",
              "    </tr>\n",
              "    <tr>\n",
              "      <th>4</th>\n",
              "      <td>9237-HQITU</td>\n",
              "      <td>Female</td>\n",
              "      <td>0</td>\n",
              "      <td>No</td>\n",
              "      <td>No</td>\n",
              "      <td>2</td>\n",
              "      <td>Yes</td>\n",
              "      <td>No</td>\n",
              "      <td>Fiber optic</td>\n",
              "      <td>No</td>\n",
              "      <td>No</td>\n",
              "      <td>No</td>\n",
              "      <td>No</td>\n",
              "      <td>No</td>\n",
              "      <td>No</td>\n",
              "      <td>Month-to-month</td>\n",
              "      <td>Yes</td>\n",
              "      <td>Electronic check</td>\n",
              "      <td>70.70</td>\n",
              "      <td>151.65</td>\n",
              "      <td>Yes</td>\n",
              "    </tr>\n",
              "  </tbody>\n",
              "</table>\n",
              "</div>"
            ],
            "text/plain": [
              "   customerID  gender  SeniorCitizen  ... MonthlyCharges TotalCharges  Churn\n",
              "0  7590-VHVEG  Female              0  ...          29.85        29.85     No\n",
              "1  5575-GNVDE    Male              0  ...          56.95       1889.5     No\n",
              "2  3668-QPYBK    Male              0  ...          53.85       108.15    Yes\n",
              "3  7795-CFOCW    Male              0  ...          42.30      1840.75     No\n",
              "4  9237-HQITU  Female              0  ...          70.70       151.65    Yes\n",
              "\n",
              "[5 rows x 21 columns]"
            ]
          },
          "metadata": {}
        },
        {
          "output_type": "execute_result",
          "data": {
            "text/plain": [
              "(7043, 21)"
            ]
          },
          "metadata": {},
          "execution_count": 164
        }
      ]
    },
    {
      "cell_type": "code",
      "metadata": {
        "colab": {
          "base_uri": "https://localhost:8080/"
        },
        "id": "ld9m2zM3jlJO",
        "outputId": "45f84c07-fa94-48d9-b543-eb5ec382fcf0"
      },
      "source": [
        "# cek missing value\n",
        "df.isna().sum()"
      ],
      "execution_count": null,
      "outputs": [
        {
          "output_type": "execute_result",
          "data": {
            "text/plain": [
              "customerID          0\n",
              "gender              0\n",
              "SeniorCitizen       0\n",
              "Partner             0\n",
              "Dependents          0\n",
              "tenure              0\n",
              "PhoneService        0\n",
              "MultipleLines       0\n",
              "InternetService     0\n",
              "OnlineSecurity      0\n",
              "OnlineBackup        0\n",
              "DeviceProtection    0\n",
              "TechSupport         0\n",
              "StreamingTV         0\n",
              "StreamingMovies     0\n",
              "Contract            0\n",
              "PaperlessBilling    0\n",
              "PaymentMethod       0\n",
              "MonthlyCharges      0\n",
              "TotalCharges        0\n",
              "Churn               0\n",
              "dtype: int64"
            ]
          },
          "metadata": {},
          "execution_count": 165
        }
      ]
    },
    {
      "cell_type": "code",
      "metadata": {
        "colab": {
          "base_uri": "https://localhost:8080/"
        },
        "id": "lRvZWQDPjspd",
        "outputId": "4ca40039-a9ac-40fe-d7d9-ae4462500e5f"
      },
      "source": [
        "# cek data duplikat\n",
        "df.duplicated().sum()"
      ],
      "execution_count": null,
      "outputs": [
        {
          "output_type": "execute_result",
          "data": {
            "text/plain": [
              "0"
            ]
          },
          "metadata": {},
          "execution_count": 166
        }
      ]
    },
    {
      "cell_type": "markdown",
      "metadata": {
        "id": "YxWgh1B-vXN_"
      },
      "source": [
        "**cek tipe data**"
      ]
    },
    {
      "cell_type": "code",
      "metadata": {
        "colab": {
          "base_uri": "https://localhost:8080/"
        },
        "id": "CeoMqDoCu_tA",
        "outputId": "71e3e076-8da1-4bf6-b28d-261bb8697632"
      },
      "source": [
        "# cek data yang bertipe object/string\n",
        "print(df.select_dtypes('object').columns, end='\\n\\n')\n",
        "\n",
        "# cek data yang bertipe int/float\n",
        "print(df.select_dtypes(['int64','float64']).columns)"
      ],
      "execution_count": null,
      "outputs": [
        {
          "output_type": "stream",
          "name": "stdout",
          "text": [
            "Index(['customerID', 'gender', 'Partner', 'Dependents', 'PhoneService',\n",
            "       'MultipleLines', 'InternetService', 'OnlineSecurity', 'OnlineBackup',\n",
            "       'DeviceProtection', 'TechSupport', 'StreamingTV', 'StreamingMovies',\n",
            "       'Contract', 'PaperlessBilling', 'PaymentMethod', 'TotalCharges',\n",
            "       'Churn'],\n",
            "      dtype='object')\n",
            "\n",
            "Index(['SeniorCitizen', 'tenure', 'MonthlyCharges'], dtype='object')\n"
          ]
        }
      ]
    },
    {
      "cell_type": "markdown",
      "metadata": {
        "id": "IfdzM-I7vduu"
      },
      "source": [
        "```\n",
        "seharusnya tipe data dari kolom TotalCharges adalah numerik (int/float), coba kita periksa lebih lanjut!\n",
        "```"
      ]
    },
    {
      "cell_type": "code",
      "metadata": {
        "colab": {
          "base_uri": "https://localhost:8080/"
        },
        "id": "UgdoEelbvC-U",
        "outputId": "3352c96e-f7c6-4a1e-c838-cc74bccdf88b"
      },
      "source": [
        "import re\n",
        "\n",
        "non_number = []\n",
        "idx = []\n",
        "for i, row in enumerate(df['TotalCharges']):\n",
        "  if re.findall('[0-9]{1,}.[0-9]{1,}|[0-9]{1,}', row):\n",
        "    continue\n",
        "  else:\n",
        "    non_number.append(row)\n",
        "    idx.append(i)\n",
        "\n",
        "print(non_number, idx)"
      ],
      "execution_count": null,
      "outputs": [
        {
          "output_type": "stream",
          "name": "stdout",
          "text": [
            "[' ', ' ', ' ', ' ', ' ', ' ', ' ', ' ', ' ', ' ', ' '] [488, 753, 936, 1082, 1340, 3331, 3826, 4380, 5218, 6670, 6754]\n"
          ]
        }
      ]
    },
    {
      "cell_type": "code",
      "metadata": {
        "colab": {
          "base_uri": "https://localhost:8080/"
        },
        "id": "pKBVl_RBvDCY",
        "outputId": "257eb020-b3e1-43a9-e4d4-a69c56209e75"
      },
      "source": [
        "# mengkonfirmasi jumlah data yang bukan angka pada kolom TotalCharges\n",
        "df.query('TotalCharges == \" \"').shape"
      ],
      "execution_count": null,
      "outputs": [
        {
          "output_type": "execute_result",
          "data": {
            "text/plain": [
              "(11, 21)"
            ]
          },
          "metadata": {},
          "execution_count": 169
        }
      ]
    },
    {
      "cell_type": "code",
      "metadata": {
        "colab": {
          "base_uri": "https://localhost:8080/"
        },
        "id": "po6jPVrFvDF_",
        "outputId": "61664c70-41a6-4e81-af27-a3708d7a7e9b"
      },
      "source": [
        "# drop baris yang bukan angka dari kolom TotalCharges melalui nomor indeksnya\n",
        "df.drop(idx, axis=0, inplace=True)\n",
        "\n",
        "df.shape"
      ],
      "execution_count": null,
      "outputs": [
        {
          "output_type": "execute_result",
          "data": {
            "text/plain": [
              "(7032, 21)"
            ]
          },
          "metadata": {},
          "execution_count": 170
        }
      ]
    },
    {
      "cell_type": "code",
      "metadata": {
        "colab": {
          "base_uri": "https://localhost:8080/"
        },
        "id": "Ao36VoLkvDJj",
        "outputId": "71e6955a-ddaf-42f3-ccf5-6e68b3f744fd"
      },
      "source": [
        "# ubah tipe data TotalCharges\n",
        "df['TotalCharges'] = df['TotalCharges'].astype('float')\n",
        "\n",
        "# cek data yang bertipe object/string\n",
        "print(df.select_dtypes('object').columns, end='\\n\\n')\n",
        "\n",
        "# cek data yang bertipe int/float\n",
        "print(df.select_dtypes(['int64','float64']).columns)"
      ],
      "execution_count": null,
      "outputs": [
        {
          "output_type": "stream",
          "name": "stdout",
          "text": [
            "Index(['customerID', 'gender', 'Partner', 'Dependents', 'PhoneService',\n",
            "       'MultipleLines', 'InternetService', 'OnlineSecurity', 'OnlineBackup',\n",
            "       'DeviceProtection', 'TechSupport', 'StreamingTV', 'StreamingMovies',\n",
            "       'Contract', 'PaperlessBilling', 'PaymentMethod', 'Churn'],\n",
            "      dtype='object')\n",
            "\n",
            "Index(['SeniorCitizen', 'tenure', 'MonthlyCharges', 'TotalCharges'], dtype='object')\n"
          ]
        }
      ]
    },
    {
      "cell_type": "markdown",
      "metadata": {
        "id": "X3o6-ffkvs68"
      },
      "source": [
        "```\n",
        "tipe data dari setiap kolom sudah sesuai\n",
        "```"
      ]
    },
    {
      "cell_type": "markdown",
      "metadata": {
        "id": "PrfPhzIHN0R1"
      },
      "source": [
        "**data proportion**"
      ]
    },
    {
      "cell_type": "code",
      "metadata": {
        "colab": {
          "base_uri": "https://localhost:8080/",
          "height": 373
        },
        "id": "ajuUJy3VkDCp",
        "outputId": "81d99753-e621-4ca1-d0b7-ae0e4fc4f79c"
      },
      "source": [
        "fig, ax = plt.subplots(figsize=(10,6))\n",
        "labels = df['Churn'].unique().tolist()\n",
        "\n",
        "ax.pie(x = [val/len(df) for val in df['Churn'].value_counts().values.tolist()],\n",
        "       explode = [0.03, 0],\n",
        "       autopct = '%.2f%%',\n",
        "       labels = labels,\n",
        "       startangle = 90,\n",
        "       colors = ['mediumseagreen', 'tomato']\n",
        "       )\n",
        "\n",
        "# draw circle\n",
        "centre_circle = plt.Circle((0,0), 0.35, fc='white')\n",
        "fig = plt.gcf()\n",
        "fig.gca().add_artist(centre_circle)\n",
        "\n",
        "ax.set_title('Customer Churn')\n",
        "ax.set_label(labels)\n",
        "ax.legend()  # bbox_to_anchor=(1.5,0.8)\n",
        "plt.show()\n",
        "\n",
        "fig.savefig('customerchurn.png')"
      ],
      "execution_count": null,
      "outputs": [
        {
          "output_type": "display_data",
          "data": {
            "image/png": "[encoded data removed]",
            "text/plain": [
              "<Figure size 720x432 with 1 Axes>"
            ]
          },
          "metadata": {}
        }
      ]
    },
    {
      "cell_type": "markdown",
      "metadata": {
        "id": "hBGJjo5GNu96"
      },
      "source": [
        "**churn by gender**"
      ]
    },
    {
      "cell_type": "code",
      "metadata": {
        "colab": {
          "base_uri": "https://localhost:8080/",
          "height": 337
        },
        "id": "KpulIyPgGU-f",
        "outputId": "cff10425-c6ef-4be9-b6ee-9bd7647a52e4"
      },
      "source": [
        "ax = df.groupby(['gender', 'Churn']).count()['customerID'].unstack().plot(kind='bar', zorder=2, figsize=(8, 5))\n",
        "for p in ax.patches:\n",
        "  ax.annotate(p.get_height(),\n",
        "              (p.get_x()+0.065, p.get_height()-200),\n",
        "              color = 'white',\n",
        "              fontweight = 'bold'\n",
        "              )\n",
        "\n",
        "# plt.grid(axis='y', zorder=0, linestyle='--')\n",
        "plt.tick_params(axis='y', labelleft=False, left=False)\n",
        "plt.xticks(ticks=[0,1], labels=['Female','Male'], rotation=0)\n",
        "plt.xlabel('gender', fontsize=12)\n",
        "plt.show()\n",
        "\n",
        "fig = ax.get_figure()\n",
        "fig.savefig('churnbygender.png')"
      ],
      "execution_count": null,
      "outputs": [
        {
          "output_type": "display_data",
          "data": {
            "image/png": "[encoded data removed]",
            "text/plain": [
              "<Figure size 576x360 with 1 Axes>"
            ]
          },
          "metadata": {
            "needs_background": "light"
          }
        }
      ]
    },
    {
      "cell_type": "markdown",
      "metadata": {
        "id": "q0MrSreHO952"
      },
      "source": [
        "**churn by nationality**"
      ]
    },
    {
      "cell_type": "code",
      "metadata": {
        "colab": {
          "base_uri": "https://localhost:8080/",
          "height": 337
        },
        "id": "UrqF5d1_kisn",
        "outputId": "6efa9e21-fac9-46ed-b206-5a961b242230"
      },
      "source": [
        "ax = df.groupby(['SeniorCitizen', 'Churn']).count()['customerID'].unstack().plot(kind='bar', zorder=2, figsize=(8, 5))\n",
        "for p in ax.patches:\n",
        "  ax.annotate(p.get_height(),\n",
        "              (p.get_x()+0.065, p.get_height()-350),\n",
        "              color = 'white',\n",
        "              fontweight = 'bold'\n",
        "              )\n",
        "\n",
        "# plt.grid(axis='y', zorder=0, linestyle='--')\n",
        "plt.tick_params(axis='y', labelleft=False, left=False)\n",
        "plt.xticks(ticks=[0, 1], labels=['Not Senior Citizen', 'Senior Citizen'], rotation=0)\n",
        "plt.xlabel('Citizenship', fontsize=12)\n",
        "plt.show()\n",
        "\n",
        "fig = ax.get_figure()\n",
        "fig.savefig('churnbycitizen.png')"
      ],
      "execution_count": null,
      "outputs": [
        {
          "output_type": "display_data",
          "data": {
            "image/png": "[encoded data removed]",
            "text/plain": [
              "<Figure size 576x360 with 1 Axes>"
            ]
          },
          "metadata": {
            "needs_background": "light"
          }
        }
      ]
    },
    {
      "cell_type": "code",
      "metadata": {
        "colab": {
          "base_uri": "https://localhost:8080/",
          "height": 337
        },
        "id": "l3drY-HQHeZ-",
        "outputId": "943da9bf-1eed-4479-fb29-b4947ecb4ca7"
      },
      "source": [
        "ax = df.groupby(['InternetService', 'Churn']).count()['customerID'].unstack().plot(kind='bar', zorder=2, figsize=(8, 5))\n",
        "for p in ax.patches:\n",
        "  ax.annotate(p.get_height(),\n",
        "              (p.get_x()+0.038, p.get_height()-100),\n",
        "              color = 'white',\n",
        "              fontweight = 'bold'\n",
        "              )\n",
        "\n",
        "# plt.grid(axis='y', zorder=0, linestyle='--')\n",
        "plt.tick_params(axis='y', labelleft=False, left=False)\n",
        "plt.xticks(ticks=[0, 1, 2], labels=['DSL', 'Fiber Optic', 'No'], rotation=0)\n",
        "plt.xlabel('Internet Services', fontsize=12)\n",
        "plt.show()\n",
        "\n",
        "fig = ax.get_figure()\n",
        "fig.savefig('churnbyservice.png')"
      ],
      "execution_count": null,
      "outputs": [
        {
          "output_type": "display_data",
          "data": {
            "image/png": "[encoded data removed]",
            "text/plain": [
              "<Figure size 576x360 with 1 Axes>"
            ]
          },
          "metadata": {
            "needs_background": "light"
          }
        }
      ]
    },
    {
      "cell_type": "code",
      "metadata": {
        "colab": {
          "base_uri": "https://localhost:8080/",
          "height": 337
        },
        "id": "mzGd-4MyQt4K",
        "outputId": "4160cea3-77c6-42dd-8a55-51fb68ae066b"
      },
      "source": [
        "ax = df.groupby(['Contract', 'Churn']).count()['customerID'].unstack().plot(kind='bar', zorder=2, figsize=(8, 5))\n",
        "for p in ax.patches:\n",
        "  ax.annotate(p.get_height(),\n",
        "              (p.get_x()+0.04, p.get_height()+70),\n",
        "              color = 'black',\n",
        "              fontweight = 'bold'\n",
        "              )\n",
        "\n",
        "# plt.grid(axis='y', zorder=0, linestyle='--')\n",
        "plt.tick_params(axis='y', labelleft=False, left=False)\n",
        "plt.xticks(ticks=[0, 1, 2], labels=['Month-to-month', 'One year', 'Two year'], rotation=0)\n",
        "plt.yticks(ticks=np.arange(0,2550,500))\n",
        "plt.xlabel('Contract', fontsize=12)\n",
        "plt.show()\n",
        "\n",
        "fig = ax.get_figure()\n",
        "fig.savefig('churnbycontract.png')"
      ],
      "execution_count": null,
      "outputs": [
        {
          "output_type": "display_data",
          "data": {
            "image/png": "[encoded data removed]",
            "text/plain": [
              "<Figure size 576x360 with 1 Axes>"
            ]
          },
          "metadata": {
            "needs_background": "light"
          }
        }
      ]
    },
    {
      "cell_type": "markdown",
      "metadata": {
        "id": "ZgtcRfy2nxGF"
      },
      "source": [
        "**churn by biaya bulanan**"
      ]
    },
    {
      "cell_type": "code",
      "metadata": {
        "colab": {
          "base_uri": "https://localhost:8080/"
        },
        "id": "_qOAyaZpSVSZ",
        "outputId": "f179a60a-1693-4898-f5ed-c66f5321030a"
      },
      "source": [
        "df['MonthlyCharges'].describe()"
      ],
      "execution_count": null,
      "outputs": [
        {
          "output_type": "execute_result",
          "data": {
            "text/plain": [
              "count    7043.000000\n",
              "mean       64.761692\n",
              "std        30.090047\n",
              "min        18.250000\n",
              "25%        35.500000\n",
              "50%        70.350000\n",
              "75%        89.850000\n",
              "max       118.750000\n",
              "Name: MonthlyCharges, dtype: float64"
            ]
          },
          "metadata": {},
          "execution_count": 11
        }
      ]
    },
    {
      "cell_type": "code",
      "metadata": {
        "id": "DI-3gkyXlqtd"
      },
      "source": [
        "mos_charge = df.copy()\n",
        "mos_charge['MonthlyCharges_Category'] = mos_charge['MonthlyCharges'].apply(lambda x: 0 if x <= df['MonthlyCharges'].quantile(0.25) else 3 if x >= df['MonthlyCharges'].quantile(0.75) else 2)"
      ],
      "execution_count": null,
      "outputs": []
    },
    {
      "cell_type": "code",
      "metadata": {
        "colab": {
          "base_uri": "https://localhost:8080/",
          "height": 337
        },
        "id": "3jdnDoc5kgxa",
        "outputId": "e9933c3a-01e8-4adc-efb8-606648dbf4ea"
      },
      "source": [
        "ax = mos_charge.groupby(['MonthlyCharges_Category', 'Churn']).count()['customerID'].unstack().plot(kind='bar', zorder=2, figsize=(8, 5))\n",
        "for p in ax.patches:\n",
        "  ax.annotate(p.get_height(),\n",
        "              (p.get_x()+0.038, p.get_height()-140),\n",
        "              color = 'white',\n",
        "              fontweight = 'bold'\n",
        "              )\n",
        "\n",
        "# plt.grid(axis='y', zorder=0, linestyle='--')\n",
        "plt.tick_params(axis='y', labelleft=False, left=False)\n",
        "plt.xticks(ticks=[0, 1, 2], labels=['< $35.5', '$35.5 s.d 89.85', '> $89.85'], rotation=0)\n",
        "plt.xlabel('Monthly Charges', fontsize=12)\n",
        "plt.show()\n",
        "\n",
        "fig = ax.get_figure()\n",
        "fig.savefig('churnbymoscharges.png')"
      ],
      "execution_count": null,
      "outputs": [
        {
          "output_type": "display_data",
          "data": {
            "image/png": "[encoded data removed]",
            "text/plain": [
              "<Figure size 576x360 with 1 Axes>"
            ]
          },
          "metadata": {
            "needs_background": "light"
          }
        }
      ]
    },
    {
      "cell_type": "markdown",
      "metadata": {
        "id": "qWM2RnUexpSC"
      },
      "source": [
        "**drop unnecessary column**"
      ]
    },
    {
      "cell_type": "code",
      "metadata": {
        "colab": {
          "base_uri": "https://localhost:8080/",
          "height": 117
        },
        "id": "E8eC89rtxFiq",
        "outputId": "a5f0b284-edda-49ca-ab3c-76a15b128d8e"
      },
      "source": [
        "# data customer ID tidak diperlukan karena sifatnya unik\n",
        "df.drop('customerID', axis=1, inplace=True)\n",
        "df.sample(1)"
      ],
      "execution_count": null,
      "outputs": [
        {
          "output_type": "execute_result",
          "data": {
            "text/html": [
              "<div>\n",
              "<style scoped>\n",
              "    .dataframe tbody tr th:only-of-type {\n",
              "        vertical-align: middle;\n",
              "    }\n",
              "\n",
              "    .dataframe tbody tr th {\n",
              "        vertical-align: top;\n",
              "    }\n",
              "\n",
              "    .dataframe thead th {\n",
              "        text-align: right;\n",
              "    }\n",
              "</style>\n",
              "<table border=\"1\" class=\"dataframe\">\n",
              "  <thead>\n",
              "    <tr style=\"text-align: right;\">\n",
              "      <th></th>\n",
              "      <th>gender</th>\n",
              "      <th>SeniorCitizen</th>\n",
              "      <th>Partner</th>\n",
              "      <th>Dependents</th>\n",
              "      <th>tenure</th>\n",
              "      <th>PhoneService</th>\n",
              "      <th>MultipleLines</th>\n",
              "      <th>InternetService</th>\n",
              "      <th>OnlineSecurity</th>\n",
              "      <th>OnlineBackup</th>\n",
              "      <th>DeviceProtection</th>\n",
              "      <th>TechSupport</th>\n",
              "      <th>StreamingTV</th>\n",
              "      <th>StreamingMovies</th>\n",
              "      <th>Contract</th>\n",
              "      <th>PaperlessBilling</th>\n",
              "      <th>PaymentMethod</th>\n",
              "      <th>MonthlyCharges</th>\n",
              "      <th>TotalCharges</th>\n",
              "      <th>Churn</th>\n",
              "    </tr>\n",
              "  </thead>\n",
              "  <tbody>\n",
              "    <tr>\n",
              "      <th>6405</th>\n",
              "      <td>Female</td>\n",
              "      <td>1</td>\n",
              "      <td>No</td>\n",
              "      <td>No</td>\n",
              "      <td>60</td>\n",
              "      <td>Yes</td>\n",
              "      <td>Yes</td>\n",
              "      <td>Fiber optic</td>\n",
              "      <td>Yes</td>\n",
              "      <td>No</td>\n",
              "      <td>No</td>\n",
              "      <td>No</td>\n",
              "      <td>Yes</td>\n",
              "      <td>Yes</td>\n",
              "      <td>One year</td>\n",
              "      <td>Yes</td>\n",
              "      <td>Bank transfer (automatic)</td>\n",
              "      <td>101.4</td>\n",
              "      <td>6176.6</td>\n",
              "      <td>No</td>\n",
              "    </tr>\n",
              "  </tbody>\n",
              "</table>\n",
              "</div>"
            ],
            "text/plain": [
              "      gender  SeniorCitizen Partner  ... MonthlyCharges  TotalCharges Churn\n",
              "6405  Female              1      No  ...          101.4        6176.6    No\n",
              "\n",
              "[1 rows x 20 columns]"
            ]
          },
          "metadata": {},
          "execution_count": 185
        }
      ]
    },
    {
      "cell_type": "markdown",
      "metadata": {
        "id": "fmZgI5W0z0Za"
      },
      "source": [
        "**data encoding**"
      ]
    },
    {
      "cell_type": "code",
      "metadata": {
        "id": "PpXjkhISxzLh"
      },
      "source": [
        "# ubah label menjadi angka (label encoding)\n",
        "df['Churn'] = df['Churn'].map({'No': 0, 'Yes': 1})"
      ],
      "execution_count": null,
      "outputs": []
    },
    {
      "cell_type": "code",
      "metadata": {
        "id": "93Cf2soYwd4d"
      },
      "source": [
        "# data pada kolom SeniorCitizen akan dilakukan one-hot encoding agar sama dengan fitur lainnya\n",
        "df['SeniorCitizen'] = df['SeniorCitizen'].map({0: 'No', 1: 'Yes'})"
      ],
      "execution_count": null,
      "outputs": []
    },
    {
      "cell_type": "code",
      "metadata": {
        "colab": {
          "base_uri": "https://localhost:8080/",
          "height": 275
        },
        "id": "eNYCaIYqxO4_",
        "outputId": "9b50ddcf-ccfb-47be-8c7f-a661d14128f3"
      },
      "source": [
        "# encode data kategorikal\n",
        "df_encoded = pd.get_dummies(df)\n",
        "\n",
        "# data preview\n",
        "display(df_encoded.head())\n",
        "df_encoded.shape"
      ],
      "execution_count": null,
      "outputs": [
        {
          "output_type": "display_data",
          "data": {
            "text/html": [
              "<div>\n",
              "<style scoped>\n",
              "    .dataframe tbody tr th:only-of-type {\n",
              "        vertical-align: middle;\n",
              "    }\n",
              "\n",
              "    .dataframe tbody tr th {\n",
              "        vertical-align: top;\n",
              "    }\n",
              "\n",
              "    .dataframe thead th {\n",
              "        text-align: right;\n",
              "    }\n",
              "</style>\n",
              "<table border=\"1\" class=\"dataframe\">\n",
              "  <thead>\n",
              "    <tr style=\"text-align: right;\">\n",
              "      <th></th>\n",
              "      <th>tenure</th>\n",
              "      <th>MonthlyCharges</th>\n",
              "      <th>TotalCharges</th>\n",
              "      <th>Churn</th>\n",
              "      <th>gender_Female</th>\n",
              "      <th>gender_Male</th>\n",
              "      <th>SeniorCitizen_No</th>\n",
              "      <th>SeniorCitizen_Yes</th>\n",
              "      <th>Partner_No</th>\n",
              "      <th>Partner_Yes</th>\n",
              "      <th>Dependents_No</th>\n",
              "      <th>Dependents_Yes</th>\n",
              "      <th>PhoneService_No</th>\n",
              "      <th>PhoneService_Yes</th>\n",
              "      <th>MultipleLines_No</th>\n",
              "      <th>MultipleLines_No phone service</th>\n",
              "      <th>MultipleLines_Yes</th>\n",
              "      <th>InternetService_DSL</th>\n",
              "      <th>InternetService_Fiber optic</th>\n",
              "      <th>InternetService_No</th>\n",
              "      <th>OnlineSecurity_No</th>\n",
              "      <th>OnlineSecurity_No internet service</th>\n",
              "      <th>OnlineSecurity_Yes</th>\n",
              "      <th>OnlineBackup_No</th>\n",
              "      <th>OnlineBackup_No internet service</th>\n",
              "      <th>OnlineBackup_Yes</th>\n",
              "      <th>DeviceProtection_No</th>\n",
              "      <th>DeviceProtection_No internet service</th>\n",
              "      <th>DeviceProtection_Yes</th>\n",
              "      <th>TechSupport_No</th>\n",
              "      <th>TechSupport_No internet service</th>\n",
              "      <th>TechSupport_Yes</th>\n",
              "      <th>StreamingTV_No</th>\n",
              "      <th>StreamingTV_No internet service</th>\n",
              "      <th>StreamingTV_Yes</th>\n",
              "      <th>StreamingMovies_No</th>\n",
              "      <th>StreamingMovies_No internet service</th>\n",
              "      <th>StreamingMovies_Yes</th>\n",
              "      <th>Contract_Month-to-month</th>\n",
              "      <th>Contract_One year</th>\n",
              "      <th>Contract_Two year</th>\n",
              "      <th>PaperlessBilling_No</th>\n",
              "      <th>PaperlessBilling_Yes</th>\n",
              "      <th>PaymentMethod_Bank transfer (automatic)</th>\n",
              "      <th>PaymentMethod_Credit card (automatic)</th>\n",
              "      <th>PaymentMethod_Electronic check</th>\n",
              "      <th>PaymentMethod_Mailed check</th>\n",
              "    </tr>\n",
              "  </thead>\n",
              "  <tbody>\n",
              "    <tr>\n",
              "      <th>0</th>\n",
              "      <td>1</td>\n",
              "      <td>29.85</td>\n",
              "      <td>29.85</td>\n",
              "      <td>0</td>\n",
              "      <td>1</td>\n",
              "      <td>0</td>\n",
              "      <td>1</td>\n",
              "      <td>0</td>\n",
              "      <td>0</td>\n",
              "      <td>1</td>\n",
              "      <td>1</td>\n",
              "      <td>0</td>\n",
              "      <td>1</td>\n",
              "      <td>0</td>\n",
              "      <td>0</td>\n",
              "      <td>1</td>\n",
              "      <td>0</td>\n",
              "      <td>1</td>\n",
              "      <td>0</td>\n",
              "      <td>0</td>\n",
              "      <td>1</td>\n",
              "      <td>0</td>\n",
              "      <td>0</td>\n",
              "      <td>0</td>\n",
              "      <td>0</td>\n",
              "      <td>1</td>\n",
              "      <td>1</td>\n",
              "      <td>0</td>\n",
              "      <td>0</td>\n",
              "      <td>1</td>\n",
              "      <td>0</td>\n",
              "      <td>0</td>\n",
              "      <td>1</td>\n",
              "      <td>0</td>\n",
              "      <td>0</td>\n",
              "      <td>1</td>\n",
              "      <td>0</td>\n",
              "      <td>0</td>\n",
              "      <td>1</td>\n",
              "      <td>0</td>\n",
              "      <td>0</td>\n",
              "      <td>0</td>\n",
              "      <td>1</td>\n",
              "      <td>0</td>\n",
              "      <td>0</td>\n",
              "      <td>1</td>\n",
              "      <td>0</td>\n",
              "    </tr>\n",
              "    <tr>\n",
              "      <th>1</th>\n",
              "      <td>34</td>\n",
              "      <td>56.95</td>\n",
              "      <td>1889.50</td>\n",
              "      <td>0</td>\n",
              "      <td>0</td>\n",
              "      <td>1</td>\n",
              "      <td>1</td>\n",
              "      <td>0</td>\n",
              "      <td>1</td>\n",
              "      <td>0</td>\n",
              "      <td>1</td>\n",
              "      <td>0</td>\n",
              "      <td>0</td>\n",
              "      <td>1</td>\n",
              "      <td>1</td>\n",
              "      <td>0</td>\n",
              "      <td>0</td>\n",
              "      <td>1</td>\n",
              "      <td>0</td>\n",
              "      <td>0</td>\n",
              "      <td>0</td>\n",
              "      <td>0</td>\n",
              "      <td>1</td>\n",
              "      <td>1</td>\n",
              "      <td>0</td>\n",
              "      <td>0</td>\n",
              "      <td>0</td>\n",
              "      <td>0</td>\n",
              "      <td>1</td>\n",
              "      <td>1</td>\n",
              "      <td>0</td>\n",
              "      <td>0</td>\n",
              "      <td>1</td>\n",
              "      <td>0</td>\n",
              "      <td>0</td>\n",
              "      <td>1</td>\n",
              "      <td>0</td>\n",
              "      <td>0</td>\n",
              "      <td>0</td>\n",
              "      <td>1</td>\n",
              "      <td>0</td>\n",
              "      <td>1</td>\n",
              "      <td>0</td>\n",
              "      <td>0</td>\n",
              "      <td>0</td>\n",
              "      <td>0</td>\n",
              "      <td>1</td>\n",
              "    </tr>\n",
              "    <tr>\n",
              "      <th>2</th>\n",
              "      <td>2</td>\n",
              "      <td>53.85</td>\n",
              "      <td>108.15</td>\n",
              "      <td>1</td>\n",
              "      <td>0</td>\n",
              "      <td>1</td>\n",
              "      <td>1</td>\n",
              "      <td>0</td>\n",
              "      <td>1</td>\n",
              "      <td>0</td>\n",
              "      <td>1</td>\n",
              "      <td>0</td>\n",
              "      <td>0</td>\n",
              "      <td>1</td>\n",
              "      <td>1</td>\n",
              "      <td>0</td>\n",
              "      <td>0</td>\n",
              "      <td>1</td>\n",
              "      <td>0</td>\n",
              "      <td>0</td>\n",
              "      <td>0</td>\n",
              "      <td>0</td>\n",
              "      <td>1</td>\n",
              "      <td>0</td>\n",
              "      <td>0</td>\n",
              "      <td>1</td>\n",
              "      <td>1</td>\n",
              "      <td>0</td>\n",
              "      <td>0</td>\n",
              "      <td>1</td>\n",
              "      <td>0</td>\n",
              "      <td>0</td>\n",
              "      <td>1</td>\n",
              "      <td>0</td>\n",
              "      <td>0</td>\n",
              "      <td>1</td>\n",
              "      <td>0</td>\n",
              "      <td>0</td>\n",
              "      <td>1</td>\n",
              "      <td>0</td>\n",
              "      <td>0</td>\n",
              "      <td>0</td>\n",
              "      <td>1</td>\n",
              "      <td>0</td>\n",
              "      <td>0</td>\n",
              "      <td>0</td>\n",
              "      <td>1</td>\n",
              "    </tr>\n",
              "    <tr>\n",
              "      <th>3</th>\n",
              "      <td>45</td>\n",
              "      <td>42.30</td>\n",
              "      <td>1840.75</td>\n",
              "      <td>0</td>\n",
              "      <td>0</td>\n",
              "      <td>1</td>\n",
              "      <td>1</td>\n",
              "      <td>0</td>\n",
              "      <td>1</td>\n",
              "      <td>0</td>\n",
              "      <td>1</td>\n",
              "      <td>0</td>\n",
              "      <td>1</td>\n",
              "      <td>0</td>\n",
              "      <td>0</td>\n",
              "      <td>1</td>\n",
              "      <td>0</td>\n",
              "      <td>1</td>\n",
              "      <td>0</td>\n",
              "      <td>0</td>\n",
              "      <td>0</td>\n",
              "      <td>0</td>\n",
              "      <td>1</td>\n",
              "      <td>1</td>\n",
              "      <td>0</td>\n",
              "      <td>0</td>\n",
              "      <td>0</td>\n",
              "      <td>0</td>\n",
              "      <td>1</td>\n",
              "      <td>0</td>\n",
              "      <td>0</td>\n",
              "      <td>1</td>\n",
              "      <td>1</td>\n",
              "      <td>0</td>\n",
              "      <td>0</td>\n",
              "      <td>1</td>\n",
              "      <td>0</td>\n",
              "      <td>0</td>\n",
              "      <td>0</td>\n",
              "      <td>1</td>\n",
              "      <td>0</td>\n",
              "      <td>1</td>\n",
              "      <td>0</td>\n",
              "      <td>1</td>\n",
              "      <td>0</td>\n",
              "      <td>0</td>\n",
              "      <td>0</td>\n",
              "    </tr>\n",
              "    <tr>\n",
              "      <th>4</th>\n",
              "      <td>2</td>\n",
              "      <td>70.70</td>\n",
              "      <td>151.65</td>\n",
              "      <td>1</td>\n",
              "      <td>1</td>\n",
              "      <td>0</td>\n",
              "      <td>1</td>\n",
              "      <td>0</td>\n",
              "      <td>1</td>\n",
              "      <td>0</td>\n",
              "      <td>1</td>\n",
              "      <td>0</td>\n",
              "      <td>0</td>\n",
              "      <td>1</td>\n",
              "      <td>1</td>\n",
              "      <td>0</td>\n",
              "      <td>0</td>\n",
              "      <td>0</td>\n",
              "      <td>1</td>\n",
              "      <td>0</td>\n",
              "      <td>1</td>\n",
              "      <td>0</td>\n",
              "      <td>0</td>\n",
              "      <td>1</td>\n",
              "      <td>0</td>\n",
              "      <td>0</td>\n",
              "      <td>1</td>\n",
              "      <td>0</td>\n",
              "      <td>0</td>\n",
              "      <td>1</td>\n",
              "      <td>0</td>\n",
              "      <td>0</td>\n",
              "      <td>1</td>\n",
              "      <td>0</td>\n",
              "      <td>0</td>\n",
              "      <td>1</td>\n",
              "      <td>0</td>\n",
              "      <td>0</td>\n",
              "      <td>1</td>\n",
              "      <td>0</td>\n",
              "      <td>0</td>\n",
              "      <td>0</td>\n",
              "      <td>1</td>\n",
              "      <td>0</td>\n",
              "      <td>0</td>\n",
              "      <td>1</td>\n",
              "      <td>0</td>\n",
              "    </tr>\n",
              "  </tbody>\n",
              "</table>\n",
              "</div>"
            ],
            "text/plain": [
              "   tenure  ...  PaymentMethod_Mailed check\n",
              "0       1  ...                           0\n",
              "1      34  ...                           1\n",
              "2       2  ...                           1\n",
              "3      45  ...                           0\n",
              "4       2  ...                           0\n",
              "\n",
              "[5 rows x 47 columns]"
            ]
          },
          "metadata": {}
        },
        {
          "output_type": "execute_result",
          "data": {
            "text/plain": [
              "(7032, 47)"
            ]
          },
          "metadata": {},
          "execution_count": 192
        }
      ]
    },
    {
      "cell_type": "markdown",
      "metadata": {
        "id": "lmGrawQAPCdl"
      },
      "source": [
        "#### Data Modelling"
      ]
    },
    {
      "cell_type": "code",
      "metadata": {
        "id": "lJI0c43lyYIc"
      },
      "source": [
        "from sklearn.model_selection import train_test_split, GridSearchCV\n",
        "from sklearn.metrics import confusion_matrix, classification_report, precision_score, recall_score, f1_score, accuracy_score\n",
        "from sklearn.pipeline import Pipeline\n",
        "from sklearn.preprocessing import MinMaxScaler\n",
        "from sklearn.tree import DecisionTreeClassifier\n",
        "from sklearn.ensemble import RandomForestClassifier\n",
        "from sklearn.neighbors import KNeighborsClassifier\n",
        "from sklearn.svm import SVC\n",
        "from sklearn.neural_network import MLPClassifier\n",
        "\n",
        "from xgboost import XGBClassifier\n",
        "from collections import Counter\n",
        "from imblearn.over_sampling import SMOTE\n",
        "from imblearn.pipeline import Pipeline as p"
      ],
      "execution_count": null,
      "outputs": []
    },
    {
      "cell_type": "code",
      "metadata": {
        "colab": {
          "base_uri": "https://localhost:8080/",
          "height": 134
        },
        "id": "Dnt4amzpz6Ve",
        "outputId": "508feef2-a1a3-402c-ca80-ff727aeb7e79"
      },
      "source": [
        "# ubah urutan kolom\n",
        "df_encoded = df_encoded[['Churn', 'tenure', 'MonthlyCharges', 'TotalCharges'] + df_encoded.columns.tolist()[4:]].copy()\n",
        "df_encoded.sample(1)"
      ],
      "execution_count": null,
      "outputs": [
        {
          "output_type": "execute_result",
          "data": {
            "text/html": [
              "<div>\n",
              "<style scoped>\n",
              "    .dataframe tbody tr th:only-of-type {\n",
              "        vertical-align: middle;\n",
              "    }\n",
              "\n",
              "    .dataframe tbody tr th {\n",
              "        vertical-align: top;\n",
              "    }\n",
              "\n",
              "    .dataframe thead th {\n",
              "        text-align: right;\n",
              "    }\n",
              "</style>\n",
              "<table border=\"1\" class=\"dataframe\">\n",
              "  <thead>\n",
              "    <tr style=\"text-align: right;\">\n",
              "      <th></th>\n",
              "      <th>Churn</th>\n",
              "      <th>tenure</th>\n",
              "      <th>MonthlyCharges</th>\n",
              "      <th>TotalCharges</th>\n",
              "      <th>gender_Female</th>\n",
              "      <th>gender_Male</th>\n",
              "      <th>SeniorCitizen_No</th>\n",
              "      <th>SeniorCitizen_Yes</th>\n",
              "      <th>Partner_No</th>\n",
              "      <th>Partner_Yes</th>\n",
              "      <th>Dependents_No</th>\n",
              "      <th>Dependents_Yes</th>\n",
              "      <th>PhoneService_No</th>\n",
              "      <th>PhoneService_Yes</th>\n",
              "      <th>MultipleLines_No</th>\n",
              "      <th>MultipleLines_No phone service</th>\n",
              "      <th>MultipleLines_Yes</th>\n",
              "      <th>InternetService_DSL</th>\n",
              "      <th>InternetService_Fiber optic</th>\n",
              "      <th>InternetService_No</th>\n",
              "      <th>OnlineSecurity_No</th>\n",
              "      <th>OnlineSecurity_No internet service</th>\n",
              "      <th>OnlineSecurity_Yes</th>\n",
              "      <th>OnlineBackup_No</th>\n",
              "      <th>OnlineBackup_No internet service</th>\n",
              "      <th>OnlineBackup_Yes</th>\n",
              "      <th>DeviceProtection_No</th>\n",
              "      <th>DeviceProtection_No internet service</th>\n",
              "      <th>DeviceProtection_Yes</th>\n",
              "      <th>TechSupport_No</th>\n",
              "      <th>TechSupport_No internet service</th>\n",
              "      <th>TechSupport_Yes</th>\n",
              "      <th>StreamingTV_No</th>\n",
              "      <th>StreamingTV_No internet service</th>\n",
              "      <th>StreamingTV_Yes</th>\n",
              "      <th>StreamingMovies_No</th>\n",
              "      <th>StreamingMovies_No internet service</th>\n",
              "      <th>StreamingMovies_Yes</th>\n",
              "      <th>Contract_Month-to-month</th>\n",
              "      <th>Contract_One year</th>\n",
              "      <th>Contract_Two year</th>\n",
              "      <th>PaperlessBilling_No</th>\n",
              "      <th>PaperlessBilling_Yes</th>\n",
              "      <th>PaymentMethod_Bank transfer (automatic)</th>\n",
              "      <th>PaymentMethod_Credit card (automatic)</th>\n",
              "      <th>PaymentMethod_Electronic check</th>\n",
              "      <th>PaymentMethod_Mailed check</th>\n",
              "    </tr>\n",
              "  </thead>\n",
              "  <tbody>\n",
              "    <tr>\n",
              "      <th>2636</th>\n",
              "      <td>0</td>\n",
              "      <td>70</td>\n",
              "      <td>113.0</td>\n",
              "      <td>7987.6</td>\n",
              "      <td>1</td>\n",
              "      <td>0</td>\n",
              "      <td>0</td>\n",
              "      <td>1</td>\n",
              "      <td>0</td>\n",
              "      <td>1</td>\n",
              "      <td>1</td>\n",
              "      <td>0</td>\n",
              "      <td>0</td>\n",
              "      <td>1</td>\n",
              "      <td>0</td>\n",
              "      <td>0</td>\n",
              "      <td>1</td>\n",
              "      <td>0</td>\n",
              "      <td>1</td>\n",
              "      <td>0</td>\n",
              "      <td>0</td>\n",
              "      <td>0</td>\n",
              "      <td>1</td>\n",
              "      <td>0</td>\n",
              "      <td>0</td>\n",
              "      <td>1</td>\n",
              "      <td>0</td>\n",
              "      <td>0</td>\n",
              "      <td>1</td>\n",
              "      <td>0</td>\n",
              "      <td>0</td>\n",
              "      <td>1</td>\n",
              "      <td>0</td>\n",
              "      <td>0</td>\n",
              "      <td>1</td>\n",
              "      <td>0</td>\n",
              "      <td>0</td>\n",
              "      <td>1</td>\n",
              "      <td>0</td>\n",
              "      <td>0</td>\n",
              "      <td>1</td>\n",
              "      <td>0</td>\n",
              "      <td>1</td>\n",
              "      <td>0</td>\n",
              "      <td>1</td>\n",
              "      <td>0</td>\n",
              "      <td>0</td>\n",
              "    </tr>\n",
              "  </tbody>\n",
              "</table>\n",
              "</div>"
            ],
            "text/plain": [
              "      Churn  tenure  ...  PaymentMethod_Electronic check  PaymentMethod_Mailed check\n",
              "2636      0      70  ...                               0                           0\n",
              "\n",
              "[1 rows x 47 columns]"
            ]
          },
          "metadata": {},
          "execution_count": 193
        }
      ]
    },
    {
      "cell_type": "code",
      "metadata": {
        "colab": {
          "base_uri": "https://localhost:8080/",
          "height": 297
        },
        "id": "Kve2ol-E1wZD",
        "outputId": "b39f59f0-1ef6-42cf-80c8-d65e428ab0db"
      },
      "source": [
        "# descriptive statistics data preview\n",
        "df.describe()"
      ],
      "execution_count": null,
      "outputs": [
        {
          "output_type": "execute_result",
          "data": {
            "text/html": [
              "<div>\n",
              "<style scoped>\n",
              "    .dataframe tbody tr th:only-of-type {\n",
              "        vertical-align: middle;\n",
              "    }\n",
              "\n",
              "    .dataframe tbody tr th {\n",
              "        vertical-align: top;\n",
              "    }\n",
              "\n",
              "    .dataframe thead th {\n",
              "        text-align: right;\n",
              "    }\n",
              "</style>\n",
              "<table border=\"1\" class=\"dataframe\">\n",
              "  <thead>\n",
              "    <tr style=\"text-align: right;\">\n",
              "      <th></th>\n",
              "      <th>tenure</th>\n",
              "      <th>MonthlyCharges</th>\n",
              "      <th>TotalCharges</th>\n",
              "      <th>Churn</th>\n",
              "    </tr>\n",
              "  </thead>\n",
              "  <tbody>\n",
              "    <tr>\n",
              "      <th>count</th>\n",
              "      <td>7032.000000</td>\n",
              "      <td>7032.000000</td>\n",
              "      <td>7032.000000</td>\n",
              "      <td>7032.000000</td>\n",
              "    </tr>\n",
              "    <tr>\n",
              "      <th>mean</th>\n",
              "      <td>32.421786</td>\n",
              "      <td>64.798208</td>\n",
              "      <td>2283.300441</td>\n",
              "      <td>0.265785</td>\n",
              "    </tr>\n",
              "    <tr>\n",
              "      <th>std</th>\n",
              "      <td>24.545260</td>\n",
              "      <td>30.085974</td>\n",
              "      <td>2266.771362</td>\n",
              "      <td>0.441782</td>\n",
              "    </tr>\n",
              "    <tr>\n",
              "      <th>min</th>\n",
              "      <td>1.000000</td>\n",
              "      <td>18.250000</td>\n",
              "      <td>18.800000</td>\n",
              "      <td>0.000000</td>\n",
              "    </tr>\n",
              "    <tr>\n",
              "      <th>25%</th>\n",
              "      <td>9.000000</td>\n",
              "      <td>35.587500</td>\n",
              "      <td>401.450000</td>\n",
              "      <td>0.000000</td>\n",
              "    </tr>\n",
              "    <tr>\n",
              "      <th>50%</th>\n",
              "      <td>29.000000</td>\n",
              "      <td>70.350000</td>\n",
              "      <td>1397.475000</td>\n",
              "      <td>0.000000</td>\n",
              "    </tr>\n",
              "    <tr>\n",
              "      <th>75%</th>\n",
              "      <td>55.000000</td>\n",
              "      <td>89.862500</td>\n",
              "      <td>3794.737500</td>\n",
              "      <td>1.000000</td>\n",
              "    </tr>\n",
              "    <tr>\n",
              "      <th>max</th>\n",
              "      <td>72.000000</td>\n",
              "      <td>118.750000</td>\n",
              "      <td>8684.800000</td>\n",
              "      <td>1.000000</td>\n",
              "    </tr>\n",
              "  </tbody>\n",
              "</table>\n",
              "</div>"
            ],
            "text/plain": [
              "            tenure  MonthlyCharges  TotalCharges        Churn\n",
              "count  7032.000000     7032.000000   7032.000000  7032.000000\n",
              "mean     32.421786       64.798208   2283.300441     0.265785\n",
              "std      24.545260       30.085974   2266.771362     0.441782\n",
              "min       1.000000       18.250000     18.800000     0.000000\n",
              "25%       9.000000       35.587500    401.450000     0.000000\n",
              "50%      29.000000       70.350000   1397.475000     0.000000\n",
              "75%      55.000000       89.862500   3794.737500     1.000000\n",
              "max      72.000000      118.750000   8684.800000     1.000000"
            ]
          },
          "metadata": {},
          "execution_count": 92
        }
      ]
    },
    {
      "cell_type": "markdown",
      "metadata": {
        "id": "qwhG00SZ0SoM"
      },
      "source": [
        "```\n",
        "data di atas menyatakan bahwa terdapat rentang nilai yang perbedaannya cukup signifikan,\n",
        "contohnya pada kolom \"TotalCharges\" dengan nilai minimalnya 18.8 dan nilai maksimalnya hingga 8684.8.\n",
        "\n",
        "Oleh karena itu perlu dilakukan normalisasi pada data tersebut\n",
        "```"
      ]
    },
    {
      "cell_type": "code",
      "metadata": {
        "id": "FZa1OZ5RzUrx"
      },
      "source": [
        "# split data: variabel X dan y\n",
        "X = df_encoded.iloc[:, 1:]\n",
        "y = df_encoded.loc[:, 'Churn']"
      ],
      "execution_count": null,
      "outputs": []
    },
    {
      "cell_type": "code",
      "metadata": {
        "colab": {
          "base_uri": "https://localhost:8080/"
        },
        "id": "yGygHkTqzp7e",
        "outputId": "ffa56c39-0f63-4f62-fc6d-6fa1d132932a"
      },
      "source": [
        "# split data: training set dan testing set\n",
        "X_train, X_test, y_train, y_test = train_test_split(X, y, test_size=0.1, random_state=4, stratify=y)\n",
        "\n",
        "print(X_train.shape, X_test.shape)\n",
        "print(Counter(y_train))"
      ],
      "execution_count": null,
      "outputs": [
        {
          "output_type": "stream",
          "name": "stdout",
          "text": [
            "(6328, 46) (704, 46)\n",
            "Counter({0: 4646, 1: 1682})\n"
          ]
        }
      ]
    },
    {
      "cell_type": "markdown",
      "metadata": {
        "id": "Gu_7k_CSUhhG"
      },
      "source": [
        "**skenario 1: try different algorithms**"
      ]
    },
    {
      "cell_type": "code",
      "metadata": {
        "colab": {
          "base_uri": "https://localhost:8080/"
        },
        "id": "1nAN4e6t74il",
        "outputId": "b3216d13-4208-4abd-904c-e2a0539cc2b3"
      },
      "source": [
        "# evaluate 6 different algorithms\n",
        "model_list = list([KNeighborsClassifier(), SVC(), RandomForestClassifier(), DecisionTreeClassifier(), MLPClassifier(), XGBClassifier()])\n",
        "\n",
        "precision_0, precision_1 = [], []\n",
        "recall_0, recall_1 = [], []\n",
        "f1_0, f1_1 = [], []\n",
        "acc = []\n",
        "\n",
        "for model in model_list:\n",
        "  pipeline = Pipeline([('scaler', MinMaxScaler()),\n",
        "                       ('classifier', model)\n",
        "                       ])\n",
        "  \n",
        "  m = pipeline.fit(X_train, y_train)\n",
        "  y_pred = m.predict(X_test)\n",
        "\n",
        "  # precision\n",
        "  precision_0.append(precision_score(y_test, y_pred, pos_label=0, zero_division=True)); precision_1.append(precision_score(y_test, y_pred, pos_label=1, zero_division=True))\n",
        "  # recall\n",
        "  recall_0.append(recall_score(y_test, y_pred, pos_label=0, zero_division=True)); recall_1.append(recall_score(y_test, y_pred, pos_label=1, zero_division=True))\n",
        "  # f1 score\n",
        "  f1_0.append(f1_score(y_test, y_pred, pos_label=0, zero_division=True)); f1_1.append(f1_score(y_test, y_pred, pos_label=1, zero_division=True))\n",
        "  # accuracy\n",
        "  acc.append(accuracy_score(y_test, y_pred))"
      ],
      "execution_count": null,
      "outputs": [
        {
          "output_type": "stream",
          "name": "stderr",
          "text": [
            "/usr/local/lib/python3.7/dist-packages/sklearn/neural_network/_multilayer_perceptron.py:571: ConvergenceWarning: Stochastic Optimizer: Maximum iterations (200) reached and the optimization hasn't converged yet.\n",
            "  % self.max_iter, ConvergenceWarning)\n"
          ]
        }
      ]
    },
    {
      "cell_type": "code",
      "metadata": {
        "colab": {
          "base_uri": "https://localhost:8080/",
          "height": 235
        },
        "id": "BMOoZjT1RUZb",
        "outputId": "fc322ce8-ea7c-4ecf-8367-7b02547c6a8b"
      },
      "source": [
        "# create dataframe\n",
        "evaluation = pd.DataFrame(columns = ['model','precision_0','precision_1','recall_0','recall_1','f1-score_0','f1-score_1','accuracy'])\n",
        "\n",
        "model_name = ['KNN', 'SVM', 'Decision Tree', 'Random Forest', 'MLP', 'XGBoost']\n",
        "metrics = [model_name, precision_0, precision_1, recall_0, recall_1, f1_0, f1_1, acc]\n",
        "for i, metric in enumerate(metrics):\n",
        "  evaluation.iloc[:,i] = metric\n",
        "  if i != 0:\n",
        "    evaluation.iloc[:,i] = [f'{met:.2f}' for met in metric]\n",
        "\n",
        "# data preview\n",
        "evaluation.sort_values(by='accuracy', ascending=False)"
      ],
      "execution_count": null,
      "outputs": [
        {
          "output_type": "execute_result",
          "data": {
            "text/html": [
              "<div>\n",
              "<style scoped>\n",
              "    .dataframe tbody tr th:only-of-type {\n",
              "        vertical-align: middle;\n",
              "    }\n",
              "\n",
              "    .dataframe tbody tr th {\n",
              "        vertical-align: top;\n",
              "    }\n",
              "\n",
              "    .dataframe thead th {\n",
              "        text-align: right;\n",
              "    }\n",
              "</style>\n",
              "<table border=\"1\" class=\"dataframe\">\n",
              "  <thead>\n",
              "    <tr style=\"text-align: right;\">\n",
              "      <th></th>\n",
              "      <th>model</th>\n",
              "      <th>precision_0</th>\n",
              "      <th>precision_1</th>\n",
              "      <th>recall_0</th>\n",
              "      <th>recall_1</th>\n",
              "      <th>f1-score_0</th>\n",
              "      <th>f1-score_1</th>\n",
              "      <th>accuracy</th>\n",
              "    </tr>\n",
              "  </thead>\n",
              "  <tbody>\n",
              "    <tr>\n",
              "      <th>5</th>\n",
              "      <td>XGBoost</td>\n",
              "      <td>0.86</td>\n",
              "      <td>0.67</td>\n",
              "      <td>0.90</td>\n",
              "      <td>0.58</td>\n",
              "      <td>0.88</td>\n",
              "      <td>0.62</td>\n",
              "      <td>0.81</td>\n",
              "    </tr>\n",
              "    <tr>\n",
              "      <th>1</th>\n",
              "      <td>SVM</td>\n",
              "      <td>0.83</td>\n",
              "      <td>0.63</td>\n",
              "      <td>0.90</td>\n",
              "      <td>0.49</td>\n",
              "      <td>0.86</td>\n",
              "      <td>0.55</td>\n",
              "      <td>0.79</td>\n",
              "    </tr>\n",
              "    <tr>\n",
              "      <th>2</th>\n",
              "      <td>Decision Tree</td>\n",
              "      <td>0.83</td>\n",
              "      <td>0.62</td>\n",
              "      <td>0.89</td>\n",
              "      <td>0.51</td>\n",
              "      <td>0.86</td>\n",
              "      <td>0.56</td>\n",
              "      <td>0.79</td>\n",
              "    </tr>\n",
              "    <tr>\n",
              "      <th>4</th>\n",
              "      <td>MLP</td>\n",
              "      <td>0.83</td>\n",
              "      <td>0.62</td>\n",
              "      <td>0.89</td>\n",
              "      <td>0.50</td>\n",
              "      <td>0.86</td>\n",
              "      <td>0.56</td>\n",
              "      <td>0.79</td>\n",
              "    </tr>\n",
              "    <tr>\n",
              "      <th>0</th>\n",
              "      <td>KNN</td>\n",
              "      <td>0.83</td>\n",
              "      <td>0.54</td>\n",
              "      <td>0.84</td>\n",
              "      <td>0.51</td>\n",
              "      <td>0.83</td>\n",
              "      <td>0.52</td>\n",
              "      <td>0.75</td>\n",
              "    </tr>\n",
              "    <tr>\n",
              "      <th>3</th>\n",
              "      <td>Random Forest</td>\n",
              "      <td>0.83</td>\n",
              "      <td>0.51</td>\n",
              "      <td>0.82</td>\n",
              "      <td>0.53</td>\n",
              "      <td>0.82</td>\n",
              "      <td>0.52</td>\n",
              "      <td>0.74</td>\n",
              "    </tr>\n",
              "  </tbody>\n",
              "</table>\n",
              "</div>"
            ],
            "text/plain": [
              "           model precision_0 precision_1  ... f1-score_0 f1-score_1 accuracy\n",
              "5        XGBoost        0.86        0.67  ...       0.88       0.62     0.81\n",
              "1            SVM        0.83        0.63  ...       0.86       0.55     0.79\n",
              "2  Decision Tree        0.83        0.62  ...       0.86       0.56     0.79\n",
              "4            MLP        0.83        0.62  ...       0.86       0.56     0.79\n",
              "0            KNN        0.83        0.54  ...       0.83       0.52     0.75\n",
              "3  Random Forest        0.83        0.51  ...       0.82       0.52     0.74\n",
              "\n",
              "[6 rows x 8 columns]"
            ]
          },
          "metadata": {},
          "execution_count": 212
        }
      ]
    },
    {
      "cell_type": "markdown",
      "metadata": {
        "id": "YorhsInZUedD"
      },
      "source": [
        "**skenario 2: improve the best one**"
      ]
    },
    {
      "cell_type": "code",
      "metadata": {
        "colab": {
          "base_uri": "https://localhost:8080/"
        },
        "id": "MME1n_X354Wa",
        "outputId": "6f6e520b-972a-4b79-b9eb-cf13012ab83a"
      },
      "source": [
        "pipeline = Pipeline([('scaler', MinMaxScaler()),\n",
        "                     ('classifier', XGBClassifier())\n",
        "                     ])\n",
        "\n",
        "# parameter yang dapat dituning\n",
        "pipeline.get_params().keys()"
      ],
      "execution_count": null,
      "outputs": [
        {
          "output_type": "execute_result",
          "data": {
            "text/plain": [
              "dict_keys(['memory', 'steps', 'verbose', 'scaler', 'classifier', 'scaler__copy', 'scaler__feature_range', 'classifier__base_score', 'classifier__booster', 'classifier__colsample_bylevel', 'classifier__colsample_bynode', 'classifier__colsample_bytree', 'classifier__gamma', 'classifier__learning_rate', 'classifier__max_delta_step', 'classifier__max_depth', 'classifier__min_child_weight', 'classifier__missing', 'classifier__n_estimators', 'classifier__n_jobs', 'classifier__nthread', 'classifier__objective', 'classifier__random_state', 'classifier__reg_alpha', 'classifier__reg_lambda', 'classifier__scale_pos_weight', 'classifier__seed', 'classifier__silent', 'classifier__subsample', 'classifier__verbosity'])"
            ]
          },
          "metadata": {},
          "execution_count": 213
        }
      ]
    },
    {
      "cell_type": "code",
      "metadata": {
        "colab": {
          "base_uri": "https://localhost:8080/"
        },
        "id": "0cGLnfXm23u_",
        "outputId": "f7683643-7f28-4b3f-a9ac-b4077f9898a0"
      },
      "source": [
        "# improve model\n",
        "params = {'classifier__max_depth': [1, 2, 3, 4, 5],\n",
        "          'classifier__learning_rate': [0.1, 0.01, 0.001],\n",
        "          'classifier__gamma': [0.9, 1.0, 1.1],\n",
        "          'classifier__reg_lambda': [8.0, 9.0, 10.0],\n",
        "}\n",
        "\n",
        "# find best parameters\n",
        "tuned_model = GridSearchCV(estimator=pipeline, param_grid=params, cv=4)\n",
        "tuned_model.fit(X_train, y_train)\n",
        "\n",
        "# best parameters\n",
        "print(tuned_model.best_params_)"
      ],
      "execution_count": null,
      "outputs": [
        {
          "output_type": "stream",
          "name": "stdout",
          "text": [
            "{'classifier__gamma': 1.0, 'classifier__learning_rate': 0.1, 'classifier__max_depth': 4, 'classifier__reg_lambda': 10.0}\n"
          ]
        }
      ]
    },
    {
      "cell_type": "code",
      "metadata": {
        "colab": {
          "base_uri": "https://localhost:8080/"
        },
        "id": "Pm37lmbh5BPU",
        "outputId": "01912c3d-c158-4b95-e011-070351e90a6a"
      },
      "source": [
        "# evaluate model\n",
        "y_pred = tuned_model.predict(X_test)\n",
        "\n",
        "print(classification_report(y_test, y_pred, target_names=['No', 'Yes']))"
      ],
      "execution_count": null,
      "outputs": [
        {
          "output_type": "stream",
          "name": "stdout",
          "text": [
            "              precision    recall  f1-score   support\n",
            "\n",
            "          No       0.85      0.89      0.87       517\n",
            "         Yes       0.66      0.58      0.62       187\n",
            "\n",
            "    accuracy                           0.81       704\n",
            "   macro avg       0.76      0.73      0.74       704\n",
            "weighted avg       0.80      0.81      0.80       704\n",
            "\n"
          ]
        }
      ]
    },
    {
      "cell_type": "code",
      "metadata": {
        "colab": {
          "base_uri": "https://localhost:8080/",
          "height": 265
        },
        "id": "xuiO8t4Z7Wo7",
        "outputId": "52a7fffd-9184-45f2-9b51-5390802aee83"
      },
      "source": [
        "# plot confusion matrix\n",
        "cm = confusion_matrix(y_test, y_pred)\n",
        "\n",
        "sns.heatmap(cm, annot=True, fmt='d', xticklabels=['No','Yes'], yticklabels=['No','Yes'])\n",
        "plt.show()"
      ],
      "execution_count": null,
      "outputs": [
        {
          "output_type": "display_data",
          "data": {
            "image/png": "[encoded data removed]",
            "text/plain": [
              "<Figure size 432x288 with 2 Axes>"
            ]
          },
          "metadata": {
            "needs_background": "light"
          }
        }
      ]
    },
    {
      "cell_type": "markdown",
      "metadata": {
        "id": "GTG3ui2kIVBA"
      },
      "source": [
        "**feature importances**"
      ]
    },
    {
      "cell_type": "code",
      "metadata": {
        "id": "fWD4BnD5IUYP"
      },
      "source": [
        "im = model.feature_importances_"
      ],
      "execution_count": null,
      "outputs": []
    },
    {
      "cell_type": "code",
      "metadata": {
        "id": "yzjrpmq9ByRp"
      },
      "source": [
        "imp_dict = {}\n",
        "\n",
        "for i, im_value, col in zip(range(len(im)), im, X.columns.values.tolist()):\n",
        "  # print(im_value, col)\n",
        "  imp_dict.update({col:im_value})"
      ],
      "execution_count": null,
      "outputs": []
    },
    {
      "cell_type": "code",
      "metadata": {
        "id": "ZH4VlQ7oDUdF"
      },
      "source": [
        "cols = []\n",
        "\n",
        "for i,im_value in enumerate(sorted(imp_dict, reverse=True)):\n",
        "  cols.append(imp_dict[im_value])"
      ],
      "execution_count": null,
      "outputs": []
    },
    {
      "cell_type": "code",
      "metadata": {
        "id": "VVXNqh-7IMFQ"
      },
      "source": [
        "cols = list(imp_dict.keys())\n",
        "vals = list(imp_dict.values())"
      ],
      "execution_count": null,
      "outputs": []
    },
    {
      "cell_type": "code",
      "metadata": {
        "colab": {
          "base_uri": "https://localhost:8080/",
          "height": 714
        },
        "id": "BzR2Ptf7BwMI",
        "outputId": "4acaf476-8582-436b-b5b3-97d0ede447a0"
      },
      "source": [
        "plt.figure(figsize=(10,12))\n",
        "\n",
        "plt.barh(y = range(len(imp_dict)),\n",
        "         width = vals,\n",
        "         tick_label = cols)\n",
        "\n",
        "plt.xlabel('Importances Value')\n",
        "plt.ylabel('Features')\n",
        "plt.show()"
      ],
      "execution_count": null,
      "outputs": [
        {
          "output_type": "display_data",
          "data": {
            "image/png": "[encoded data removed]",
            "text/plain": [
              "<Figure size 720x864 with 1 Axes>"
            ]
          },
          "metadata": {
            "needs_background": "light"
          }
        }
      ]
    },
    {
      "cell_type": "markdown",
      "metadata": {
        "id": "jLo1gpooO6CT"
      },
      "source": [
        "**churn prediction**"
      ]
    },
    {
      "cell_type": "code",
      "metadata": {
        "colab": {
          "base_uri": "https://localhost:8080/",
          "height": 282
        },
        "id": "CdylMAnAJtmG",
        "outputId": "085e87c9-910a-4786-ba88-b1cc4c3c2493"
      },
      "source": [
        "ax = pd.DataFrame({'pred':y_pred}).value_counts().plot(kind='bar', color=['mediumseagreen', 'tomato'])\n",
        "\n",
        "for p in ax.patches:\n",
        "  ax.annotate(p.get_height(),\n",
        "              (p.get_x()+0.18, p.get_height()-70),\n",
        "              color = 'white',\n",
        "              fontweight = 'bold'\n",
        "              )\n",
        "\n",
        "plt.tick_params(axis='y', labelleft=False, left=False)\n",
        "plt.xticks(ticks=[0, 1], labels=['No', 'Yes'], rotation=0)\n",
        "plt.xlabel('Churn Prediction', fontsize=12)\n",
        "plt.show()\n",
        "\n",
        "fig = ax.get_figure()\n",
        "fig.savefig('pred.png')"
      ],
      "execution_count": null,
      "outputs": [
        {
          "output_type": "display_data",
          "data": {
            "image/png": "[encoded data removed]",
            "text/plain": [
              "<Figure size 432x288 with 1 Axes>"
            ]
          },
          "metadata": {
            "needs_background": "light"
          }
        }
      ]
    },
    {
      "cell_type": "code",
      "metadata": {
        "id": "sKzx3jzvJuJw"
      },
      "source": [
        ""
      ],
      "execution_count": null,
      "outputs": []
    }
  ]
}