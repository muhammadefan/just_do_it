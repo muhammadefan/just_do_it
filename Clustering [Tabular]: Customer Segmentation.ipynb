{
  "nbformat": 4,
  "nbformat_minor": 0,
  "metadata": {
    "colab": {
      "name": "Customer Segmentation.ipynb",
      "provenance": [],
      "collapsed_sections": [
        "4361YK0ZdKOc",
        "JjHLYlUSdYmf",
        "a2EFZRaVdEGH",
        "_03RTYdfmaql",
        "9QbVhcsTJSqe",
        "FSScNEuChxMt",
        "jSDnyBkHVYGE",
        "Ij2baf8ktGS-",
        "dF9lIANwtPmY",
        "eTAjD4tIctAR",
        "MxcT5kGBLQUP",
        "KGNtLr6pMDez",
        "p9_polZZ2czU"
      ],
      "mount_file_id": "1P82le6tC8da2aIFy2B8PK7M7FvCWT9Mk",
      "authorship_tag": "ABX9TyO8j2V6DyV1sx3K2MsECmQU",
      "include_colab_link": true
    },
    "kernelspec": {
      "name": "python3",
      "display_name": "Python 3"
    }
  },
  "cells": [
    {
      "cell_type": "markdown",
      "metadata": {
        "id": "view-in-github",
        "colab_type": "text"
      },
      "source": [
        "<a href=\"https://colab.research.google.com/github/muhammadefan/just_do_it/blob/main/Clustering%20%5BTabular%5D%3A%20Customer%20Segmentation.ipynb\" target=\"_parent\"><img src=\"https://colab.research.google.com/assets/colab-badge.svg\" alt=\"Open In Colab\"/></a>"
      ]
    },
    {
      "cell_type": "markdown",
      "metadata": {
        "id": "-ME4dWiI6Cm6"
      },
      "source": [
        "**Customer Segmentation on a Marketplace**\n",
        "\n",
        "by Muhammad Efan Abdulfattah"
      ]
    },
    {
      "cell_type": "markdown",
      "metadata": {
        "id": "L3gA0JDncwve"
      },
      "source": [
        "### 1. Data Preparation"
      ]
    },
    {
      "cell_type": "markdown",
      "metadata": {
        "id": "4361YK0ZdKOc"
      },
      "source": [
        "#### 1.1 Data Loading"
      ]
    },
    {
      "cell_type": "code",
      "metadata": {
        "id": "La_veRCHEfQI"
      },
      "source": [
        "import numpy as np\n",
        "import pandas as pd # data processing\n",
        "import re # regular-expression (regex)\n",
        "import random\n",
        "\n",
        "# data visualization\n",
        "import seaborn as sns\n",
        "from matplotlib import pyplot as plt\n",
        "from matplotlib import style\n",
        "\n",
        "# ignoring future warnings\n",
        "import warnings\n",
        "warnings.filterwarnings(\"ignore\", category=FutureWarning)\n",
        "\n",
        "import os\n",
        "path = '/content/drive/MyDrive/learningPy/dataset/' # you need to adjust this path\n",
        "os.listdir(path)"
      ],
      "execution_count": null,
      "outputs": []
    },
    {
      "cell_type": "code",
      "metadata": {
        "colab": {
          "base_uri": "https://localhost:8080/",
          "height": 142
        },
        "id": "o2kABS4dErUr",
        "outputId": "604dfb18-9739-4b70-8c75-d57546c0e760"
      },
      "source": [
        "# read the dataset\n",
        "df = pd.read_csv(path+'customer_segments.csv')\n",
        "df.head(3)"
      ],
      "execution_count": 6,
      "outputs": [
        {
          "output_type": "execute_result",
          "data": {
            "text/html": [
              "<div>\n",
              "<style scoped>\n",
              "    .dataframe tbody tr th:only-of-type {\n",
              "        vertical-align: middle;\n",
              "    }\n",
              "\n",
              "    .dataframe tbody tr th {\n",
              "        vertical-align: top;\n",
              "    }\n",
              "\n",
              "    .dataframe thead th {\n",
              "        text-align: right;\n",
              "    }\n",
              "</style>\n",
              "<table border=\"1\" class=\"dataframe\">\n",
              "  <thead>\n",
              "    <tr style=\"text-align: right;\">\n",
              "      <th></th>\n",
              "      <th>Nama Pelanggan</th>\n",
              "      <th>Jenis Kelamin</th>\n",
              "      <th>Umur</th>\n",
              "      <th>Profesi</th>\n",
              "      <th>Tipe Residen</th>\n",
              "      <th>NilaiBelanjaSetahun</th>\n",
              "    </tr>\n",
              "  </thead>\n",
              "  <tbody>\n",
              "    <tr>\n",
              "      <th>0</th>\n",
              "      <td>Budi Anggara</td>\n",
              "      <td>Pria</td>\n",
              "      <td>58 tahun</td>\n",
              "      <td>Wiraswasta</td>\n",
              "      <td>Sector</td>\n",
              "      <td>9497927</td>\n",
              "    </tr>\n",
              "    <tr>\n",
              "      <th>1</th>\n",
              "      <td>Shirley Ratuwati</td>\n",
              "      <td>Wanita</td>\n",
              "      <td>14</td>\n",
              "      <td>NaN</td>\n",
              "      <td>Cluster</td>\n",
              "      <td>2722700</td>\n",
              "    </tr>\n",
              "    <tr>\n",
              "      <th>2</th>\n",
              "      <td>Agus Cahyono</td>\n",
              "      <td>Pria</td>\n",
              "      <td>48</td>\n",
              "      <td>Professional</td>\n",
              "      <td>Cluster</td>\n",
              "      <td>5286429</td>\n",
              "    </tr>\n",
              "  </tbody>\n",
              "</table>\n",
              "</div>"
            ],
            "text/plain": [
              "     Nama Pelanggan Jenis Kelamin  ... Tipe Residen NilaiBelanjaSetahun\n",
              "0      Budi Anggara          Pria  ...       Sector             9497927\n",
              "1  Shirley Ratuwati        Wanita  ...      Cluster             2722700\n",
              "2      Agus Cahyono          Pria  ...      Cluster             5286429\n",
              "\n",
              "[3 rows x 6 columns]"
            ]
          },
          "metadata": {
            "tags": []
          },
          "execution_count": 6
        }
      ]
    },
    {
      "cell_type": "markdown",
      "metadata": {
        "id": "JjHLYlUSdYmf"
      },
      "source": [
        "#### 1.2 Data Understanding"
      ]
    },
    {
      "cell_type": "markdown",
      "metadata": {
        "id": "ri0LRtC4d3Qk"
      },
      "source": [
        "```\n",
        "Nama Pelanggan      = customer's name\n",
        "Jenis Kelamin       = gender\n",
        "Umur                = age\n",
        "Profesi             = customer's job name\n",
        "Tipe Residen        = residence type\n",
        "NilaiBelanjaSetahun = yearly expenditure\n",
        "```"
      ]
    },
    {
      "cell_type": "code",
      "metadata": {
        "colab": {
          "base_uri": "https://localhost:8080/"
        },
        "id": "8kfvUU6Jc5mb",
        "outputId": "72dede9f-f74f-4196-bbe5-2df9c51cf4be"
      },
      "source": [
        "df.info()"
      ],
      "execution_count": 7,
      "outputs": [
        {
          "output_type": "stream",
          "text": [
            "<class 'pandas.core.frame.DataFrame'>\n",
            "RangeIndex: 115 entries, 0 to 114\n",
            "Data columns (total 6 columns):\n",
            " #   Column               Non-Null Count  Dtype \n",
            "---  ------               --------------  ----- \n",
            " 0   Nama Pelanggan       115 non-null    object\n",
            " 1   Jenis Kelamin        115 non-null    object\n",
            " 2   Umur                 108 non-null    object\n",
            " 3   Profesi              104 non-null    object\n",
            " 4   Tipe Residen         115 non-null    object\n",
            " 5   NilaiBelanjaSetahun  115 non-null    int64 \n",
            "dtypes: int64(1), object(5)\n",
            "memory usage: 5.5+ KB\n"
          ],
          "name": "stdout"
        }
      ]
    },
    {
      "cell_type": "markdown",
      "metadata": {
        "id": "wGUFyhibeqdT"
      },
      "source": [
        "As the information above, we know that datatype of 'Umur' is not numeric (int or float), thus, let's do an inspection!"
      ]
    },
    {
      "cell_type": "markdown",
      "metadata": {
        "id": "a2EFZRaVdEGH"
      },
      "source": [
        "#### 1.3 Data Cleansing"
      ]
    },
    {
      "cell_type": "markdown",
      "metadata": {
        "id": "_03RTYdfmaql"
      },
      "source": [
        "##### **Duplicated Data Checking**"
      ]
    },
    {
      "cell_type": "code",
      "metadata": {
        "colab": {
          "base_uri": "https://localhost:8080/"
        },
        "id": "E7Y9I8u9oBDk",
        "outputId": "b1787430-94fe-408b-a922-96d30b217942"
      },
      "source": [
        "# duplication check\n",
        "df.duplicated().sum()"
      ],
      "execution_count": null,
      "outputs": [
        {
          "output_type": "execute_result",
          "data": {
            "text/plain": [
              "13"
            ]
          },
          "metadata": {
            "tags": []
          },
          "execution_count": 957
        }
      ]
    },
    {
      "cell_type": "code",
      "metadata": {
        "id": "0pDbS1XEoKKD"
      },
      "source": [
        "# drop duplicated data\n",
        "df.drop_duplicates(inplace=True)"
      ],
      "execution_count": null,
      "outputs": []
    },
    {
      "cell_type": "code",
      "metadata": {
        "colab": {
          "base_uri": "https://localhost:8080/"
        },
        "id": "Tz4-1Wx3oKOg",
        "outputId": "3c75fe30-807a-40b9-f56c-ae6662080606"
      },
      "source": [
        "# duplication check once again\n",
        "df.duplicated().sum()"
      ],
      "execution_count": null,
      "outputs": [
        {
          "output_type": "execute_result",
          "data": {
            "text/plain": [
              "0"
            ]
          },
          "metadata": {
            "tags": []
          },
          "execution_count": 959
        }
      ]
    },
    {
      "cell_type": "markdown",
      "metadata": {
        "id": "9QbVhcsTJSqe"
      },
      "source": [
        "##### **Feature Inspection: Umur**"
      ]
    },
    {
      "cell_type": "code",
      "metadata": {
        "colab": {
          "base_uri": "https://localhost:8080/"
        },
        "id": "ZbkImFCn9psX",
        "outputId": "87b033d0-613a-4b29-8c76-ba4e06f79aa3"
      },
      "source": [
        "# data preview\n",
        "df['Umur'].unique()"
      ],
      "execution_count": null,
      "outputs": [
        {
          "output_type": "execute_result",
          "data": {
            "text/plain": [
              "array(['58 tahun', '14', '48', '53', '41', '24', '64thn', '52', '29',\n",
              "       '33 tahun', '50', '49', '64', '60', '20', '35', '32', '63', '16',\n",
              "       '38', '34', '39', '55', '40', '56', '46', '19', '47', '21', '30',\n",
              "       '25', '26', '31', '18', '22', '45', '33', nan, '27', '17',\n",
              "       '51 thn', '37', '28', '51', '30 tahun'], dtype=object)"
            ]
          },
          "metadata": {
            "tags": []
          },
          "execution_count": 960
        }
      ]
    },
    {
      "cell_type": "code",
      "metadata": {
        "id": "Kd9cAXBp_AOc"
      },
      "source": [
        "# create a function for cleaning the data & converting its datatype\n",
        "def age_inspection(data):\n",
        "  if data is not np.NaN:\n",
        "    value = re.sub('[A-Z a-z \\s]','',data) \n",
        "    return float(value)\n",
        "  else:\n",
        "    return data\n",
        "\n",
        "# execute the function\n",
        "df['Umur'] = df['Umur'].apply(age_inspection)"
      ],
      "execution_count": null,
      "outputs": []
    },
    {
      "cell_type": "code",
      "metadata": {
        "colab": {
          "base_uri": "https://localhost:8080/"
        },
        "id": "zC0nNRRLIcsH",
        "outputId": "0610f6b6-b039-4fe6-c78a-bfa1d2c47982"
      },
      "source": [
        "# data preview\n",
        "df['Umur'].unique()"
      ],
      "execution_count": null,
      "outputs": [
        {
          "output_type": "execute_result",
          "data": {
            "text/plain": [
              "array([58., 14., 48., 53., 41., 24., 64., 52., 29., 33., 50., 49., 60.,\n",
              "       20., 35., 32., 63., 16., 38., 34., 39., 55., 40., 56., 46., 19.,\n",
              "       47., 21., 30., 25., 26., 31., 18., 22., 45., nan, 27., 17., 51.,\n",
              "       37., 28.])"
            ]
          },
          "metadata": {
            "tags": []
          },
          "execution_count": 962
        }
      ]
    },
    {
      "cell_type": "markdown",
      "metadata": {
        "id": "FSScNEuChxMt"
      },
      "source": [
        "##### **Missing Value Checking**"
      ]
    },
    {
      "cell_type": "code",
      "metadata": {
        "colab": {
          "base_uri": "https://localhost:8080/"
        },
        "id": "z__lvx0-c5f-",
        "outputId": "ba2442d6-1131-4848-fd86-9fb0f90fb591"
      },
      "source": [
        "df.isna().sum()"
      ],
      "execution_count": null,
      "outputs": [
        {
          "output_type": "execute_result",
          "data": {
            "text/plain": [
              "Nama Pelanggan         0\n",
              "Jenis Kelamin          0\n",
              "Umur                   7\n",
              "Profesi                9\n",
              "Tipe Residen           0\n",
              "NilaiBelanjaSetahun    0\n",
              "dtype: int64"
            ]
          },
          "metadata": {
            "tags": []
          },
          "execution_count": 963
        }
      ]
    },
    {
      "cell_type": "markdown",
      "metadata": {
        "id": "nGLUF4daLdTA"
      },
      "source": [
        "###### Feature: Umur"
      ]
    },
    {
      "cell_type": "code",
      "metadata": {
        "colab": {
          "base_uri": "https://localhost:8080/"
        },
        "id": "xm7ta5OIc5Ze",
        "outputId": "f76e0771-aeb5-41b2-b81e-ec4cfff8653d"
      },
      "source": [
        "# data visualization\n",
        "sns.boxplot(x='Umur', y='Profesi', data=df)\n",
        "\n",
        "plt.tight_layout()\n",
        "plt.show()"
      ],
      "execution_count": null,
      "outputs": [
        {
          "output_type": "display_data",
          "data": {
            "image/png": "[encoded data removed]",
            "text/plain": [
              "<Figure size 432x288 with 1 Axes>"
            ]
          },
          "metadata": {
            "tags": [],
            "needs_background": "light"
          }
        }
      ]
    },
    {
      "cell_type": "code",
      "metadata": {
        "colab": {
          "base_uri": "https://localhost:8080/"
        },
        "id": "TufU11Lfc5J_",
        "outputId": "3cab4182-c443-40cd-91f3-1ad785df2bd2"
      },
      "source": [
        "# look for q1 & q3 in 'Umur' feature\n",
        "q1_wrs = df[df['Profesi'] == 'Wiraswasta'].quantile(q=0.25, axis=0, numeric_only=True)['Umur']\n",
        "q3_wrs = df[df['Profesi'] == 'Wiraswasta'].quantile(q=0.75, axis=0, numeric_only=True)['Umur']\n",
        "\n",
        "q1_pro = df[df['Profesi'] == 'Professional'].quantile(q=0.25, axis=0, numeric_only=True)['Umur']\n",
        "q3_pro = df[df['Profesi'] == 'Professional'].quantile(q=0.75, axis=0, numeric_only=True)['Umur']\n",
        "\n",
        "q1_irt = df[df['Profesi'] == 'Ibu Rumah Tangga'].quantile(q=0.25, axis=0, numeric_only=True)['Umur']\n",
        "q3_irt = df[df['Profesi'] == 'Ibu Rumah Tangga'].quantile(q=0.75, axis=0, numeric_only=True)['Umur']\n",
        "\n",
        "q1_plj = df[df['Profesi'] == 'Pelajar'].quantile(q=0.25, axis=0, numeric_only=True)['Umur']\n",
        "q3_plj = df[df['Profesi'] == 'Pelajar'].quantile(q=0.75, axis=0, numeric_only=True)['Umur']\n",
        "\n",
        "q1_mhs = df[df['Profesi'] == 'Mahasiswa'].quantile(q=0.25, axis=0, numeric_only=True)['Umur']\n",
        "q3_mhs = df[df['Profesi'] == 'Mahasiswa'].quantile(q=0.75, axis=0, numeric_only=True)['Umur']\n",
        "\n",
        "# data preview\n",
        "print(q1_wrs, q1_pro, q1_irt, q1_plj, q1_mhs)\n",
        "print(q3_wrs, q3_pro, q3_irt, q3_plj, q3_mhs)"
      ],
      "execution_count": null,
      "outputs": [
        {
          "output_type": "stream",
          "text": [
            "27.0 29.5 34.0 16.0 20.5\n",
            "45.5 50.75 48.5 17.5 27.0\n"
          ],
          "name": "stdout"
        }
      ]
    },
    {
      "cell_type": "code",
      "metadata": {
        "id": "4j56xCsKWMJ1"
      },
      "source": [
        "# create a function for imputing the missing value using some conditions\n",
        "def impute_umur(data):\n",
        "  profesi = data[0]\n",
        "  umur = data[1]\n",
        "\n",
        "  if pd.isna(umur):\n",
        "    if profesi == 'Wiraswasta':\n",
        "      return int(random.uniform(q1_wrs, q3_wrs))\n",
        "    elif profesi == 'Professional':\n",
        "      return int(random.uniform(q1_pro, q3_pro))\n",
        "    elif profesi == 'Ibu Rumah Tangga':\n",
        "      return int(random.uniform(q1_irt, q3_irt))\n",
        "    elif profesi == 'Pelajar':\n",
        "      return int(random.uniform(q1_plj, q3_plj))\n",
        "    elif profesi == 'Mahasiswa':\n",
        "      return int(random.uniform(q1_mhs, q3_mhs))\n",
        "    \n",
        "  else:\n",
        "    return int(umur)\n",
        "\n",
        "# execute the function\n",
        "df['Umur'] = df[['Profesi', 'Umur']].apply(impute_umur, axis=1)"
      ],
      "execution_count": null,
      "outputs": []
    },
    {
      "cell_type": "code",
      "metadata": {
        "colab": {
          "base_uri": "https://localhost:8080/"
        },
        "id": "IJRWbY1zWL_v",
        "outputId": "c000f6c0-37c2-4ffc-b211-b32fd965d42f"
      },
      "source": [
        "# missing value checking\n",
        "df.isna().sum()"
      ],
      "execution_count": null,
      "outputs": [
        {
          "output_type": "execute_result",
          "data": {
            "text/plain": [
              "Nama Pelanggan         0\n",
              "Jenis Kelamin          0\n",
              "Umur                   0\n",
              "Profesi                9\n",
              "Tipe Residen           0\n",
              "NilaiBelanjaSetahun    0\n",
              "dtype: int64"
            ]
          },
          "metadata": {
            "tags": []
          },
          "execution_count": 967
        }
      ]
    },
    {
      "cell_type": "code",
      "metadata": {
        "colab": {
          "base_uri": "https://localhost:8080/"
        },
        "id": "Hspz06JpiOri",
        "outputId": "7f7ea248-c892-4890-f840-7da1e903fc93"
      },
      "source": [
        "# data preview\n",
        "df['Umur'].unique()"
      ],
      "execution_count": null,
      "outputs": [
        {
          "output_type": "execute_result",
          "data": {
            "text/plain": [
              "array([58, 14, 48, 53, 41, 24, 64, 52, 29, 33, 50, 49, 60, 20, 35, 32, 63,\n",
              "       16, 38, 34, 39, 55, 40, 56, 46, 19, 47, 21, 30, 25, 26, 31, 18, 22,\n",
              "       45, 42, 27, 17, 51, 37, 28])"
            ]
          },
          "metadata": {
            "tags": []
          },
          "execution_count": 968
        }
      ]
    },
    {
      "cell_type": "markdown",
      "metadata": {
        "id": "HV9m7rMcZa7D"
      },
      "source": [
        "###### Feature: Profesi"
      ]
    },
    {
      "cell_type": "code",
      "metadata": {
        "colab": {
          "base_uri": "https://localhost:8080/"
        },
        "id": "WMSr3kAlaeXl",
        "outputId": "db68df53-33bf-438a-8ca5-b80f64774dbf"
      },
      "source": [
        "df.isna().sum()"
      ],
      "execution_count": null,
      "outputs": [
        {
          "output_type": "execute_result",
          "data": {
            "text/plain": [
              "Nama Pelanggan         0\n",
              "Jenis Kelamin          0\n",
              "Umur                   0\n",
              "Profesi                9\n",
              "Tipe Residen           0\n",
              "NilaiBelanjaSetahun    0\n",
              "dtype: int64"
            ]
          },
          "metadata": {
            "tags": []
          },
          "execution_count": 969
        }
      ]
    },
    {
      "cell_type": "code",
      "metadata": {
        "colab": {
          "base_uri": "https://localhost:8080/"
        },
        "id": "XMfUkKFzeFza",
        "outputId": "afb0fdc4-c3a3-41f2-81a0-0e0c970a46cf"
      },
      "source": [
        "# drop missing value\n",
        "df.dropna(axis=0, how='any', inplace=True)\n",
        "\n",
        "# missing value checking\n",
        "df.isna().sum()"
      ],
      "execution_count": null,
      "outputs": [
        {
          "output_type": "execute_result",
          "data": {
            "text/plain": [
              "Nama Pelanggan         0\n",
              "Jenis Kelamin          0\n",
              "Umur                   0\n",
              "Profesi                0\n",
              "Tipe Residen           0\n",
              "NilaiBelanjaSetahun    0\n",
              "dtype: int64"
            ]
          },
          "metadata": {
            "tags": []
          },
          "execution_count": 970
        }
      ]
    },
    {
      "cell_type": "markdown",
      "metadata": {
        "id": "jSDnyBkHVYGE"
      },
      "source": [
        "##### **Index Re-arranging**"
      ]
    },
    {
      "cell_type": "code",
      "metadata": {
        "colab": {
          "base_uri": "https://localhost:8080/"
        },
        "id": "PrP4tcviUQsu",
        "outputId": "56bf96ce-8294-4cb8-e406-87761ec6a0d9"
      },
      "source": [
        "# check the index\n",
        "df.tail()"
      ],
      "execution_count": null,
      "outputs": [
        {
          "output_type": "execute_result",
          "data": {
            "text/html": [
              "<div>\n",
              "<style scoped>\n",
              "    .dataframe tbody tr th:only-of-type {\n",
              "        vertical-align: middle;\n",
              "    }\n",
              "\n",
              "    .dataframe tbody tr th {\n",
              "        vertical-align: top;\n",
              "    }\n",
              "\n",
              "    .dataframe thead th {\n",
              "        text-align: right;\n",
              "    }\n",
              "</style>\n",
              "<table border=\"1\" class=\"dataframe\">\n",
              "  <thead>\n",
              "    <tr style=\"text-align: right;\">\n",
              "      <th></th>\n",
              "      <th>Nama Pelanggan</th>\n",
              "      <th>Jenis Kelamin</th>\n",
              "      <th>Umur</th>\n",
              "      <th>Profesi</th>\n",
              "      <th>Tipe Residen</th>\n",
              "      <th>NilaiBelanjaSetahun</th>\n",
              "    </tr>\n",
              "  </thead>\n",
              "  <tbody>\n",
              "    <tr>\n",
              "      <th>108</th>\n",
              "      <td>Huang Irene</td>\n",
              "      <td>Wanita</td>\n",
              "      <td>40</td>\n",
              "      <td>Ibu Rumah Tangga</td>\n",
              "      <td>Sector</td>\n",
              "      <td>10141941</td>\n",
              "    </tr>\n",
              "    <tr>\n",
              "      <th>109</th>\n",
              "      <td>Ayu Setiawan</td>\n",
              "      <td>Wanita</td>\n",
              "      <td>32</td>\n",
              "      <td>Wiraswasta</td>\n",
              "      <td>Sector</td>\n",
              "      <td>4540962</td>\n",
              "    </tr>\n",
              "    <tr>\n",
              "      <th>111</th>\n",
              "      <td>Amiruddiah Ratuwati</td>\n",
              "      <td>Wanita</td>\n",
              "      <td>25</td>\n",
              "      <td>Mahasiswa</td>\n",
              "      <td>Sector</td>\n",
              "      <td>6440628</td>\n",
              "    </tr>\n",
              "    <tr>\n",
              "      <th>112</th>\n",
              "      <td>Abdullah</td>\n",
              "      <td>Pria</td>\n",
              "      <td>27</td>\n",
              "      <td>Wiraswasta</td>\n",
              "      <td>Sector</td>\n",
              "      <td>6586943</td>\n",
              "    </tr>\n",
              "    <tr>\n",
              "      <th>113</th>\n",
              "      <td>Rahiman</td>\n",
              "      <td>Pria</td>\n",
              "      <td>20</td>\n",
              "      <td>Mahasiswa</td>\n",
              "      <td>Sector</td>\n",
              "      <td>4242456</td>\n",
              "    </tr>\n",
              "  </tbody>\n",
              "</table>\n",
              "</div>"
            ],
            "text/plain": [
              "          Nama Pelanggan Jenis Kelamin  ...  Tipe Residen NilaiBelanjaSetahun\n",
              "108          Huang Irene        Wanita  ...        Sector            10141941\n",
              "109         Ayu Setiawan        Wanita  ...        Sector             4540962\n",
              "111  Amiruddiah Ratuwati        Wanita  ...        Sector             6440628\n",
              "112             Abdullah          Pria  ...        Sector             6586943\n",
              "113              Rahiman          Pria  ...        Sector             4242456\n",
              "\n",
              "[5 rows x 6 columns]"
            ]
          },
          "metadata": {
            "tags": []
          },
          "execution_count": 971
        }
      ]
    },
    {
      "cell_type": "code",
      "metadata": {
        "colab": {
          "base_uri": "https://localhost:8080/"
        },
        "id": "-CdhOiRGUVJ7",
        "outputId": "9dd3277f-7c06-4436-a7a2-b46379d8ee2d"
      },
      "source": [
        "# resetting the index\n",
        "df.reset_index(drop=True, inplace=True)\n",
        "\n",
        "# data preview\n",
        "df.tail()"
      ],
      "execution_count": null,
      "outputs": [
        {
          "output_type": "execute_result",
          "data": {
            "text/html": [
              "<div>\n",
              "<style scoped>\n",
              "    .dataframe tbody tr th:only-of-type {\n",
              "        vertical-align: middle;\n",
              "    }\n",
              "\n",
              "    .dataframe tbody tr th {\n",
              "        vertical-align: top;\n",
              "    }\n",
              "\n",
              "    .dataframe thead th {\n",
              "        text-align: right;\n",
              "    }\n",
              "</style>\n",
              "<table border=\"1\" class=\"dataframe\">\n",
              "  <thead>\n",
              "    <tr style=\"text-align: right;\">\n",
              "      <th></th>\n",
              "      <th>Nama Pelanggan</th>\n",
              "      <th>Jenis Kelamin</th>\n",
              "      <th>Umur</th>\n",
              "      <th>Profesi</th>\n",
              "      <th>Tipe Residen</th>\n",
              "      <th>NilaiBelanjaSetahun</th>\n",
              "    </tr>\n",
              "  </thead>\n",
              "  <tbody>\n",
              "    <tr>\n",
              "      <th>88</th>\n",
              "      <td>Huang Irene</td>\n",
              "      <td>Wanita</td>\n",
              "      <td>40</td>\n",
              "      <td>Ibu Rumah Tangga</td>\n",
              "      <td>Sector</td>\n",
              "      <td>10141941</td>\n",
              "    </tr>\n",
              "    <tr>\n",
              "      <th>89</th>\n",
              "      <td>Ayu Setiawan</td>\n",
              "      <td>Wanita</td>\n",
              "      <td>32</td>\n",
              "      <td>Wiraswasta</td>\n",
              "      <td>Sector</td>\n",
              "      <td>4540962</td>\n",
              "    </tr>\n",
              "    <tr>\n",
              "      <th>90</th>\n",
              "      <td>Amiruddiah Ratuwati</td>\n",
              "      <td>Wanita</td>\n",
              "      <td>25</td>\n",
              "      <td>Mahasiswa</td>\n",
              "      <td>Sector</td>\n",
              "      <td>6440628</td>\n",
              "    </tr>\n",
              "    <tr>\n",
              "      <th>91</th>\n",
              "      <td>Abdullah</td>\n",
              "      <td>Pria</td>\n",
              "      <td>27</td>\n",
              "      <td>Wiraswasta</td>\n",
              "      <td>Sector</td>\n",
              "      <td>6586943</td>\n",
              "    </tr>\n",
              "    <tr>\n",
              "      <th>92</th>\n",
              "      <td>Rahiman</td>\n",
              "      <td>Pria</td>\n",
              "      <td>20</td>\n",
              "      <td>Mahasiswa</td>\n",
              "      <td>Sector</td>\n",
              "      <td>4242456</td>\n",
              "    </tr>\n",
              "  </tbody>\n",
              "</table>\n",
              "</div>"
            ],
            "text/plain": [
              "         Nama Pelanggan Jenis Kelamin  ...  Tipe Residen NilaiBelanjaSetahun\n",
              "88          Huang Irene        Wanita  ...        Sector            10141941\n",
              "89         Ayu Setiawan        Wanita  ...        Sector             4540962\n",
              "90  Amiruddiah Ratuwati        Wanita  ...        Sector             6440628\n",
              "91             Abdullah          Pria  ...        Sector             6586943\n",
              "92              Rahiman          Pria  ...        Sector             4242456\n",
              "\n",
              "[5 rows x 6 columns]"
            ]
          },
          "metadata": {
            "tags": []
          },
          "execution_count": 972
        }
      ]
    },
    {
      "cell_type": "markdown",
      "metadata": {
        "id": "gWTfzOiydbu5"
      },
      "source": [
        "#### 1.4 Exploratory Data Analysis"
      ]
    },
    {
      "cell_type": "markdown",
      "metadata": {
        "id": "Ij2baf8ktGS-"
      },
      "source": [
        "##### **Number of Customers**"
      ]
    },
    {
      "cell_type": "markdown",
      "metadata": {
        "id": "90oeVKM3r5PE"
      },
      "source": [
        "note:\n",
        "```\n",
        "df_train['Umur'] (first way) or df_train.Umur (second way) will be resulting the same output.\n",
        "The difference is, second way can only be done if the name of feature doesn't separated by whitespace, ex.: 'NilaiBelanjaSetahun'.\n",
        "```"
      ]
    },
    {
      "cell_type": "code",
      "metadata": {
        "colab": {
          "base_uri": "https://localhost:8080/"
        },
        "id": "uzfvhFSlE0gG",
        "outputId": "f7d33bbb-9b44-4dde-dcbc-297b820154a1"
      },
      "source": [
        "# find some data\n",
        "u18_25 = df[(df['Umur'] <= 25) & (df['Umur'] >=12)]['Umur']\n",
        "u26_35 = df[(df['Umur'] <= 35) & (df['Umur'] >=26)]['Umur']\n",
        "u36_45 = df[(df['Umur'] <= 45) & (df['Umur'] >=36)]['Umur']\n",
        "u46_55 = df[(df['Umur'] <= 55) & (df['Umur'] >=46)]['Umur']\n",
        "u56_up = df[df['Umur'] >= 56]['Umur']\n",
        "\n",
        "# define variable for each axis\n",
        "X = [\"12-25\",\"26-35\",\"36-45\",\"46-55\",\"56+\"]\n",
        "Y = [len(u18_25), len(u26_35), len(u36_45), len(u46_55), len(u56_up)]\n",
        "\n",
        "# create a barplot\n",
        "plt.grid(axis='y', zorder=0, linestyle='--', linewidth=1, color='gray')\n",
        "sns.barplot(x=X, y=Y, palette=\"rocket\", zorder=2)\n",
        "\n",
        "plt.title(\"Number of Customers\")\n",
        "plt.xlabel(\"age\")\n",
        "plt.ylabel(\"number of customers\")\n",
        "\n",
        "plt.tight_layout()\n",
        "plt.show()"
      ],
      "execution_count": null,
      "outputs": [
        {
          "output_type": "display_data",
          "data": {
            "image/png": "[encoded data removed]",
            "text/plain": [
              "<Figure size 432x288 with 1 Axes>"
            ]
          },
          "metadata": {
            "tags": [],
            "needs_background": "light"
          }
        }
      ]
    },
    {
      "cell_type": "markdown",
      "metadata": {
        "id": "GGdNPJTD38wq"
      },
      "source": [
        "Based on the chart above, number of customer is dominated by juvenile and early adulthood / people on productive age."
      ]
    },
    {
      "cell_type": "markdown",
      "metadata": {
        "id": "dF9lIANwtPmY"
      },
      "source": [
        "##### **Annual Total Spending**"
      ]
    },
    {
      "cell_type": "code",
      "metadata": {
        "colab": {
          "base_uri": "https://localhost:8080/"
        },
        "id": "-dK-1ByxtLQd",
        "outputId": "38219d17-2d46-48eb-a17c-14284eccce42"
      },
      "source": [
        "# find some data\n",
        "s14_25 = df[(df['Umur'] <= 25) & (df['Umur'] >=14)]['NilaiBelanjaSetahun'].sum() # juvenile\n",
        "s26_35 = df[(df['Umur'] <= 35) & (df['Umur'] >=26)]['NilaiBelanjaSetahun'].sum() # early adulthood\n",
        "s36_45 = df[(df['Umur'] <= 45) & (df['Umur'] >=36)]['NilaiBelanjaSetahun'].sum() # middle adulthood\n",
        "s46_55 = df[(df['Umur'] <= 55) & (df['Umur'] >=46)]['NilaiBelanjaSetahun'].sum() # late adulthood\n",
        "s56_up = df[df['Umur'] >= 56]['NilaiBelanjaSetahun'].sum() # elderly people\n",
        "\n",
        "# define the variable for each axis\n",
        "X = [\"14-25\",\"26-35\",\"36-45\",\"46-55\",\"56+\"]\n",
        "Y = [s14_25, s26_35, s36_45, s46_55, s56_up]\n",
        "\n",
        "# create a barplot\n",
        "plt.grid(axis='y', zorder=0, linestyle='--', linewidth=1, color='gray')\n",
        "sns.barplot(x=X, y=Y, palette=\"rocket\", zorder=2)\n",
        "\n",
        "plt.title(\"Total Spending per-Year\")\n",
        "plt.xlabel(\"umur\")\n",
        "plt.ylabel(\"total spending\")\n",
        "\n",
        "plt.tight_layout()\n",
        "plt.show()"
      ],
      "execution_count": null,
      "outputs": [
        {
          "output_type": "display_data",
          "data": {
            "image/png": "[encoded data removed]",
            "text/plain": [
              "<Figure size 432x288 with 1 Axes>"
            ]
          },
          "metadata": {
            "tags": [],
            "needs_background": "light"
          }
        }
      ]
    },
    {
      "cell_type": "markdown",
      "metadata": {
        "id": "f1ieCXEM2rT-"
      },
      "source": [
        "Based on the chart above, we can get more insight that younger the customer, the more they spend their money, and the big spender are people in early adulthood age."
      ]
    },
    {
      "cell_type": "code",
      "metadata": {
        "colab": {
          "base_uri": "https://localhost:8080/"
        },
        "id": "y032HM0HtLXK",
        "outputId": "09fee0d7-1844-47de-f9a7-dbf5f4b10bd3"
      },
      "source": [
        "# find some data\n",
        "p_wrs = df[df['Profesi'] == 'Wiraswasta']['NilaiBelanjaSetahun'].sum()\n",
        "p_pro = df[df['Profesi'] == 'Professional']['NilaiBelanjaSetahun'].sum()\n",
        "p_irt = df[df['Profesi'] == 'Ibu Rumah Tangga']['NilaiBelanjaSetahun'].sum()\n",
        "p_plj = df[df['Profesi'] == 'Pelajar']['NilaiBelanjaSetahun'].sum()\n",
        "p_mhs = df[df['Profesi'] == 'Mahasiswa']['NilaiBelanjaSetahun'].sum()\n",
        "\n",
        "# define a variable for x-axis\n",
        "X = [p_wrs, p_pro, p_irt, p_plj, p_mhs]\n",
        "\n",
        "# create a barplot\n",
        "plt.grid(axis='x', zorder=0, linestyle='--', linewidth=1, color='gray')\n",
        "sns.barplot(x=X, y=df['Profesi'].unique(), palette='rocket', zorder=2)\n",
        "\n",
        "plt.title(\"Total Spending per-Year\")\n",
        "plt.xlabel(\"total spending\")\n",
        "plt.ylabel(\"profesi\")\n",
        "\n",
        "plt.tight_layout()\n",
        "plt.show()"
      ],
      "execution_count": null,
      "outputs": [
        {
          "output_type": "display_data",
          "data": {
            "image/png": "[encoded data removed]",
            "text/plain": [
              "<Figure size 432x288 with 1 Axes>"
            ]
          },
          "metadata": {
            "tags": [],
            "needs_background": "light"
          }
        }
      ]
    },
    {
      "cell_type": "markdown",
      "metadata": {
        "id": "TpOfCs6X5d2-"
      },
      "source": [
        "Based on the graph above, people who work as 'Wiraswasta' are likely to spend money more than others.\n",
        "\n",
        "And, obviously, the most economical people are juvenile."
      ]
    },
    {
      "cell_type": "markdown",
      "metadata": {
        "id": "eTAjD4tIctAR"
      },
      "source": [
        "### 2. Data Preprocessing"
      ]
    },
    {
      "cell_type": "code",
      "metadata": {
        "colab": {
          "base_uri": "https://localhost:8080/"
        },
        "id": "VgAFayYE-sfp",
        "outputId": "d2184cff-e484-4569-ecc8-12f96102c219"
      },
      "source": [
        "df.info()"
      ],
      "execution_count": null,
      "outputs": [
        {
          "output_type": "stream",
          "text": [
            "<class 'pandas.core.frame.DataFrame'>\n",
            "RangeIndex: 93 entries, 0 to 92\n",
            "Data columns (total 6 columns):\n",
            " #   Column               Non-Null Count  Dtype \n",
            "---  ------               --------------  ----- \n",
            " 0   Nama Pelanggan       93 non-null     object\n",
            " 1   Jenis Kelamin        93 non-null     object\n",
            " 2   Umur                 93 non-null     int64 \n",
            " 3   Profesi              93 non-null     object\n",
            " 4   Tipe Residen         93 non-null     object\n",
            " 5   NilaiBelanjaSetahun  93 non-null     int64 \n",
            "dtypes: int64(2), object(4)\n",
            "memory usage: 4.5+ KB\n"
          ],
          "name": "stdout"
        }
      ]
    },
    {
      "cell_type": "markdown",
      "metadata": {
        "id": "cNR1MCudLLpd"
      },
      "source": [
        "#### 2.1 Drop Unnecessary Feature"
      ]
    },
    {
      "cell_type": "markdown",
      "metadata": {
        "id": "MxcT5kGBLQUP"
      },
      "source": [
        "###### **Drop: Nama Pelanggan**"
      ]
    },
    {
      "cell_type": "code",
      "metadata": {
        "id": "Mj36d2akLW4d"
      },
      "source": [
        "# drop the feature\n",
        "df_modelling = df.drop(columns='Nama Pelanggan', axis=1)"
      ],
      "execution_count": null,
      "outputs": []
    },
    {
      "cell_type": "code",
      "metadata": {
        "colab": {
          "base_uri": "https://localhost:8080/"
        },
        "id": "ZA9H918BL6hp",
        "outputId": "6f06acea-5499-40b6-d044-d82bea064d0e"
      },
      "source": [
        "df_modelling.sample()"
      ],
      "execution_count": null,
      "outputs": [
        {
          "output_type": "execute_result",
          "data": {
            "text/html": [
              "<div>\n",
              "<style scoped>\n",
              "    .dataframe tbody tr th:only-of-type {\n",
              "        vertical-align: middle;\n",
              "    }\n",
              "\n",
              "    .dataframe tbody tr th {\n",
              "        vertical-align: top;\n",
              "    }\n",
              "\n",
              "    .dataframe thead th {\n",
              "        text-align: right;\n",
              "    }\n",
              "</style>\n",
              "<table border=\"1\" class=\"dataframe\">\n",
              "  <thead>\n",
              "    <tr style=\"text-align: right;\">\n",
              "      <th></th>\n",
              "      <th>Jenis Kelamin</th>\n",
              "      <th>Umur</th>\n",
              "      <th>Profesi</th>\n",
              "      <th>Tipe Residen</th>\n",
              "      <th>NilaiBelanjaSetahun</th>\n",
              "    </tr>\n",
              "  </thead>\n",
              "  <tbody>\n",
              "    <tr>\n",
              "      <th>48</th>\n",
              "      <td>Pria</td>\n",
              "      <td>41</td>\n",
              "      <td>Professional</td>\n",
              "      <td>Sector</td>\n",
              "      <td>4898925</td>\n",
              "    </tr>\n",
              "  </tbody>\n",
              "</table>\n",
              "</div>"
            ],
            "text/plain": [
              "   Jenis Kelamin  Umur       Profesi Tipe Residen  NilaiBelanjaSetahun\n",
              "48          Pria    41  Professional       Sector              4898925"
            ]
          },
          "metadata": {
            "tags": []
          },
          "execution_count": 977
        }
      ]
    },
    {
      "cell_type": "markdown",
      "metadata": {
        "id": "KGNtLr6pMDez"
      },
      "source": [
        "#### 2.2 Datatype Checking & Data Encoding"
      ]
    },
    {
      "cell_type": "code",
      "metadata": {
        "colab": {
          "base_uri": "https://localhost:8080/"
        },
        "id": "iVOQMuxgMOOr",
        "outputId": "d27d6657-dda1-41e0-ff1f-cf32fe03279b"
      },
      "source": [
        "df_modelling.dtypes"
      ],
      "execution_count": null,
      "outputs": [
        {
          "output_type": "execute_result",
          "data": {
            "text/plain": [
              "Jenis Kelamin          object\n",
              "Umur                    int64\n",
              "Profesi                object\n",
              "Tipe Residen           object\n",
              "NilaiBelanjaSetahun     int64\n",
              "dtype: object"
            ]
          },
          "metadata": {
            "tags": []
          },
          "execution_count": 978
        }
      ]
    },
    {
      "cell_type": "markdown",
      "metadata": {
        "id": "d4v3R2odMhCm"
      },
      "source": [
        "As we can see above, there are some features which are misclassified, so, we need to convert it first in order we can use it in data modelling."
      ]
    },
    {
      "cell_type": "code",
      "metadata": {
        "id": "36dDCeABMOGt"
      },
      "source": [
        "# encode the data using one hot encoding\n",
        "gender = pd.get_dummies(df_modelling['Jenis Kelamin'], drop_first=True)\n",
        "profesi = pd.get_dummies(df_modelling['Profesi'], drop_first=True)\n",
        "residen = pd.get_dummies(df_modelling['Tipe Residen'], drop_first=True)"
      ],
      "execution_count": null,
      "outputs": []
    },
    {
      "cell_type": "code",
      "metadata": {
        "colab": {
          "base_uri": "https://localhost:8080/",
          "height": 80
        },
        "id": "XT7xoZInMN_P",
        "outputId": "9df4e7eb-264e-43a4-a379-dc4ca6f201fb"
      },
      "source": [
        "# concatenate the df_train and encoded data\n",
        "df_modelling = pd.concat([df_modelling, gender, profesi, residen], axis=1)\n",
        "\n",
        "# data preview\n",
        "df_modelling.sample()"
      ],
      "execution_count": null,
      "outputs": [
        {
          "output_type": "execute_result",
          "data": {
            "text/html": [
              "<div>\n",
              "<style scoped>\n",
              "    .dataframe tbody tr th:only-of-type {\n",
              "        vertical-align: middle;\n",
              "    }\n",
              "\n",
              "    .dataframe tbody tr th {\n",
              "        vertical-align: top;\n",
              "    }\n",
              "\n",
              "    .dataframe thead th {\n",
              "        text-align: right;\n",
              "    }\n",
              "</style>\n",
              "<table border=\"1\" class=\"dataframe\">\n",
              "  <thead>\n",
              "    <tr style=\"text-align: right;\">\n",
              "      <th></th>\n",
              "      <th>Jenis Kelamin</th>\n",
              "      <th>Umur</th>\n",
              "      <th>Profesi</th>\n",
              "      <th>Tipe Residen</th>\n",
              "      <th>NilaiBelanjaSetahun</th>\n",
              "      <th>Wanita</th>\n",
              "      <th>Mahasiswa</th>\n",
              "      <th>Pelajar</th>\n",
              "      <th>Professional</th>\n",
              "      <th>Wiraswasta</th>\n",
              "      <th>Sector</th>\n",
              "    </tr>\n",
              "  </thead>\n",
              "  <tbody>\n",
              "    <tr>\n",
              "      <th>10</th>\n",
              "      <td>Wanita</td>\n",
              "      <td>64</td>\n",
              "      <td>Wiraswasta</td>\n",
              "      <td>Cluster</td>\n",
              "      <td>9333168</td>\n",
              "      <td>1</td>\n",
              "      <td>0</td>\n",
              "      <td>0</td>\n",
              "      <td>0</td>\n",
              "      <td>1</td>\n",
              "      <td>0</td>\n",
              "    </tr>\n",
              "  </tbody>\n",
              "</table>\n",
              "</div>"
            ],
            "text/plain": [
              "   Jenis Kelamin  Umur     Profesi  ... Professional  Wiraswasta  Sector\n",
              "10        Wanita    64  Wiraswasta  ...            0           1       0\n",
              "\n",
              "[1 rows x 11 columns]"
            ]
          },
          "metadata": {
            "tags": []
          },
          "execution_count": 980
        }
      ]
    },
    {
      "cell_type": "code",
      "metadata": {
        "colab": {
          "base_uri": "https://localhost:8080/",
          "height": 80
        },
        "id": "x_8X81Y8MN0_",
        "outputId": "dc560594-2359-493c-a4e4-79e3ab10f00f"
      },
      "source": [
        "# drop unused features\n",
        "df_modelling.drop(columns=['Jenis Kelamin', 'Profesi', 'Tipe Residen'], axis=1, inplace=True)\n",
        "\n",
        "# data preview\n",
        "df_modelling.sample()"
      ],
      "execution_count": null,
      "outputs": [
        {
          "output_type": "execute_result",
          "data": {
            "text/html": [
              "<div>\n",
              "<style scoped>\n",
              "    .dataframe tbody tr th:only-of-type {\n",
              "        vertical-align: middle;\n",
              "    }\n",
              "\n",
              "    .dataframe tbody tr th {\n",
              "        vertical-align: top;\n",
              "    }\n",
              "\n",
              "    .dataframe thead th {\n",
              "        text-align: right;\n",
              "    }\n",
              "</style>\n",
              "<table border=\"1\" class=\"dataframe\">\n",
              "  <thead>\n",
              "    <tr style=\"text-align: right;\">\n",
              "      <th></th>\n",
              "      <th>Umur</th>\n",
              "      <th>NilaiBelanjaSetahun</th>\n",
              "      <th>Wanita</th>\n",
              "      <th>Mahasiswa</th>\n",
              "      <th>Pelajar</th>\n",
              "      <th>Professional</th>\n",
              "      <th>Wiraswasta</th>\n",
              "      <th>Sector</th>\n",
              "    </tr>\n",
              "  </thead>\n",
              "  <tbody>\n",
              "    <tr>\n",
              "      <th>73</th>\n",
              "      <td>25</td>\n",
              "      <td>6499491</td>\n",
              "      <td>1</td>\n",
              "      <td>0</td>\n",
              "      <td>0</td>\n",
              "      <td>0</td>\n",
              "      <td>0</td>\n",
              "      <td>1</td>\n",
              "    </tr>\n",
              "  </tbody>\n",
              "</table>\n",
              "</div>"
            ],
            "text/plain": [
              "    Umur  NilaiBelanjaSetahun  Wanita  ...  Professional  Wiraswasta  Sector\n",
              "73    25              6499491       1  ...             0           0       1\n",
              "\n",
              "[1 rows x 8 columns]"
            ]
          },
          "metadata": {
            "tags": []
          },
          "execution_count": 981
        }
      ]
    },
    {
      "cell_type": "markdown",
      "metadata": {
        "id": "p9_polZZ2czU"
      },
      "source": [
        "### 3. Data Modelling"
      ]
    },
    {
      "cell_type": "code",
      "metadata": {
        "colab": {
          "base_uri": "https://localhost:8080/",
          "height": 295
        },
        "id": "hYlI5TJ0Tpc1",
        "outputId": "661e3c25-54b7-485b-9720-cfbc42c77db6"
      },
      "source": [
        "from sklearn.cluster import KMeans\n",
        "\n",
        "# doing elbow method\n",
        "sum_of_squared_distances = []\n",
        "K = range(2,11)\n",
        "for k in K:\n",
        "    km = KMeans(n_clusters=k)\n",
        "    km = km.fit(df_modelling)\n",
        "    sum_of_squared_distances.append(km.inertia_)\n",
        "\n",
        "\n",
        "# viz for finding the best K-value\n",
        "plt.plot(K, sum_of_squared_distances, 'bx-')\n",
        "plt.xlabel('k')\n",
        "plt.ylabel('Sum_of_squared_distances')\n",
        "plt.title('Elbow Method For Optimal k')\n",
        "plt.show()"
      ],
      "execution_count": null,
      "outputs": [
        {
          "output_type": "display_data",
          "data": {
            "image/png": "[encoded data removed]",
            "text/plain": [
              "<Figure size 432x288 with 1 Axes>"
            ]
          },
          "metadata": {
            "tags": [],
            "needs_background": "light"
          }
        }
      ]
    },
    {
      "cell_type": "code",
      "metadata": {
        "colab": {
          "base_uri": "https://localhost:8080/"
        },
        "id": "boNW3tY_TuTY",
        "outputId": "6f09a7eb-1d50-4569-cc76-548c433e98c0"
      },
      "source": [
        "# 'n_cluster' value based on elbow method\n",
        "cluster = KMeans(n_clusters=5)\n",
        "\n",
        "# training phase\n",
        "cluster.fit(df_modelling)"
      ],
      "execution_count": null,
      "outputs": [
        {
          "output_type": "execute_result",
          "data": {
            "text/plain": [
              "KMeans(algorithm='auto', copy_x=True, init='k-means++', max_iter=300,\n",
              "       n_clusters=5, n_init=10, n_jobs=None, precompute_distances='auto',\n",
              "       random_state=None, tol=0.0001, verbose=0)"
            ]
          },
          "metadata": {
            "tags": []
          },
          "execution_count": 984
        }
      ]
    },
    {
      "cell_type": "code",
      "metadata": {
        "id": "-z6DBFxdT07s"
      },
      "source": [
        "# create a series for storing the data modelling result\n",
        "segment = pd.Series(cluster.labels_, name=\"segment\")"
      ],
      "execution_count": null,
      "outputs": []
    },
    {
      "cell_type": "code",
      "metadata": {
        "colab": {
          "base_uri": "https://localhost:8080/",
          "height": 359
        },
        "id": "7Ibl-m2WT3ly",
        "outputId": "2c9757a2-fdeb-4fa0-9062-525a63cf01b0"
      },
      "source": [
        "# data concatenation\n",
        "df_result = pd.concat([df_train, segment], axis=1)\n",
        "\n",
        "# data preview\n",
        "df_result.head(10)"
      ],
      "execution_count": null,
      "outputs": [
        {
          "output_type": "execute_result",
          "data": {
            "text/html": [
              "<div>\n",
              "<style scoped>\n",
              "    .dataframe tbody tr th:only-of-type {\n",
              "        vertical-align: middle;\n",
              "    }\n",
              "\n",
              "    .dataframe tbody tr th {\n",
              "        vertical-align: top;\n",
              "    }\n",
              "\n",
              "    .dataframe thead th {\n",
              "        text-align: right;\n",
              "    }\n",
              "</style>\n",
              "<table border=\"1\" class=\"dataframe\">\n",
              "  <thead>\n",
              "    <tr style=\"text-align: right;\">\n",
              "      <th></th>\n",
              "      <th>Nama Pelanggan</th>\n",
              "      <th>Jenis Kelamin</th>\n",
              "      <th>Umur</th>\n",
              "      <th>Profesi</th>\n",
              "      <th>Tipe Residen</th>\n",
              "      <th>NilaiBelanjaSetahun</th>\n",
              "      <th>segment</th>\n",
              "    </tr>\n",
              "  </thead>\n",
              "  <tbody>\n",
              "    <tr>\n",
              "      <th>0</th>\n",
              "      <td>Budi Anggara</td>\n",
              "      <td>Pria</td>\n",
              "      <td>58.0</td>\n",
              "      <td>Wiraswasta</td>\n",
              "      <td>Sector</td>\n",
              "      <td>9497927</td>\n",
              "      <td>4</td>\n",
              "    </tr>\n",
              "    <tr>\n",
              "      <th>1</th>\n",
              "      <td>Agus Cahyono</td>\n",
              "      <td>Pria</td>\n",
              "      <td>14.0</td>\n",
              "      <td>Professional</td>\n",
              "      <td>Cluster</td>\n",
              "      <td>5286429</td>\n",
              "      <td>1</td>\n",
              "    </tr>\n",
              "    <tr>\n",
              "      <th>2</th>\n",
              "      <td>Antonius Winarta</td>\n",
              "      <td>Pria</td>\n",
              "      <td>48.0</td>\n",
              "      <td>Professional</td>\n",
              "      <td>Cluster</td>\n",
              "      <td>5204498</td>\n",
              "      <td>1</td>\n",
              "    </tr>\n",
              "    <tr>\n",
              "      <th>3</th>\n",
              "      <td>Ibu Sri Wahyuni, IR</td>\n",
              "      <td>Wanita</td>\n",
              "      <td>53.0</td>\n",
              "      <td>Wiraswasta</td>\n",
              "      <td>Cluster</td>\n",
              "      <td>10615206</td>\n",
              "      <td>0</td>\n",
              "    </tr>\n",
              "    <tr>\n",
              "      <th>4</th>\n",
              "      <td>Rosalina Kurnia</td>\n",
              "      <td>Wanita</td>\n",
              "      <td>41.0</td>\n",
              "      <td>Professional</td>\n",
              "      <td>Cluster</td>\n",
              "      <td>5215541</td>\n",
              "      <td>1</td>\n",
              "    </tr>\n",
              "    <tr>\n",
              "      <th>5</th>\n",
              "      <td>Agus Kuncoro</td>\n",
              "      <td>Pria</td>\n",
              "      <td>24.0</td>\n",
              "      <td>Wiraswasta</td>\n",
              "      <td>Sector</td>\n",
              "      <td>9837260</td>\n",
              "      <td>0</td>\n",
              "    </tr>\n",
              "    <tr>\n",
              "      <th>6</th>\n",
              "      <td>Danang Santosa</td>\n",
              "      <td>Pria</td>\n",
              "      <td>64.0</td>\n",
              "      <td>Professional</td>\n",
              "      <td>Cluster</td>\n",
              "      <td>5223569</td>\n",
              "      <td>1</td>\n",
              "    </tr>\n",
              "    <tr>\n",
              "      <th>7</th>\n",
              "      <td>Elisabeth Suryadinata</td>\n",
              "      <td>Wanita</td>\n",
              "      <td>52.0</td>\n",
              "      <td>Professional</td>\n",
              "      <td>Sector</td>\n",
              "      <td>5993218</td>\n",
              "      <td>1</td>\n",
              "    </tr>\n",
              "    <tr>\n",
              "      <th>8</th>\n",
              "      <td>Maria Suryawan</td>\n",
              "      <td>Wanita</td>\n",
              "      <td>29.0</td>\n",
              "      <td>Professional</td>\n",
              "      <td>Sector</td>\n",
              "      <td>5987367</td>\n",
              "      <td>1</td>\n",
              "    </tr>\n",
              "    <tr>\n",
              "      <th>9</th>\n",
              "      <td>Erliana Widjaja</td>\n",
              "      <td>Wanita</td>\n",
              "      <td>NaN</td>\n",
              "      <td>Professional</td>\n",
              "      <td>Sector</td>\n",
              "      <td>5941914</td>\n",
              "      <td>1</td>\n",
              "    </tr>\n",
              "  </tbody>\n",
              "</table>\n",
              "</div>"
            ],
            "text/plain": [
              "          Nama Pelanggan Jenis Kelamin  ...  NilaiBelanjaSetahun segment\n",
              "0           Budi Anggara          Pria  ...              9497927       4\n",
              "1           Agus Cahyono          Pria  ...              5286429       1\n",
              "2       Antonius Winarta          Pria  ...              5204498       1\n",
              "3    Ibu Sri Wahyuni, IR        Wanita  ...             10615206       0\n",
              "4        Rosalina Kurnia        Wanita  ...              5215541       1\n",
              "5           Agus Kuncoro          Pria  ...              9837260       0\n",
              "6         Danang Santosa          Pria  ...              5223569       1\n",
              "7  Elisabeth Suryadinata        Wanita  ...              5993218       1\n",
              "8         Maria Suryawan        Wanita  ...              5987367       1\n",
              "9        Erliana Widjaja        Wanita  ...              5941914       1\n",
              "\n",
              "[10 rows x 7 columns]"
            ]
          },
          "metadata": {
            "tags": []
          },
          "execution_count": 986
        }
      ]
    },
    {
      "cell_type": "markdown",
      "metadata": {
        "id": "aiCoXM3A6_Tg"
      },
      "source": [
        "**Final Result**"
      ]
    },
    {
      "cell_type": "code",
      "metadata": {
        "colab": {
          "base_uri": "https://localhost:8080/",
          "height": 307
        },
        "id": "lOAXSyfpDF1U",
        "outputId": "01a0516e-3bc5-435b-ff1b-2e1bc6a01493"
      },
      "source": [
        "sns.scatterplot(x=df_result[df_result[\"segment\"]==0]['Umur'], y=df_result[df_result[\"segment\"]==0]['NilaiBelanjaSetahun'], color=\"red\")\n",
        "sns.scatterplot(x=df_result[df_result[\"segment\"]==1]['Umur'], y=df_result[df_result[\"segment\"]==1]['NilaiBelanjaSetahun'], color=\"green\")\n",
        "sns.scatterplot(x=df_result[df_result[\"segment\"]==2]['Umur'], y=df_result[df_result[\"segment\"]==2]['NilaiBelanjaSetahun'], color=\"blue\")\n",
        "sns.scatterplot(x=df_result[df_result[\"segment\"]==3]['Umur'], y=df_result[df_result[\"segment\"]==3]['NilaiBelanjaSetahun'], color=\"gray\")\n",
        "sns.scatterplot(x=df_result[df_result[\"segment\"]==4]['Umur'], y=df_result[df_result[\"segment\"]==4]['NilaiBelanjaSetahun'], color=\"black\")"
      ],
      "execution_count": null,
      "outputs": [
        {
          "output_type": "execute_result",
          "data": {
            "text/plain": [
              "<matplotlib.axes._subplots.AxesSubplot at 0x7fa9ec845650>"
            ]
          },
          "metadata": {
            "tags": []
          },
          "execution_count": 987
        },
        {
          "output_type": "display_data",
          "data": {
            "image/png": "[encoded data removed]",
            "text/plain": [
              "<Figure size 432x288 with 1 Axes>"
            ]
          },
          "metadata": {
            "tags": [],
            "needs_background": "light"
          }
        }
      ]
    },
    {
      "cell_type": "code",
      "metadata": {
        "colab": {
          "base_uri": "https://localhost:8080/",
          "height": 307
        },
        "id": "21YNZfy0ZRSk",
        "outputId": "742b17a0-f905-4132-ab33-7726eadfaa2a"
      },
      "source": [
        "sns.boxplot(x=\"segment\", y=\"NilaiBelanjaSetahun\", data=df_result)"
      ],
      "execution_count": null,
      "outputs": [
        {
          "output_type": "execute_result",
          "data": {
            "text/plain": [
              "<matplotlib.axes._subplots.AxesSubplot at 0x7fa9ecb9f710>"
            ]
          },
          "metadata": {
            "tags": []
          },
          "execution_count": 874
        },
        {
          "output_type": "display_data",
          "data": {
            "image/png": "[encoded data removed]",
            "text/plain": [
              "<Figure size 432x288 with 1 Axes>"
            ]
          },
          "metadata": {
            "tags": [],
            "needs_background": "light"
          }
        }
      ]
    },
    {
      "cell_type": "code",
      "metadata": {
        "colab": {
          "base_uri": "https://localhost:8080/",
          "height": 296
        },
        "id": "2SMRRYb__bQI",
        "outputId": "6fc25537-c624-44f2-abed-103c0cb9fc6f"
      },
      "source": [
        "sns.boxplot(x=\"segment\", y=\"Umur\", data=df_result)"
      ],
      "execution_count": null,
      "outputs": [
        {
          "output_type": "execute_result",
          "data": {
            "text/plain": [
              "<matplotlib.axes._subplots.AxesSubplot at 0x7fa9ecc53050>"
            ]
          },
          "metadata": {
            "tags": []
          },
          "execution_count": 873
        },
        {
          "output_type": "display_data",
          "data": {
            "image/png": "[encoded data removed]",
            "text/plain": [
              "<Figure size 432x288 with 1 Axes>"
            ]
          },
          "metadata": {
            "tags": [],
            "needs_background": "light"
          }
        }
      ]
    }
  ]
}